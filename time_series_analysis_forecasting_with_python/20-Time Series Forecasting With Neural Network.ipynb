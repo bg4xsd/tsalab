{
 "cells": [
  {
   "cell_type": "markdown",
   "id": "5b7e6997-cb9b-4001-b79a-89a8ab03b69c",
   "metadata": {},
   "source": [
    "## Time Series Forecasting With Neural Network\n",
    "\n",
    "Using Neural Network for Time Series Forecasting, something about Tensorflow and Pytorch"
   ]
  },
  {
   "cell_type": "code",
   "execution_count": null,
   "id": "b160c615-2457-4818-a10b-e23f97e24891",
   "metadata": {},
   "outputs": [],
   "source": []
  }
 ],
 "metadata": {
  "kernelspec": {
   "display_name": "Python [conda env:da310] *",
   "language": "python",
   "name": "conda-env-da310-py"
  },
  "language_info": {
   "codemirror_mode": {
    "name": "ipython",
    "version": 3
   },
   "file_extension": ".py",
   "mimetype": "text/x-python",
   "name": "python",
   "nbconvert_exporter": "python",
   "pygments_lexer": "ipython3",
   "version": "3.10.11"
  }
 },
 "nbformat": 4,
 "nbformat_minor": 5
}
