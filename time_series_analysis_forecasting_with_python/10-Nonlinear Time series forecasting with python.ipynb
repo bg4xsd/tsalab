{
 "cells": [
  {
   "cell_type": "markdown",
   "id": "c7e432c1-7545-4cd7-a8cd-bfaf1aa6673d",
   "metadata": {},
   "source": [
    "## Nonlinear Time series forecasting with python\n",
    "\n",
    "Below we'll talk about nonlinear time series forecasting,  something about chaotic time series."
   ]
  },
  {
   "cell_type": "code",
   "execution_count": 1,
   "id": "288406af-e699-4729-9d63-cf3368ea0efc",
   "metadata": {
    "execution": {
     "iopub.execute_input": "2023-05-16T07:38:03.102585Z",
     "iopub.status.busy": "2023-05-16T07:38:03.102068Z",
     "iopub.status.idle": "2023-05-16T07:38:04.897156Z",
     "shell.execute_reply": "2023-05-16T07:38:04.896274Z",
     "shell.execute_reply.started": "2023-05-16T07:38:03.102559Z"
    }
   },
   "outputs": [],
   "source": [
    "%load_ext rpy2.ipython"
   ]
  },
  {
   "cell_type": "code",
   "execution_count": null,
   "id": "d6518e60-cf9f-4477-82c4-ea91540c6769",
   "metadata": {},
   "outputs": [],
   "source": []
  }
 ],
 "metadata": {
  "kernelspec": {
   "display_name": "Python [conda env:da310] *",
   "language": "python",
   "name": "conda-env-da310-py"
  },
  "language_info": {
   "codemirror_mode": {
    "name": "ipython",
    "version": 3
   },
   "file_extension": ".py",
   "mimetype": "text/x-python",
   "name": "python",
   "nbconvert_exporter": "python",
   "pygments_lexer": "ipython3",
   "version": "3.10.11"
  }
 },
 "nbformat": 4,
 "nbformat_minor": 5
}
