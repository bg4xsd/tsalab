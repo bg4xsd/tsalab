{
 "cells": [
  {
   "cell_type": "code",
   "execution_count": null,
   "id": "5b0293d2-7084-4591-b05d-b84e0041e9e2",
   "metadata": {},
   "outputs": [],
   "source": []
  }
 ],
 "metadata": {
  "kernelspec": {
   "display_name": "Python [conda env:da310] *",
   "language": "python",
   "name": "conda-env-da310-py"
  },
  "language_info": {
   "codemirror_mode": {
    "name": "ipython",
    "version": 3
   },
   "file_extension": ".py",
   "mimetype": "text/x-python",
   "name": "python",
   "nbconvert_exporter": "python",
   "pygments_lexer": "ipython3",
   "version": "3.10.11"
  }
 },
 "nbformat": 4,
 "nbformat_minor": 5
}
