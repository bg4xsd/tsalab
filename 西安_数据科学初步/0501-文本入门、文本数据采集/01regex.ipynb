{
 "cells": [
  {
   "cell_type": "code",
   "execution_count": 1,
   "id": "29a91031",
   "metadata": {},
   "outputs": [],
   "source": [
    "#string functions"
   ]
  },
  {
   "cell_type": "code",
   "execution_count": 2,
   "id": "45fda94d",
   "metadata": {},
   "outputs": [
    {
     "name": "stdout",
     "output_type": "stream",
     "text": [
      "newstring:  thwas was string example ... wow!!!thwas was really string;\n",
      "newstring:  thwas was string example ... wow!!!thwas is really string;\n",
      "newstring:  thwas was string example     wow   thwas is really string \n"
     ]
    }
   ],
   "source": [
    "string = \"this is string example ... wow!!!this is really string;\"\n",
    "newstring = string.replace(\"is\", \"was\")#全部替换\n",
    "print(\"newstring: \", newstring)\n",
    "\n",
    "newstring = string.replace(\"is\", \"was\",3)#替换不超过3次\n",
    "print(\"newstring: \", newstring)\n",
    "\n",
    "newstring = newstring.replace(\".\", \" \").\\\n",
    "    replace(\"!\", \" \").\\\n",
    "    replace(\";\", \" \")#替换\n",
    "print(\"newstring: \", newstring)"
   ]
  },
  {
   "cell_type": "code",
   "execution_count": 3,
   "id": "0467733c",
   "metadata": {},
   "outputs": [
    {
     "name": "stdout",
     "output_type": "stream",
     "text": [
      "['this', 'is', 'string', 'example', '...', 'wow!!!this', 'is', 'really', 'string;']\n",
      "['this', 'is', 'string', 'example ... wow!!!this is really string;']\n"
     ]
    }
   ],
   "source": [
    "string = \"this is string example ... wow!!!this is really string;\"\n",
    "print(string.split(\" \"))#按照空格分割\n",
    "print(string.split(\" \",3))#按照空格分割3次\n"
   ]
  },
  {
   "cell_type": "code",
   "execution_count": 4,
   "id": "12b05151",
   "metadata": {},
   "outputs": [
    {
     "name": "stdout",
     "output_type": "stream",
     "text": [
      "ruc data science \n",
      "ruc data science\n"
     ]
    }
   ],
   "source": [
    "string = \"010ruc data science 101\"\n",
    "print(string.strip(\"10\"))#删除首尾1,0,以及空格\n",
    "\n",
    "string = \"     ruc data science    \"\n",
    "print(string.strip(\" \"))#删掉首尾的空格\n"
   ]
  },
  {
   "cell_type": "code",
   "execution_count": 5,
   "id": "8401dc06",
   "metadata": {},
   "outputs": [
    {
     "name": "stdout",
     "output_type": "stream",
     "text": [
      "RENMIN UNIVERSITY OF CHINA\n",
      "renmin university of china\n"
     ]
    }
   ],
   "source": [
    "string = \"Renmin University of China\"\n",
    "print(string.upper())\n",
    "print(string.lower())"
   ]
  },
  {
   "cell_type": "code",
   "execution_count": 6,
   "id": "e6a7f9a5",
   "metadata": {},
   "outputs": [],
   "source": [
    "#cut long string"
   ]
  },
  {
   "cell_type": "code",
   "execution_count": 7,
   "id": "0d93e3ab",
   "metadata": {},
   "outputs": [
    {
     "name": "stdout",
     "output_type": "stream",
     "text": [
      "day:  26\n",
      "month:  Jan\n",
      "rest:  2014:10:47:58 -0800\n",
      "year:  2014\n",
      "hour:  10\n",
      "minute:  47\n",
      "seconds:  58\n",
      "time_zone:  -0800\n"
     ]
    }
   ],
   "source": [
    "line = \"169.237.46.168 - - [26/Jan/2014:10:47:58 -0800] \\\"GET /stat141/Winter04/ HTTP/1.1\\\" 200 2585 \\\"http://anson.ucdavis.edu/courses/\\\"\"\n",
    "day,month, rest = line.split('[')[1].split(']')[0].split('/')\n",
    "print(\"day: \",day)\n",
    "print(\"month: \",month)\n",
    "print(\"rest: \",rest)\n",
    "year,hour,minute,seconds = rest.split(' ')[0].split(':')\n",
    "print(\"year: \",year)\n",
    "print(\"hour: \",hour)\n",
    "print(\"minute: \",minute)\n",
    "print(\"seconds: \",seconds)\n",
    "time_zone = rest.split(' ')[1]\n",
    "print(\"time_zone: \",time_zone)\n"
   ]
  },
  {
   "cell_type": "code",
   "execution_count": 8,
   "id": "f1a1cb51",
   "metadata": {},
   "outputs": [
    {
     "name": "stdout",
     "output_type": "stream",
     "text": [
      "[26/Jan/2014:10:47:58 -0800]\n",
      "year:  2014\n",
      "month:  Jan\n",
      "day:  26\n",
      "hour:  10\n",
      "minute:  47\n",
      "seconds:  58\n",
      "time_zone:  -0800\n"
     ]
    }
   ],
   "source": [
    "import re\n",
    "\n",
    "line = \"169.237.46.168 - - [26/Jan/2014:10:47:58 -0800] \\\"GET /stat141/Winter04/ HTTP/1.1\\\" 200 2585 \\\"http://anson.ucdavis.edu/courses/\\\"\"\n",
    "pattern = r'\\[(\\d+)/(\\w+)/(\\d+):(\\d+):(\\d+):(\\d+) (.+)\\]'\n",
    "\n",
    "match = re.search(pattern, line)\n",
    "print (match.group())\n",
    "\n",
    "day,month,year,hour,minute,seconds,time_zone = re.search( pattern, line).groups()\n",
    "print(\"year: \",year)\n",
    "print(\"month: \",month)\n",
    "print(\"day: \",day)\n",
    "print(\"hour: \",hour)\n",
    "print(\"minute: \",minute)\n",
    "print(\"seconds: \",seconds)\n",
    "print(\"time_zone: \",time_zone)"
   ]
  },
  {
   "cell_type": "code",
   "execution_count": 9,
   "id": "7f55e79e",
   "metadata": {},
   "outputs": [],
   "source": [
    "# canonicalize_county"
   ]
  },
  {
   "cell_type": "code",
   "execution_count": 10,
   "id": "a38d2df4",
   "metadata": {},
   "outputs": [
    {
     "name": "stdout",
     "output_type": "stream",
     "text": [
      "['dewitt', 'lacquiparle', 'lewisandclark', 'stjohnthebaptist']\n"
     ]
    }
   ],
   "source": [
    "county_list = [\"De Witt County\", \"Lac qui Parle County\", \"Lewis and Clark County\", \"St John the Baptist Parish\"]\n",
    "def canonicalize_county( c_name):\n",
    "    return (\n",
    "        c_name\n",
    "        .lower()\n",
    "        .replace(' ', '')\n",
    "        .replace('.', '')\n",
    "        .replace('county', '')\n",
    "        .replace('parish','')\n",
    "    )\n",
    "\n",
    "new_list = []\n",
    "\n",
    "for item in county_list:\n",
    "    x = canonicalize_county(item)\n",
    "    new_list.append(x)\n",
    "print(new_list)"
   ]
  },
  {
   "cell_type": "code",
   "execution_count": 11,
   "id": "fb76fa91",
   "metadata": {},
   "outputs": [
    {
     "name": "stdout",
     "output_type": "stream",
     "text": [
      "['dewitt', 'lacquiparle', 'lewisandclark', 'stjohnthebaptist']\n"
     ]
    }
   ],
   "source": [
    "county_list = [\"De Witt\", \"Lac qui Parle\", \"Lewis & Clark\", \"St. John the Baptist\"]\n",
    "def canonicalize_county( c_name):\n",
    "    return (\n",
    "        c_name\n",
    "        .lower()\n",
    "        .replace(' ', '')\n",
    "        .replace('&', 'and')\n",
    "        .replace('.', '')\n",
    "        .replace('county', '')\n",
    "        .replace('parish','')\n",
    "    )\n",
    "\n",
    "new_list = []\n",
    "\n",
    "for item in county_list:\n",
    "    x = canonicalize_county(item)\n",
    "    new_list.append(x)\n",
    "print(new_list)"
   ]
  },
  {
   "cell_type": "code",
   "execution_count": 12,
   "id": "2d132679",
   "metadata": {},
   "outputs": [],
   "source": [
    "# regular expression\n"
   ]
  },
  {
   "cell_type": "code",
   "execution_count": 13,
   "id": "2d1190a5",
   "metadata": {},
   "outputs": [
    {
     "name": "stdout",
     "output_type": "stream",
     "text": [
      "True\n"
     ]
    }
   ],
   "source": [
    "s = \"110.242.68.245\"\n",
    "if re.match(\"(\\d{1,3}\\.){3}\\d{1,3}\", s):\n",
    "    print(True)\n",
    "    "
   ]
  },
  {
   "cell_type": "code",
   "execution_count": 14,
   "id": "41fc6c6c",
   "metadata": {},
   "outputs": [
    {
     "name": "stdout",
     "output_type": "stream",
     "text": [
      "happy\n"
     ]
    }
   ],
   "source": [
    "s = \"h****a####p@@@@p$$$$y\"\n",
    "s = re.sub(\"[*$#@]\", \"\", s)\n",
    "print(s)"
   ]
  },
  {
   "cell_type": "code",
   "execution_count": 15,
   "id": "f2149239",
   "metadata": {},
   "outputs": [
    {
     "name": "stdout",
     "output_type": "stream",
     "text": [
      "['happy', 'new', 'year', '!']\n"
     ]
    }
   ],
   "source": [
    "s=\"happy$new#year@!\"\n",
    "slist = re.split(\"[*$#@]\",s)\n",
    "print(slist)"
   ]
  },
  {
   "cell_type": "code",
   "execution_count": 16,
   "id": "631508d2",
   "metadata": {},
   "outputs": [
    {
     "name": "stdout",
     "output_type": "stream",
     "text": [
      "<re.Match object; span=(8, 25), match='Renmin University'>\n"
     ]
    }
   ],
   "source": [
    "s = \"I think Renmin University is the best university!\"\n",
    "span = re.search(\"\\w+ University\", s)\n",
    "print(span)"
   ]
  },
  {
   "cell_type": "code",
   "execution_count": 17,
   "id": "b3645fe8",
   "metadata": {},
   "outputs": [
    {
     "name": "stdout",
     "output_type": "stream",
     "text": [
      "['RUC', 'PKU', 'THU', 'NYU', 'SJTU']\n"
     ]
    }
   ],
   "source": [
    "html = \"\"\"\n",
    "<ul>\n",
    "    <ol class=\"first\">RUC</ol>\n",
    "    <ol class=\"second\">PKU</ol>\n",
    "    <ol class=\"third\" style=\"height:10px\">THU</ol>\n",
    "    <br></br>\n",
    "    <ol>NYU</ol>\n",
    "    <ol>SJTU</ol>\n",
    "</ul>\n",
    "\"\"\"\n",
    "found = re.findall(\"<ol.*?>(.*?)</ol>\", html)\n",
    "print(found)"
   ]
  },
  {
   "cell_type": "code",
   "execution_count": 18,
   "id": "c66b796f",
   "metadata": {},
   "outputs": [
    {
     "name": "stdout",
     "output_type": "stream",
     "text": [
      "matchObj.group():  Cats are smarter than dogs\n",
      "matchObj.span():  (0, 26)\n",
      "matchObj.group(1):  Cats\n",
      "matchObj.group(2):  smarter\n",
      "matchObj.group(2,3):  ('smarter', 'dogs')\n",
      "matchObj.groups():  ('Cats', 'smarter', 'dogs')\n"
     ]
    }
   ],
   "source": [
    "import re\n",
    "line = \"Cats are smarter than dogs\"\n",
    "matchObj = re.match(r'(.*) are (.*?) than (.*)', line)\n",
    "if matchObj:\n",
    "    print(\"matchObj.group(): \",matchObj.group())\n",
    "    print(\"matchObj.span(): \",matchObj.span())\n",
    "    print(\"matchObj.group(1): \",matchObj.group(1))\n",
    "    print(\"matchObj.group(2): \",matchObj.group(2))\n",
    "    print(\"matchObj.group(2,3): \",matchObj.group(2,3))\n",
    "    print(\"matchObj.groups(): \",matchObj.groups())\n",
    "else:\n",
    "    print(\"No match!!!\")"
   ]
  },
  {
   "cell_type": "code",
   "execution_count": 19,
   "id": "ec6443c6",
   "metadata": {},
   "outputs": [],
   "source": [
    "#more regex examples"
   ]
  },
  {
   "cell_type": "code",
   "execution_count": 20,
   "id": "9f88e944",
   "metadata": {},
   "outputs": [],
   "source": [
    "#https://medium.com/@kennymiyasato/regular-expressions-tutorial-with-jupyter-notebooks-6d7df2429695\n",
    "lowercase_alphabet = \"abcdefghijklmnopqrstuvwxyz\"\n",
    "uppercase_alphabet = lowercase_alphabet.upper()\n",
    "numbers = \"1234567890\"\n",
    "sentence = \"The Quick Brown Fox Jumps Over The Lazy Dog\"\n",
    "website = \"www.medium.com\"\n",
    "phone_numbers = \"\"\"123-456-7890\n",
    "                   987.654.321\n",
    "                   234-567-8901\n",
    "                   654.321.987\n",
    "                   345-678-9012\n",
    "                   321.654.978\n",
    "                   456-789-0123\n",
    "                \"\"\"\n",
    "special_characters = \"[\\^$.|?*+()\""
   ]
  },
  {
   "cell_type": "code",
   "execution_count": 21,
   "id": "73f8c0d0",
   "metadata": {},
   "outputs": [
    {
     "data": {
      "text/plain": [
       "['The', 'Quick', 'Brown', 'Fox', 'Jumps', 'Over', 'The', 'Lazy', 'Dog']"
      ]
     },
     "execution_count": 21,
     "metadata": {},
     "output_type": "execute_result"
    }
   ],
   "source": [
    "re.findall( \"\\w{1,}\", sentence)"
   ]
  },
  {
   "cell_type": "code",
   "execution_count": 22,
   "id": "11d8c6de",
   "metadata": {},
   "outputs": [
    {
     "data": {
      "text/plain": [
       "['123-456-7890', '234-567-8901', '345-678-9012', '456-789-0123']"
      ]
     },
     "execution_count": 22,
     "metadata": {},
     "output_type": "execute_result"
    }
   ],
   "source": [
    "re.findall(\"\\d{3}\\-\\d{3}\\-\\d{4}\", phone_numbers)"
   ]
  },
  {
   "cell_type": "code",
   "execution_count": 23,
   "id": "a39b253f",
   "metadata": {},
   "outputs": [
    {
     "data": {
      "text/plain": [
       "re.Match"
      ]
     },
     "execution_count": 23,
     "metadata": {},
     "output_type": "execute_result"
    }
   ],
   "source": [
    "#https://github.com/tesla809/intro-to-python-jupyter-notebooks/blob/master/47-Regular%20Expressions.ipynb\n",
    "\n",
    "# List of patterns to search for\n",
    "pattern = 'term1'\n",
    "\n",
    "# Text to parse\n",
    "text = 'This is a string with term1, but it does not have the other term.'\n",
    "\n",
    "match = re.search(pattern,  text)\n",
    "\n",
    "type(match)\n"
   ]
  },
  {
   "cell_type": "code",
   "execution_count": 24,
   "id": "4a94ad82",
   "metadata": {},
   "outputs": [
    {
     "data": {
      "text/plain": [
       "22"
      ]
     },
     "execution_count": 24,
     "metadata": {},
     "output_type": "execute_result"
    }
   ],
   "source": [
    "# Show start of match\n",
    "match.start()"
   ]
  },
  {
   "cell_type": "code",
   "execution_count": 25,
   "id": "41899d8e",
   "metadata": {},
   "outputs": [
    {
     "data": {
      "text/plain": [
       "27"
      ]
     },
     "execution_count": 25,
     "metadata": {},
     "output_type": "execute_result"
    }
   ],
   "source": [
    "\n",
    "# Show end\n",
    "match.end()"
   ]
  },
  {
   "cell_type": "code",
   "execution_count": 26,
   "id": "1536977e",
   "metadata": {},
   "outputs": [
    {
     "data": {
      "text/plain": [
       "['This',\n",
       " 'is',\n",
       " 'a',\n",
       " 'string',\n",
       " 'But',\n",
       " 'it',\n",
       " 'has',\n",
       " 'punctuation',\n",
       " 'How',\n",
       " 'can',\n",
       " 'we',\n",
       " 'remove',\n",
       " 'it']"
      ]
     },
     "execution_count": 26,
     "metadata": {},
     "output_type": "execute_result"
    }
   ],
   "source": [
    "test_phrase = 'This is a string! But it has punctuation. How can we remove it?'\n",
    "#Use [^!.? ] to check for matches that are not a !,.,?, or space. Add the + to check that the match appears at least once, \n",
    "# this basically translate into finding the words.\n",
    "re.findall('[^!.? ]+',test_phrase)"
   ]
  },
  {
   "cell_type": "code",
   "execution_count": 27,
   "id": "1c7b8947",
   "metadata": {},
   "outputs": [],
   "source": [
    "# html pages"
   ]
  },
  {
   "cell_type": "code",
   "execution_count": 28,
   "id": "0402ef30",
   "metadata": {},
   "outputs": [
    {
     "name": "stdout",
     "output_type": "stream",
     "text": [
      "<!DOCTYPE html>\r\n",
      "<html lang=\"en\">\r\n",
      "\r\n",
      "<head>\r\n",
      "    <meta http-equiv=\"Content-Type\" content=\"text/html;charset=utf-8\" />\r\n",
      "    <meta http-equiv=\"Content-Language\" content=\"utf-8\" />\r\n",
      "    <meta http-equiv=\"X-UA-Compatible\" content=\"ie=edge\">\r\n",
      "    <title>人民日报-人民网</title>\r\n",
      "    <meta content=\"all\" name=\"robots\" />\r\n",
      "    <meta name=\"description\" content=\"\" />\r\n",
      "    <meta name=\"keywords\" content=\"\" />\r\n",
      "    <META name='filetype' content='0'>\r\n",
      "    <META name='publishedtype' content='1'>\r\n",
      "    <META name='pagetype' content='2'>\r\n",
      "    <META name='catalogs' content='XTW_0009002'>\r\n",
      "    <!-- <meta name=\"viewport\" content=\"width=device-width, initial-scale=1, maximum-scale=1, user-scalable=no\"> -->\r\n",
      "    <!--优先使用 IE 最新版本和 Chrome-->\r\n",
      "    <meta http-equiv=\"X-UA-Compatible\" content=\"IE=Edge,chrome=1\">\r\n",
      "    <!--360 使用Google Chrome Frame-->\r\n",
      "    <meta name=\"renderer\" content=\"webkit\">\r\n",
      "    <link href=\"../../../tplimg/default.css\" rel=\"stylesheet\">\r\n",
      "    <script type=\"text/javascript\" src=\"../../../tplimg/app.js\"></script>\r\n",
      "    <script src=\"../../../tplimg/swiper.min.js\"></script>\r\n",
      "    <link href=\"../../../tplimg/swiper.min.css\" rel=\"stylesheet\">\r\n",
      "    <SCRIPT language=Javascript src=\"../../../tplimg/prototype.js\"></SCRIPT>\r\n",
      "    <SCRIPT language=Javascript src=\"../../../tplimg/mp.js\"></SCRIPT>\r\n",
      "\r\n",
      "    <SCRIPT language=Javascript src=\"../../../tplimg/range.js\"></SCRIPT>\r\n",
      "    <SCRIPT language=Javascript src=\"../../../tplimg/lib.js\"></SCRIPT>\r\n",
      "    <SCRIPT language=Javascript src=\"../../../tplimg/dzbnews.js\"></SCRIPT>\r\n",
      "    <SCRIPT language=Javascript src=\"../../../tplimg/new.js\"></SCRIPT>\r\n",
      "    <style>\r\n",
      "        .top img {\r\n",
      "    padding-top: 15px;\r\n",
      "    margin-left:0px;\r\n",
      "}\r\n",
      ".nav {\r\n",
      "    margin-right:0;\r\n",
      "}\r\n",
      "    </style>\r\n",
      "<style>\r\n",
      "        body,div{\r\n",
      "        font-family: '宋体';\r\n",
      "    }\r\n",
      "    .main .article-box .article h1,.main .article-box .article h2,.main .article-box .article h3{\r\n",
      "        font-family: Microsoft YaHei,SimSun,sans-serif,'宋体';\r\n",
      "    }\r\n",
      "    .main .right-main .title{\r\n",
      "        font-weight: bold;\r\n",
      "    }\r\n",
      "    .main .swiper-box .swiper-container .swiper-slide{\r\n",
      "        text-align: center;\r\n",
      "        background: #d00;\r\n",
      "        color: #fff;\r\n",
      "        width:24%;\r\n",
      "        float: left;\r\n",
      "        margin-bottom:1px;\r\n",
      "        margin-right:1px;\r\n",
      "        text-indent: 0;\r\n",
      "    }\r\n",
      "    .main .swiper-box .swiper-container .swiper-slide a{\r\n",
      "        color: #fff;\r\n",
      "        font-size: 12px;\r\n",
      "    }\r\n",
      "    .main .right-main .date-box span{\r\n",
      "      cursor: pointer;\r\n",
      "    }\r\n",
      "    .ribao, .zhoubao, .zazhi {\r\n",
      "        background:none;\r\n",
      "        padding: 10px 15px;\r\n",
      "        width: 140px;\r\n",
      "        z-index: 3;\r\n",
      "        position: absolute;\r\n",
      "        top: 60px;\r\n",
      "        left:-30px;\r\n",
      "        display: none;\r\n",
      "    }\r\n",
      "    .ribao li, .zhoubao li, .zazhi li{\r\n",
      "        border:1px solid #e2e2e2;\r\n",
      "        color: #333;\r\n",
      "        padding:3px 10px;\r\n",
      "        border-top:none;\r\n",
      "        width:150px;\r\n",
      "        background: #fff;\r\n",
      "    }\r\n",
      "    .ribao li:nth-child(1),.zhoubao li:nth-child(1),.zazhi li:nth-child(1){\r\n",
      "        border-top:1px solid #e2e2e2;\r\n",
      "    }\r\n",
      "    .nav li{\r\n",
      "        cursor: pointer;\r\n",
      "    }\r\n",
      "    .ribao li a, .zhoubao li a, .zazhi li a{\r\n",
      "        color: #333;\r\n",
      "    }\r\n",
      "    .main .news .news-list li{\r\n",
      "        font-size:16px;\r\n",
      "    }\r\n",
      "    .main .news .news-list li span{\r\n",
      "        font-size:20px;\r\n",
      "        margin-right:5px;\r\n",
      "    }\r\n",
      "    .tiaozhuan{\r\n",
      "        position: fixed;\r\n",
      "        bottom:0px;\r\n",
      "        left:0px;\r\n",
      "        width:100%;\r\n",
      "        padding:20px 0;\r\n",
      "        background: #000;\r\n",
      "        opacity:0.6;\r\n",
      "        color: #fff;\r\n",
      "        text-align: center;\r\n",
      "    }\r\n",
      "    .tiaozhuan a{\r\n",
      "        display: inline-block;\r\n",
      "        color: #fff;\r\n",
      "        background: #d00;\r\n",
      "        border-radius: 10px;\r\n",
      "        padding:20px 15px;\r\n",
      "        font-size:1.5rem;\r\n",
      "    }\r\n",
      "    @media (min-device-width: 320px) and (max-width: 689px), (max-device-width: 480px) {\r\n",
      "    body{\r\n",
      "        overflow: auto;\r\n",
      "    }\r\n",
      "  }\r\n",
      "</style>\r\n",
      "</head>\r\n",
      "\r\n",
      "<body onLoad=\"initialize();initMPPage();\">\r\n",
      "    <!--题图-->\r\n",
      "    <div class=\"top\">\r\n",
      "        <div class=\"w1000\">\r\n",
      "            <a href=\"http://www.people.com.cn\" target=\"_blank\"><img class=\"left\" src=\"../../../tplimg/logo.png\" alt=\"\"></a>\r\n",
      "            <ul class=\"right nav\">\r\n",
      "                <li id=\"ribao\">日报\r\n",
      "                    <ul class=\"ribao\" id=\"ribaobox\">\r\n",
      "                        <li><a href='http://paper.people.com.cn/rmrb/paperindex.htm' target='_blank'>人民日报</a></li>\r\n",
      "                        <li><a href=\"http://paper.people.com.cn/rmrbhwb/paperindex.htm\" target=\"_blank\">人民日报海外版</a></li>\r\n",
      "                        <li><a href=\"http://www.huanqiu.com/\" target=\"_blank\">环球时报</a></li>\r\n",
      "                        <li><a href=\"http://epaper.stcn.com/\" target=\"_blank\">证券时报</a></li>\r\n",
      "                    </ul>\r\n",
      "                </li>\r\n",
      "                <li id=\"zhoubao\">周报\r\n",
      "                    <ul class=\"zhoubao\" id=\"zhoubaobox\">\r\n",
      "                        <li><a href=\"http://paper.people.com.cn/gjjrb/paperindex.htm\" target=\"_blank\">国际金融报</a></li>\r\n",
      "                        <li><a href=\"http://paper.people.com.cn/zgnyb/paperindex.htm\" target=\"_blank\">中国能源报</a></li>\r\n",
      "                        <li><a href=\"http://paper.people.com.cn/jksb/paperindex.htm\" target=\"_blank\">健康时报</a></li>\r\n",
      "                        <li><a href=\"http://paper.people.com.cn/fcyym/paperindex.htm\" target=\"_blank\">讽刺与幽默</a></li>\r\n",
      "                        <li><a href=\"http://paper.people.com.cn/zgcsb/paperindex.htm\" target=\"_blank\">中国城市报</a></li>\r\n",
      "                    </ul>\r\n",
      "\r\n",
      "                </li>\r\n",
      "                <li id=\"zazhi\">杂志\r\n",
      "                    <ul class=\"zazhi\" id=\"zazhibox\">\r\n",
      "                        <li><a href=\"http://paper.people.com.cn/xwzx/paperindex.htm\" target=\"_blank\">新闻战线</a></li>\r\n",
      "                        <li><a href=\"http://paper.people.com.cn/rmlt/paperindex.htm\" target=\"_blank\">人民论坛</a></li>\r\n",
      "                        <li><a href=\"http://paper.people.com.cn/rmzk/paperindex.htm\" target=\"_blank\">人民周刊</a></li>\r\n",
      "                        <li><a href=\"http://paper.people.com.cn/zgjjzk/paperindex.htm\" target=\"_blank\">中国经济周刊</a></li>\r\n",
      "                        <li><a href=\"http://paper.people.com.cn/mszk/paperindex.htm\" target=\"_blank\">民生周刊</a></li>\r\n",
      "                        <li><a href=\"http://history.people.com.cn/GB/198819/index.html\" target=\"_blank\">国家人文历史</a></li>\r\n",
      "                        <li><a href=\"http://paper.people.com.cn/zgby/paperindex.htm\" target=\"_blank\">中国报业</a></li>\r\n",
      "                    </ul>\r\n",
      "                </li>\r\n",
      "            </ul>\r\n",
      "        </div>\r\n",
      "    </div>\r\n",
      "    <div class=\"main w1000\">\r\n",
      "        <div class=\"left paper-box\">\r\n",
      "            <div class=\"paper\">\r\n",
      "                 <map name=PagePicMap><Area coords=\"2,85,195,85,195,275,2,275\" shape=\"polygon\" href=\"nw.D110000renmrb_20210325_1-01.htm\"><Area coords=\"204,2,397,2,397,165,204,165\" shape=\"polygon\" href=\"nw.D110000renmrb_20210325_2-01.htm\"><Area coords=\"397,205,397,175,204,175,204,205,204,274,397,274\" shape=\"polygon\" href=\"nw.D110000renmrb_20210325_3-01.htm\"><Area coords=\"195,331,195,282,2,282,2,331,2,378,195,378\" shape=\"polygon\" href=\"nw.D110000renmrb_20210325_4-01.htm\"><Area coords=\"397,331,397,282,204,282,204,331,204,378,397,378\" shape=\"polygon\" href=\"nw.D110000renmrb_20210325_5-01.htm\"><Area coords=\"195,433,195,384,2,384,2,433,2,481,195,481\" shape=\"polygon\" href=\"nw.D110000renmrb_20210325_6-01.htm\"><Area coords=\"397,433,397,384,204,384,204,433,204,481,397,481\" shape=\"polygon\" href=\"nw.D110000renmrb_20210325_7-01.htm\"><Area coords=\"2,488,265,488,265,568,2,568\" shape=\"polygon\" href=\"nw.D110000renmrb_20210325_8-01.htm\"></map><img  width=400 height=575 src=../../../images/2021-03/25/01/rmrb2021032501_b.jpg border=0 USEMAP=#PagePicMap>\r\n",
      "            </div>\r\n",
      "            <div class=\"paper-bot\">\r\n",
      "                <p class=\"left ban\">第01版:要闻</p>\r\n",
      "                <p class=\"right btn\"> <a href=../../../images/2021-03/25/01/rmrb2021032501.pdf>PDF下载</a></p>\r\n",
      "            </div>\r\n",
      "        </div>\r\n",
      "        <div class=\"right right-main\">\r\n",
      "            <p class=\"title\"><a href='http://data.people.com.cn/rmrb/' target='_blank'>人民日报图文数据库（1946-2021）</a></p>\r\n",
      "            <div class=\"date-box\">\r\n",
      "                <p class=\"date left\">\r\n",
      "                   人民日报\r\n",
      "   2021年03月25日 星期四<span><img onClick=\"autoShowDate();\" src=\"../../../tplimg/down.png\" alt=\"\"></span>\r\n",
      "                </p>\r\n",
      "                 <!-------rqdh版面导航------>\r\n",
      "        <div id=daydh style=\"display:none; position:absolute; left:140px;top:30px;z-index:1000; filter:alpha(opacity=90);\"  onmouseover=\"document.getElementById('daydh').style.display='block';\" >\r\n",
      "            <form name=CLD style=\"padding:0px;margin:0px;\">\r\n",
      "              <table width=\"210\" border=\"0\" cellpadding=\"0\" cellspacing=\"1\" bordercolor=\"#007CD2\" bgcolor=\"#e0e0e0\">\r\n",
      "                <tr>\r\n",
      "                  <td bgcolor=\"#D8EFFF\" style=\"padding: 3px;\"><table cellspacing=0 cellpadding=0 width=\"100%\" align=center border=0 bgcolor=\"#D8EFFF\">\r\n",
      "                    <tr>\r\n",
      "                      <td><table width=\"100%\" align=center border=\"0\" cellpadding=\"1\" cellspacing=\"1\">\r\n",
      "                        <tr class=\"default\" align=center>\r\n",
      "                          <td height=15 colspan=7 bgcolor=\"#FFFFFF\"><table width=\"100%\" border=\"0\" cellpadding=\"2\" cellspacing=\"0\">\r\n",
      "                            <tr align=\"center\">\r\n",
      "                              <td align=\"left\" nowrap><img src=\"../../../../../../tiaoshidomain/applications/mp/file_upload/enp/1/12571.files/d1.gif\" width=\"7\" height=\"11\" style=\"cursor:hand;\" onClick=\"turnpage(SY,0)\" /></td>\r\n",
      "                              <td><select class=jumpmenu onChange=changeMPCld() name=SY>\r\n",
      "                                <script language=JavaScript>\r\n",
      "                          for(i=2006;i<2051;i++)\r\n",
      "                          document.write('<option>'+i+'</option>')\r\n",
      "                          </script>\r\n",
      "                              </select>\r\n",
      "                              </td>\r\n",
      "                              <td><img src=\"../../../../../../tiaoshidomain/applications/mp/file_upload/enp/1/12571.files/d.gif\" width=\"7\" height=\"11\" style=\"cursor:hand;\" onClick=\"turnpage(SY,1)\" /></td>\r\n",
      "                              <td align=\"center\" nowrap><img src=\"../../../../../../tiaoshidomain/applications/mp/file_upload/enp/1/12571.files/d1.gif\" width=\"7\" height=\"11\" style=\"cursor:hand;\" onClick=\"turnpage(SM,0)\" /></td>\r\n",
      "                              <td><select class=jumpmenu onChange=changeMPCld() name=SM>\r\n",
      "                                <script language=JavaScript>\r\n",
      "                      <!--\r\n",
      "                          for(i=1;i<13;i++) document.write('<option>'+i+'</option>')\r\n",
      "                      //-->\r\n",
      "                          </script>\r\n",
      "                              </select>\r\n",
      "                              </td>\r\n",
      "                              <td><img src=\"../../../../../../tiaoshidomain/applications/mp/file_upload/enp/1/12571.files/d.gif\" width=\"7\" height=\"11\" style=\"cursor:hand;\" onClick=\"turnpage(SM,1)\" /></td>\r\n",
      "                              <td align=\"right\" nowrap><strong><font id=GZ fface=\"Arial, Helvetica, sans-serif\"></font></strong></td>\r\n",
      "                            </tr>\r\n",
      "                          </table></td>\r\n",
      "                        </tr>\r\n",
      "                        <tr align=middle bgcolor=\"#FFFFFF\" class=\"default\">\r\n",
      "                          <td style=\"color: #fff;background: #d00;\" align=\"center\" class=\"fontstyle01\"><b><font face=\"Arial, Helvetica, sans-serif\">日</font></b></td>\r\n",
      "                          <td style=\"color: #fff;background: #d00;\" align=\"center\" class=\"fontstyle01\"><b><font face=\"Arial, Helvetica, sans-serif\">一</font></b></td>\r\n",
      "                          <td style=\"color: #fff;background: #d00;\" align=\"center\" class=\"fontstyle01\"><b><font face=\"Arial, Helvetica, sans-serif\">二</font></b></td>\r\n",
      "                          <td style=\"color: #fff;background: #d00;\" align=\"center\" class=\"fontstyle01\"><b><font face=\"Arial, Helvetica, sans-serif\">三</font></b></td>\r\n",
      "                          <td style=\"color: #fff;background: #d00;\" align=\"center\" class=\"fontstyle01\"><b><font face=\"Arial, Helvetica, sans-serif\">四</font></b></td>\r\n",
      "                          <td style=\"color: #fff;background: #d00;\" align=\"center\" class=\"fontstyle01\"><b><font face=\"Arial, Helvetica, sans-serif\">五</font></b></td>\r\n",
      "                          <td style=\"color: #fff;background: #d00;\" align=\"center\" class=\"fontstyle01\"><b><font face=\"Arial, Helvetica, sans-serif\">六</font></b> </td>\r\n",
      "                        </tr>\r\n",
      "                        <script type=\"text/JavaScript\">\r\n",
      "                            var gNum;\r\n",
      "                            for(i=0;i<6;i++)\r\n",
      "                            {\r\n",
      "                                document.write('<tr align=center>');\r\n",
      "                                for(j=0;j<7;j++)\r\n",
      "                                {\r\n",
      "                                    gNum = i*7+j;\r\n",
      "                                    document.write('<td  bgcolor=\"#FFFFFF\" class=\"default\" align=center id=\"GD' + gNum +'\" style=\"cursor: default;\" width=\"14%\"><a href=\"\" id=\"CD' + gNum + '\"><span class=\"date\" style=\"font-family:Verdana, Arial;font-size:11px;\"><font _onMouseOver=\"mOvr(' + gNum +')\" onMouseOut=\"mOut()\" id=\"SD' + gNum +'\"');\r\n",
      "                                    document.write('></font></span></a><br><font id=\"LD' + gNum + '\" size=2 class=pt9 style=display:none></font></td>');\r\n",
      "                                }\r\n",
      "                                document.write('</tr>');\r\n",
      "                            }\r\n",
      "                  </script>\r\n",
      "                      </table></td>\r\n",
      "                    </tr>\r\n",
      "                  </table></td>\r\n",
      "                </tr>\r\n",
      "                <tr><td align=\"center\" height=\"22\"><a href=\"#\" onClick=\"autoShowDate();\">关闭</a></td></tr>\r\n",
      "              </table>\r\n",
      "            </form>\r\n",
      "          </div>\r\n",
      "          <!-------rqdh版面导航END------>\r\n",
      "                <p class=\"right\"><span class=\"prev\" onClick=\"goPrePeriod()\">上一期</span><span class=\"next\" onClick=\"goNextPeriod();\">下一期</span></p>\r\n",
      "            </div>\r\n",
      "            <div class=\"swiper-box\">\r\n",
      "                <div class=\"swiper-container\">\r\n",
      "<div class='swiper-slide'>\r\n",
      "<a id=pageLink href=./nbs.D110000renmrb_01.htm>01版：要闻</a>\r\n",
      "</div>\r\n",
      "<div class='swiper-slide'>\r\n",
      "<a id=pageLink href=nbs.D110000renmrb_02.htm>02版：要闻</a>\r\n",
      "</div>\r\n",
      "<div class='swiper-slide'>\r\n",
      "<a id=pageLink href=nbs.D110000renmrb_03.htm>03版：要闻</a>\r\n",
      "</div>\r\n",
      "<div class='swiper-slide'>\r\n",
      "<a id=pageLink href=nbs.D110000renmrb_04.htm>04版：要闻</a>\r\n",
      "</div>\r\n",
      "<div class='swiper-slide'>\r\n",
      "<a id=pageLink href=nbs.D110000renmrb_05.htm>05版：奋斗百年路 启航新征程</a>\r\n",
      "</div>\r\n",
      "<div class='swiper-slide'>\r\n",
      "<a id=pageLink href=nbs.D110000renmrb_06.htm>06版：要闻</a>\r\n",
      "</div>\r\n",
      "<div class='swiper-slide'>\r\n",
      "<a id=pageLink href=nbs.D110000renmrb_07.htm>07版：评论</a>\r\n",
      "</div>\r\n",
      "<div class='swiper-slide'>\r\n",
      "<a id=pageLink href=nbs.D110000renmrb_08.htm>08版：广告</a>\r\n",
      "</div>\r\n",
      "<div class='swiper-slide'>\r\n",
      "<a id=pageLink href=nbs.D110000renmrb_09.htm>09版：理论</a>\r\n",
      "</div>\r\n",
      "<div class='swiper-slide'>\r\n",
      "<a id=pageLink href=nbs.D110000renmrb_10.htm>10版：文件</a>\r\n",
      "</div>\r\n",
      "<div class='swiper-slide'>\r\n",
      "<a id=pageLink href=nbs.D110000renmrb_11.htm>11版：综合</a>\r\n",
      "</div>\r\n",
      "<div class='swiper-slide'>\r\n",
      "<a id=pageLink href=nbs.D110000renmrb_12.htm>12版：经济</a>\r\n",
      "</div>\r\n",
      "<div class='swiper-slide'>\r\n",
      "<a id=pageLink href=nbs.D110000renmrb_13.htm>13版：政治</a>\r\n",
      "</div>\r\n",
      "<div class='swiper-slide'>\r\n",
      "<a id=pageLink href=nbs.D110000renmrb_14.htm>14版：文化</a>\r\n",
      "</div>\r\n",
      "<div class='swiper-slide'>\r\n",
      "<a id=pageLink href=nbs.D110000renmrb_15.htm>15版：社会</a>\r\n",
      "</div>\r\n",
      "<div class='swiper-slide'>\r\n",
      "<a id=pageLink href=nbs.D110000renmrb_16.htm>16版：生态</a>\r\n",
      "</div>\r\n",
      "<div class='swiper-slide'>\r\n",
      "<a id=pageLink href=nbs.D110000renmrb_17.htm>17版：体育</a>\r\n",
      "</div>\r\n",
      "<div class='swiper-slide'>\r\n",
      "<a id=pageLink href=nbs.D110000renmrb_18.htm>18版：民主政治</a>\r\n",
      "</div>\r\n",
      "<div class='swiper-slide'>\r\n",
      "<a id=pageLink href=nbs.D110000renmrb_19.htm>19版：法治</a>\r\n",
      "</div>\r\n",
      "<div class='swiper-slide'>\r\n",
      "<a id=pageLink href=nbs.D110000renmrb_20.htm>20版：副刊</a>\r\n",
      "</div>\r\n",
      "</ul><!-- list endding -->\r\n",
      "                    \r\n",
      "                </div>\r\n",
      "                <!-- <div class=\"swiper-button-prev\"></div>\r\n",
      "                <div class=\"swiper-button-next\"></div> -->\r\n",
      "            </div>\r\n",
      "            <div class=\"news\">\r\n",
      "                <ul class='news-list'>\r\n",
      "\r\n",
      "\r\n",
      "<li>\r\n",
      "<span>·</span><a href=nw.D110000renmrb_20210325_1-01.htm>进一步深化税收征管改革  </a></li>\r\n",
      "<li class=\"one\">\r\n",
      " <span>·</span><a href=nw.D110000renmrb_20210325_2-01.htm>中国共产党成立100周年庆祝活动标识  </a></li>\r\n",
      "<li>\r\n",
      "<span>·</span><a href=nw.D110000renmrb_20210325_3-01.htm>中国共产党成立100周年庆祝活动标识使用说明  </a></li>\r\n",
      "<li class=\"one\">\r\n",
      " <span>·</span><a href=nw.D110000renmrb_20210325_4-01.htm>李克强主持召开国务院常务会议  </a></li>\r\n",
      "<li>\r\n",
      "<span>·</span><a href=nw.D110000renmrb_20210325_5-01.htm>脱贫攻坚民主监督成效显著经验宝贵 新时代多党合作事业前景广阔大有可为  </a></li>\r\n",
      "<li class=\"one\">\r\n",
      " <span>·</span><a href=nw.D110000renmrb_20210325_6-01.htm>持之以恒纠“四风”树新风 为“十四五”开好局起好步提供有力保障  </a></li>\r\n",
      "<li>\r\n",
      "<span>·</span><a href=nw.D110000renmrb_20210325_7-01.htm>扎实做好财税重点工作 积极开展财税政策研究 确保“十四五”开好局起好步  </a></li>\r\n",
      "<li class=\"one\">\r\n",
      " <span>·</span><a href=nw.D110000renmrb_20210325_8-01.htm>穿行花海  </a></li>\r\n",
      "\r\n",
      "</ul><!-- list endding -->\r\n",
      "            </div>\r\n",
      "            \r\n",
      "        </div>\r\n",
      "    </div>\r\n",
      "    <div class=\"bottom\">\r\n",
      "        <div class=\"w1000\">\r\n",
      "            <p class=\"copy-cont\">版权声明</p>\r\n",
      "            <p class=\"copy-text\" style=\"text-indent: 2em;\">《人民日报》（电子版）的一切内容(包括但不限于文字、图片、PDF、图表、标志、标识、商标、版面设计、专栏目录与名称、内容分类标准以及为读者提供的任何信息)仅供人民网读者阅读、学习研究使用，未经人民网股份有限公司及/或相关权利人书面授权，任何单位及个人不得将《人民日报》（电子版）所登载、发布的内容用于商业性目的，包括但不限于转载、复制、发行、制作光盘、数据库、触摸展示等行为方式，或将之在非本站所属的服务器上作镜像。否则，人民网股份有限公司将采取包括但不限于网上公示、向有关部门举报、诉讼等一切合法手段，追究侵权者的法律责任。</p>\r\n",
      "            <div class=\"bottom-box\">\r\n",
      "                <div class=\"left tele\">\r\n",
      "                    <p class=\"p1\">人民日报手机报</p>\r\n",
      "                    <p class=\"p2\">移动用户 发送<span class=\"red\">RMRB</span>到<span class=\"red\">10658000</span></p>\r\n",
      "                    <p class=\"p3\">联通用户 发送<span class=\"red\">RMRB</span>到<span class=\"red\">10655111</span></p>\r\n",
      "                </div>\r\n",
      "                <ul class=\"right code\">\r\n",
      "                    <li><img src=\"../../../tplimg/ios.png\" alt=\"\"><p>ios版</p></li>\r\n",
      "                    <li><img src=\"../../../tplimg/android.png\" alt=\"\"><p>android版</p></li>\r\n",
      "                    <li><img src=\"../../../tplimg/mini.png\" alt=\"\"><p>微信小程序</p></li>\r\n",
      "                </ul>\r\n",
      "            </div>\r\n",
      "        </div>\r\n",
      "        <div class=\" clearfix w1000\">\r\n",
      "            <div class=\"copyright\">\r\n",
      "                人 民 网 版 权 所 有 ，未 经 书 面 授 权 禁 止 使 用<br>\r\n",
      "                Copyright &copy; 1997-2021 by www.people.com.cn all rights reserved\r\n",
      "            </div>\r\n",
      "        </div>\r\n",
      "    </div>\r\n",
      "    <div class=\"tiaozhuan\" id=\"tiaozhuan\" style=\"display: none;\">\r\n",
      "        <a id=\"tiaozhuanurl\" href=\"http://paper.people.com.cn/rmrbwap/paperindex.htm\">手机版</a>\r\n",
      "    </div>\r\n",
      "    <script type=\"text/javascript\">\r\n",
      "        var cw1 = window.innerWidth;\r\n",
      "        var sUserAgent = navigator.userAgent.toLowerCase();    \r\n",
      "        var bIsIpad = sUserAgent.match(/ipad/i) == \"ipad\";    \r\n",
      "        var bIsIphoneOs = sUserAgent.match(/iphone os/i) == \"iphone os\";    \r\n",
      "        var bIsMidp = sUserAgent.match(/midp/i) == \"midp\";    \r\n",
      "        var bIsUc7 = sUserAgent.match(/rv:1.2.3.4/i) == \"rv:1.2.3.4\";    \r\n",
      "        var bIsUc = sUserAgent.match(/ucweb/i) == \"ucweb\";    \r\n",
      "        var bIsAndroid = sUserAgent.match(/android/i) == \"android\";    \r\n",
      "        var bIsCE = sUserAgent.match(/windows ce/i) == \"windows ce\";    \r\n",
      "        var bIsWM = sUserAgent.match(/windows mobile/i) == \"windows mobile\";    \r\n",
      "        if (bIsIphoneOs || bIsMidp || bIsUc7 || bIsUc || bIsAndroid || bIsCE || bIsWM ){\r\n",
      "            var tiaozhuanBox =  document.getElementById('tiaozhuan');\r\n",
      "            var tiaozhuanurl = document.getElementById('tiaozhuanurl');\r\n",
      "            tiaozhuanBox.style.display = 'block';\r\n",
      "            var url = window.location.href;\r\n",
      "            var newsurl = url.split('rmrb');\r\n",
      "            tiaozhuanurl.setAttribute('href',newsurl[0]+'rmrbwap'+newsurl[1]);\r\n",
      "        }  \r\n",
      "                    \r\n",
      "</script>\r\n",
      "    <script language=JavaScript>\r\n",
      "        document.write(\"<div id=detail style=position:absolute;width:300px;></div>\");\r\n",
      "    </script>\r\n",
      "    <SCRIPT language=Javascript src=\"../../../tplimg/disname2.js\"></SCRIPT>\r\n",
      "    <script>\r\n",
      "        // var swiperBox = document.getElementById('swiperBox').getElementsByTagName('div');\r\n",
      "        // var url = window.location.href;\r\n",
      "        \r\n",
      "        // if(swiperBox.length <= 4){\r\n",
      "        //     var mySwiper = new Swiper('.swiper-container', {\r\n",
      "        //     slidesPerView:swiperBox.length,\r\n",
      "        //     slidesPerColumnFill : 'row',\r\n",
      "        //     spaceBetween : 3,\r\n",
      "        //     navigation: {\r\n",
      "        //         nextEl: '.swiper-button-next',\r\n",
      "        //         prevEl: '.swiper-button-prev',\r\n",
      "        //     },\r\n",
      "            \r\n",
      "        //   })\r\n",
      "        // }else{\r\n",
      "        //     var mySwiper = new Swiper('.swiper-container', {\r\n",
      "        //     slidesPerView:4,\r\n",
      "        //     slidesPerColumnFill : 'row',\r\n",
      "        //     spaceBetween : 3,\r\n",
      "        //     navigation: {\r\n",
      "        //         nextEl: '.swiper-button-next',\r\n",
      "        //         prevEl: '.swiper-button-prev',\r\n",
      "        //     },\r\n",
      "        //   })\r\n",
      "        // }\r\n",
      "\r\n",
      "        \r\n",
      "        ;(function(){\r\n",
      "          var _global;\r\n",
      "          let duration = 500;//时间参数\r\n",
      "          var plugin = {\r\n",
      "              tipNav:function(tipmain,tipsub){\r\n",
      "                tipmain.addEventListener('mouseover',function(){\r\n",
      "                    tipsub.style.display = 'block'\r\n",
      "                },false);\r\n",
      "                tipmain.addEventListener('mouseout',function(){\r\n",
      "                    tipsub.style.display = 'none'\r\n",
      "                },false);\r\n",
      "              },\r\n",
      "              replayTop:function(tipmain){\r\n",
      "                    tipmain.addEventListener('click',function(){\r\n",
      "                        let topSzie = document.documentElement.scrollTop;\r\n",
      "                        let s = topSzie / 600 * 25;  //路程/时间=s *25每隔25ms秒 动的路程\r\n",
      "                        let st = setInterval(function () {\r\n",
      "                            topSzie -= s;\r\n",
      "                            if (topSzie <= 0) {\r\n",
      "                                topSzie = 0; //当l<=0时，设置l=0\r\n",
      "                                clearInterval(st);\r\n",
      "                            }\r\n",
      "                            document.documentElement.scrollTop = topSzie;\r\n",
      "                        }, 25)\r\n",
      "                    },false);\r\n",
      "\r\n",
      "              }\r\n",
      "          }\r\n",
      "          //赋值全局\r\n",
      "          _global = (function(){ return this || (0, eval)('this'); }());\r\n",
      "         !('plugin' in _global) && (_global.plugin = plugin);\r\n",
      "\r\n",
      "        })(window)\r\n",
      "\r\n",
      "\r\n",
      "            var ribaoButton = document.getElementById('ribao');\r\n",
      "            var ribaoBox = document.getElementById('ribaobox');\r\n",
      "            var zhoubaoButton = document.getElementById('zhoubao');\r\n",
      "            var zhoubaoBox = document.getElementById('zhoubaobox');\r\n",
      "            var zazhiButton = document.getElementById('zazhi');\r\n",
      "            var zaizhiBox = document.getElementById('zazhibox');\r\n",
      "            var goTop = document.getElementById('go-top');\r\n",
      "\r\n",
      "            plugin.tipNav(ribaoButton,ribaoBox);\r\n",
      "            plugin.tipNav(zhoubaoButton,zhoubaoBox);\r\n",
      "            plugin.tipNav(zazhiButton,zaizhiBox);\r\n",
      "            //plugin.replayTop(goTop);\r\n",
      "        \r\n",
      "    </script>\r\n",
      "    <script src=\"http://www.people.com.cn/img/2020test/paperobject.js\" type=\"text/javascript\"></script>\r\n",
      "    <SCRIPT language=Javascript src=\"../../../tplimg/webdig_test.js\"></SCRIPT>\r\n",
      "\r\n",
      "</body>\r\n",
      "\r\n",
      "</html>\r\n",
      "\n"
     ]
    }
   ],
   "source": [
    "import urllib.request\n",
    "req = urllib.request.Request(\"http://paper.people.com.cn/rmrb/html/2021-03/25/nbs.D110000renmrb_01.htm\")\n",
    "response = urllib.request.urlopen(req)\n",
    "content = response.read().decode(\"utf-8\")\n",
    "print(content)"
   ]
  },
  {
   "cell_type": "code",
   "execution_count": 29,
   "id": "bfa2caf7",
   "metadata": {},
   "outputs": [
    {
     "name": "stdout",
     "output_type": "stream",
     "text": [
      "['进一步深化税收征管改革  ', '中国共产党成立100周年庆祝活动标识  ', '中国共产党成立100周年庆祝活动标识使用说明  ', '李克强主持召开国务院常务会议  ', '脱贫攻坚民主监督成效显著经验宝贵 新时代多党合作事业前景广阔大有可为  ', '持之以恒纠“四风”树新风 为“十四五”开好局起好步提供有力保障  ', '扎实做好财税重点工作 积极开展财税政策研究 确保“十四五”开好局起好步  ', '穿行花海  ']\n"
     ]
    }
   ],
   "source": [
    "#cut titles\n",
    "\n",
    "found=re.findall( \"<span>·</span><a.*?>(.*?)</a></li>\",content)\n",
    "print(found)"
   ]
  },
  {
   "cell_type": "code",
   "execution_count": 30,
   "id": "4c900c8b",
   "metadata": {},
   "outputs": [
    {
     "name": "stdout",
     "output_type": "stream",
     "text": [
      "['nw.D110000renmrb_20210325_1-01.htm', 'nw.D110000renmrb_20210325_2-01.htm', 'nw.D110000renmrb_20210325_3-01.htm', 'nw.D110000renmrb_20210325_4-01.htm', 'nw.D110000renmrb_20210325_5-01.htm', 'nw.D110000renmrb_20210325_6-01.htm', 'nw.D110000renmrb_20210325_7-01.htm', 'nw.D110000renmrb_20210325_8-01.htm']\n"
     ]
    }
   ],
   "source": [
    "#cut urls\n",
    "\n",
    "found=re.findall( \"<span>·</span><a href=(.*?)>.*?</a></li>\",content)\n",
    "print(found)"
   ]
  },
  {
   "cell_type": "code",
   "execution_count": null,
   "id": "af468d7e",
   "metadata": {},
   "outputs": [],
   "source": []
  }
 ],
 "metadata": {
  "kernelspec": {
   "display_name": "Python 3",
   "language": "python",
   "name": "python3"
  },
  "language_info": {
   "codemirror_mode": {
    "name": "ipython",
    "version": 3
   },
   "file_extension": ".py",
   "mimetype": "text/x-python",
   "name": "python",
   "nbconvert_exporter": "python",
   "pygments_lexer": "ipython3",
   "version": "3.8.8"
  }
 },
 "nbformat": 4,
 "nbformat_minor": 5
}
