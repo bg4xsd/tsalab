{
 "cells": [
  {
   "cell_type": "code",
   "execution_count": 1,
   "metadata": {},
   "outputs": [],
   "source": [
    "#pandas library"
   ]
  },
  {
   "cell_type": "code",
   "execution_count": 2,
   "metadata": {},
   "outputs": [
    {
     "name": "stdout",
     "output_type": "stream",
     "text": [
      "0    1.0\n",
      "1    3.0\n",
      "2    5.0\n",
      "3    NaN\n",
      "4    6.0\n",
      "5    8.0\n",
      "dtype: float64\n"
     ]
    }
   ],
   "source": [
    "import pandas as pd\n",
    "import numpy as np\n",
    "import matplotlib.pyplot as plt\n",
    "\n",
    "s = pd.Series([1,3,5,np.nan,6,8])\n",
    "print (s)\n"
   ]
  },
  {
   "cell_type": "code",
   "execution_count": 3,
   "metadata": {},
   "outputs": [
    {
     "name": "stdout",
     "output_type": "stream",
     "text": [
      "a    4\n",
      "b    7\n",
      "c   -5\n",
      "d    3\n",
      "dtype: int64\n"
     ]
    }
   ],
   "source": [
    "import pandas as pd\n",
    "import numpy as np\n",
    "\n",
    "series1 = pd.Series([4,7,-5,3], index=['a','b','c','d'])\n",
    "print (series1)\n"
   ]
  },
  {
   "cell_type": "code",
   "execution_count": 4,
   "metadata": {},
   "outputs": [
    {
     "name": "stdout",
     "output_type": "stream",
     "text": [
      "Ohio      35000\n",
      "Texas     71000\n",
      "Oregon    16000\n",
      "Utah       5000\n",
      "dtype: int64\n"
     ]
    }
   ],
   "source": [
    "sdata = {'Ohio': 35000, 'Texas': 71000, 'Oregon': 16000, 'Utah': 5000}\n",
    "series1 = pd. Series(sdata)\n",
    "print (series1)\n"
   ]
  },
  {
   "cell_type": "code",
   "execution_count": 5,
   "metadata": {},
   "outputs": [
    {
     "name": "stdout",
     "output_type": "stream",
     "text": [
      "Ohio      False\n",
      "Texas     False\n",
      "Oregon    False\n",
      "Utah      False\n",
      "dtype: bool\n",
      "Ohio      True\n",
      "Texas     True\n",
      "Oregon    True\n",
      "Utah      True\n",
      "dtype: bool\n"
     ]
    }
   ],
   "source": [
    "print(pd.isnull(series1))\n",
    "print(pd.notnull(series1))\n"
   ]
  },
  {
   "cell_type": "code",
   "execution_count": 6,
   "metadata": {},
   "outputs": [
    {
     "name": "stdout",
     "output_type": "stream",
     "text": [
      "      A\n",
      "0     1\n",
      "1    20\n",
      "2    21\n",
      "3    21\n",
      "4    22\n",
      "5    26\n",
      "6    33\n",
      "7    35\n",
      "8    36\n",
      "9    37\n",
      "10   39\n",
      "11   42\n",
      "12   45\n",
      "13   47\n",
      "14   54\n",
      "15   57\n",
      "16   61\n",
      "17   62\n",
      "18  400\n"
     ]
    },
    {
     "data": {
      "image/png": "[encoded data removed]",
      "text/plain": [
       "<Figure size 432x288 with 1 Axes>"
      ]
     },
     "metadata": {
      "needs_background": "light"
     },
     "output_type": "display_data"
    }
   ],
   "source": [
    "#add \n",
    "import numpy as np\n",
    "import pandas as pd\n",
    "import matplotlib.pyplot as plt\n",
    "import seaborn as sns\n",
    "import matplotlib as mpl\n",
    "indexes = np.arange(19)\n",
    "list_me = [1,20,21,21,22,26,33,35,36,37,39,42,45,47,54,57,61,62,400]\n",
    "list_me=np.asarray(list_me)\n",
    "df_me = pd.DataFrame(list_me, index=indexes, columns=['A'])\n",
    "print (df_me)\n",
    "\n",
    "df_me.boxplot(column=['A'],showfliers=True)\n",
    "plt.show()"
   ]
  },
  {
   "cell_type": "code",
   "execution_count": 7,
   "metadata": {},
   "outputs": [
    {
     "name": "stdout",
     "output_type": "stream",
     "text": [
      "                   A         B         C         D\n",
      "2013-01-01 -0.102821 -0.074016  1.733482 -0.417898\n",
      "2013-01-02  1.224306  0.169381 -1.328497 -1.151224\n",
      "2013-01-03 -1.660645 -1.561478 -0.500707 -0.070447\n",
      "2013-01-04  0.854287  0.182100 -1.702993 -1.430402\n",
      "2013-01-05  0.593328  1.422485 -0.030999  0.662806\n",
      "2013-01-06  0.180539 -0.261216 -0.050609 -0.822267\n",
      "                   A         B         C         D      E\n",
      "2013-01-01 -0.102821 -0.074016  1.733482 -0.417898    one\n",
      "2013-01-02  1.224306  0.169381 -1.328497 -1.151224    one\n",
      "2013-01-03 -1.660645 -1.561478 -0.500707 -0.070447    two\n",
      "2013-01-04  0.854287  0.182100 -1.702993 -1.430402  three\n",
      "2013-01-05  0.593328  1.422485 -0.030999  0.662806   four\n",
      "2013-01-06  0.180539 -0.261216 -0.050609 -0.822267  three\n"
     ]
    }
   ],
   "source": [
    "import pandas as pd\n",
    "import numpy as np\n",
    "import matplotlib.pyplot as plt\n",
    "\n",
    "dates = pd.date_range('20130101', periods=6)\n",
    "df = pd.DataFrame(np.random.randn(6,4), index=dates, columns=['A', 'B', 'C', 'D'])\n",
    "print (df)\n",
    "\n",
    "df['E']=[ 'one', 'one', 'two', 'three', 'four', 'three'] # 增加一列，列名为E\n",
    "print (df)\n"
   ]
  },
  {
   "cell_type": "code",
   "execution_count": 8,
   "metadata": {},
   "outputs": [
    {
     "name": "stdout",
     "output_type": "stream",
     "text": [
      "     A          B    C  D      E    F\n",
      "0  1.0 2013-01-02  1.0  3   test  foo\n",
      "1  1.0 2013-01-02  1.0  3  train  foo\n",
      "2  1.0 2013-01-02  1.0  3   test  foo\n",
      "3  1.0 2013-01-02  1.0  3  train  foo\n"
     ]
    }
   ],
   "source": [
    "df2 = pd.DataFrame({ 'A' : 1., \n",
    "    'B' : pd.Timestamp('20130102'),\n",
    "    'C' : pd.Series(1,index=range(4),dtype='float32'),\n",
    "    'D' : np.array([3] * 4,dtype='int32'),\n",
    "    'E' : pd.Categorical([\"test\",\"train\",\"test\",\"train\"]),\n",
    "    'F' : 'foo' })\n",
    "print (df2)\n"
   ]
  },
  {
   "cell_type": "code",
   "execution_count": 9,
   "metadata": {},
   "outputs": [
    {
     "name": "stdout",
     "output_type": "stream",
     "text": [
      "                   A         B         C         D      E\n",
      "2013-01-01 -0.102821 -0.074016  1.733482 -0.417898    one\n",
      "2013-01-02  1.224306  0.169381 -1.328497 -1.151224    one\n",
      "2013-01-03 -1.660645 -1.561478 -0.500707 -0.070447    two\n",
      "2013-01-04  0.854287  0.182100 -1.702993 -1.430402  three\n",
      "2013-01-05  0.593328  1.422485 -0.030999  0.662806   four\n",
      "                   A         B         C         D      E\n",
      "2013-01-02  1.224306  0.169381 -1.328497 -1.151224    one\n",
      "2013-01-03 -1.660645 -1.561478 -0.500707 -0.070447    two\n",
      "2013-01-04  0.854287  0.182100 -1.702993 -1.430402  three\n",
      "2013-01-05  0.593328  1.422485 -0.030999  0.662806   four\n",
      "2013-01-06  0.180539 -0.261216 -0.050609 -0.822267  three\n",
      "DatetimeIndex(['2013-01-01', '2013-01-02', '2013-01-03', '2013-01-04',\n",
      "               '2013-01-05', '2013-01-06'],\n",
      "              dtype='datetime64[ns]', freq='D')\n",
      "Index(['A', 'B', 'C', 'D', 'E'], dtype='object')\n",
      "A    float64\n",
      "B    float64\n",
      "C    float64\n",
      "D    float64\n",
      "E     object\n",
      "dtype: object\n",
      "[[-0.10282073603760981 -0.074016120575982 1.7334821074435538\n",
      "  -0.4178979976740372 'one']\n",
      " [1.2243064675443405 0.16938067629067635 -1.3284970694817517\n",
      "  -1.1512244173888126 'one']\n",
      " [-1.6606448646201426 -1.5614781080308489 -0.5007069331231616\n",
      "  -0.07044711058100088 'two']\n",
      " [0.854286719897269 0.18209958854408534 -1.7029932892186759\n",
      "  -1.4304018892679513 'three']\n",
      " [0.5933280738923221 1.422485408209536 -0.030998720380844277\n",
      "  0.6628056964183615 'four']\n",
      " [0.1805393051245929 -0.2612161736761829 -0.050608710190961644\n",
      "  -0.8222674614697234 'three']]\n"
     ]
    }
   ],
   "source": [
    "print (df.head())# 前5行\n",
    "print (df.tail())# 后5行\n",
    "df.describe()# 描述信息\n",
    "\n",
    "print (df.index)# 行标签\n",
    "print (df.columns)# 列标签\n",
    "print (df.dtypes)# 各列的数据类型\n",
    "print (df.values)# DataFrame的值\n"
   ]
  },
  {
   "cell_type": "code",
   "execution_count": 10,
   "metadata": {},
   "outputs": [
    {
     "name": "stdout",
     "output_type": "stream",
     "text": [
      "  2013-01-01 2013-01-02 2013-01-03 2013-01-04 2013-01-05 2013-01-06\n",
      "A  -0.102821   1.224306  -1.660645   0.854287   0.593328   0.180539\n",
      "B  -0.074016   0.169381  -1.561478     0.1821   1.422485  -0.261216\n",
      "C   1.733482  -1.328497  -0.500707  -1.702993  -0.030999  -0.050609\n",
      "D  -0.417898  -1.151224  -0.070447  -1.430402   0.662806  -0.822267\n",
      "E        one        one        two      three       four      three\n"
     ]
    }
   ],
   "source": [
    "print (df.T)"
   ]
  },
  {
   "cell_type": "code",
   "execution_count": 11,
   "metadata": {},
   "outputs": [
    {
     "name": "stdout",
     "output_type": "stream",
     "text": [
      "                E         D         C         B         A\n",
      "2013-01-01    one -0.417898  1.733482 -0.074016 -0.102821\n",
      "2013-01-02    one -1.151224 -1.328497  0.169381  1.224306\n",
      "2013-01-03    two -0.070447 -0.500707 -1.561478 -1.660645\n",
      "2013-01-04  three -1.430402 -1.702993  0.182100  0.854287\n",
      "2013-01-05   four  0.662806 -0.030999  1.422485  0.593328\n",
      "2013-01-06  three -0.822267 -0.050609 -0.261216  0.180539\n"
     ]
    }
   ],
   "source": [
    "df = df.sort_index(axis=1, ascending=False) #沿着列方向对col name进行降序排序\n",
    "print (df)\n",
    "\n"
   ]
  },
  {
   "cell_type": "code",
   "execution_count": 12,
   "metadata": {},
   "outputs": [
    {
     "name": "stdout",
     "output_type": "stream",
     "text": [
      "                E         D         C         B         A\n",
      "2013-01-03    two -0.070447 -0.500707 -1.561478 -1.660645\n",
      "2013-01-06  three -0.822267 -0.050609 -0.261216  0.180539\n",
      "2013-01-01    one -0.417898  1.733482 -0.074016 -0.102821\n",
      "2013-01-02    one -1.151224 -1.328497  0.169381  1.224306\n",
      "2013-01-04  three -1.430402 -1.702993  0.182100  0.854287\n",
      "2013-01-05   four  0.662806 -0.030999  1.422485  0.593328\n"
     ]
    }
   ],
   "source": [
    "df = df.sort_values(by='B')\n",
    "print (df)\n"
   ]
  },
  {
   "cell_type": "code",
   "execution_count": 13,
   "metadata": {},
   "outputs": [
    {
     "name": "stdout",
     "output_type": "stream",
     "text": [
      "                   A         B         C         D      E\n",
      "2013-01-01 -0.102821 -0.074016  1.733482 -0.417898    one\n",
      "2013-01-02  1.224306  0.169381 -1.328497 -1.151224    one\n",
      "2013-01-03 -1.660645 -1.561478 -0.500707 -0.070447    two\n",
      "2013-01-04  0.854287  0.182100 -1.702993 -1.430402  three\n",
      "2013-01-05  0.593328  1.422485 -0.030999  0.662806   four\n",
      "2013-01-06  0.180539 -0.261216 -0.050609 -0.822267  three\n",
      "2013-01-01   -0.102821\n",
      "2013-01-02    1.224306\n",
      "2013-01-03   -1.660645\n",
      "2013-01-04    0.854287\n",
      "2013-01-05    0.593328\n",
      "2013-01-06    0.180539\n",
      "Name: A, dtype: float64\n"
     ]
    }
   ],
   "source": [
    "df = df.sort_index(axis=1, ascending=True)\n",
    "df = df.sort_index(axis=0, ascending=True)\n",
    "print(df)\n",
    "\n",
    "print (df['A'])"
   ]
  },
  {
   "cell_type": "code",
   "execution_count": 14,
   "metadata": {},
   "outputs": [
    {
     "name": "stdout",
     "output_type": "stream",
     "text": [
      "                   A         B         C         D    E\n",
      "2013-01-01 -0.102821 -0.074016  1.733482 -0.417898  one\n",
      "2013-01-02  1.224306  0.169381 -1.328497 -1.151224  one\n",
      "2013-01-03 -1.660645 -1.561478 -0.500707 -0.070447  two\n",
      "                   A         B         C         D      E\n",
      "2013-01-02  1.224306  0.169381 -1.328497 -1.151224    one\n",
      "2013-01-03 -1.660645 -1.561478 -0.500707 -0.070447    two\n",
      "2013-01-04  0.854287  0.182100 -1.702993 -1.430402  three\n"
     ]
    }
   ],
   "source": [
    "print (df[0:3])\n",
    "print (df['20130102':'20130104'])\n",
    "\n"
   ]
  },
  {
   "cell_type": "code",
   "execution_count": 15,
   "metadata": {},
   "outputs": [
    {
     "name": "stdout",
     "output_type": "stream",
     "text": [
      "                   A         B\n",
      "2013-01-02  1.224306  0.169381\n",
      "2013-01-03 -1.660645 -1.561478\n",
      "2013-01-04  0.854287  0.182100\n",
      "                   A         B\n",
      "2013-01-04  0.854287  0.182100\n",
      "2013-01-05  0.593328  1.422485\n",
      "                   A         C\n",
      "2013-01-02  1.224306 -1.328497\n",
      "2013-01-03 -1.660645 -0.500707\n",
      "2013-01-05  0.593328 -0.030999\n",
      "                   A         B         C         D    E\n",
      "2013-01-02  1.224306  0.169381 -1.328497 -1.151224  one\n",
      "2013-01-03 -1.660645 -1.561478 -0.500707 -0.070447  two\n",
      "                   B         C\n",
      "2013-01-01 -0.074016  1.733482\n",
      "2013-01-02  0.169381 -1.328497\n",
      "2013-01-03 -1.561478 -0.500707\n",
      "2013-01-04  0.182100 -1.702993\n",
      "2013-01-05  1.422485 -0.030999\n",
      "2013-01-06 -0.261216 -0.050609\n",
      "0.16938067629067635\n",
      "0.16938067629067635\n"
     ]
    }
   ],
   "source": [
    "print (df.loc['20130102':'20130104',['A','B']] )#行标签范围('20130102', '20130103', '20130104')和列标签列表('A', 'B')\n",
    "print (df.iloc[3:5,0:2] )# row=3,4,col=0,1\n",
    "print (df.iloc[[1,2,4],[0,2]] )# row=1,2,4,col=0,2\n",
    "\n",
    "print (df.iloc[1:3, :] )  # row=1,2, col=all\n",
    "print (df.iloc[:, 1:3] )  # row=all, col=1,2\n",
    "\n",
    "print (df.iloc[1,1] ) # 提取一个单元(cell)的值\n",
    "print (df.iat[1,1])  # 提取一个单元(cell)的值\n"
   ]
  },
  {
   "cell_type": "code",
   "execution_count": 16,
   "metadata": {},
   "outputs": [
    {
     "name": "stdout",
     "output_type": "stream",
     "text": [
      "                   A         B         C         D      E\n",
      "2013-01-02  1.224306  0.169381 -1.328497 -1.151224    one\n",
      "2013-01-04  0.854287  0.182100 -1.702993 -1.430402  three\n",
      "2013-01-05  0.593328  1.422485 -0.030999  0.662806   four\n",
      "2013-01-06  0.180539 -0.261216 -0.050609 -0.822267  three\n",
      "     A          B    C  D      E    F\n",
      "1  1.0 2013-01-02  1.0  3  train  foo\n",
      "3  1.0 2013-01-02  1.0  3  train  foo\n"
     ]
    }
   ],
   "source": [
    "print (df[df.A > 0])\n",
    "print (df2[df2['E'].isin(['train'])])\n"
   ]
  },
  {
   "cell_type": "code",
   "execution_count": 17,
   "metadata": {},
   "outputs": [
    {
     "name": "stdout",
     "output_type": "stream",
     "text": [
      "     A          B    C  D      E    F\n",
      "0  1.0 2013-01-02  1.0  3   test  foo\n",
      "1  1.0 2013-01-02  1.0  3  train  foo\n",
      "2  1.0 2013-01-02  1.0  3   test  foo\n",
      "3  1.0 2013-01-02  1.0  3  train  foo\n"
     ]
    }
   ],
   "source": [
    "print(df2)"
   ]
  },
  {
   "cell_type": "code",
   "execution_count": 18,
   "metadata": {},
   "outputs": [
    {
     "name": "stdout",
     "output_type": "stream",
     "text": [
      "                    A         B         C         D      E\n",
      "2013-01-01 -99.000000 -0.074016  1.733482 -0.417898    one\n",
      "2013-01-02   1.224306  0.169381 -1.328497 -1.151224    one\n",
      "2013-01-03  -1.660645 -1.561478 -0.500707 -0.070447    two\n",
      "2013-01-04   0.854287  0.182100 -1.702993 -1.430402  three\n",
      "2013-01-05   0.593328  1.422485 -0.030999  0.662806   four\n",
      "                    A         B         C         D      E\n",
      "2013-01-01 -99.000000  3.000000  1.733482 -0.417898    one\n",
      "2013-01-02   1.224306  0.169381 -1.328497 -1.151224    one\n",
      "2013-01-03  -1.660645 -1.561478 -0.500707 -0.070447    two\n",
      "2013-01-04   0.854287  0.182100 -1.702993 -1.430402  three\n",
      "2013-01-05   0.593328  1.422485 -0.030999  0.662806   four\n",
      "                    A         B         C  D      E\n",
      "2013-01-01 -99.000000  3.000000  1.733482  5    one\n",
      "2013-01-02   1.224306  0.169381 -1.328497  5    one\n",
      "2013-01-03  -1.660645 -1.561478 -0.500707  5    two\n",
      "2013-01-04   0.854287  0.182100 -1.702993  5  three\n",
      "2013-01-05   0.593328  1.422485 -0.030999  5   four\n",
      "2013-01-06   0.180539 -0.261216 -0.050609  5  three\n"
     ]
    }
   ],
   "source": [
    "df.at[dates[0],'A'] = -99 # 通过行标签和列标签，设定单元格的值，注意dates[0]为'20130101'\n",
    "print (df.head())\n",
    "\n",
    "df.iat[0,1] = 3# 通过行下标和列下标，设定单元格的值\n",
    "print (df.head())\n",
    "\n",
    "df.loc[:,'D'] = np.array([5] * len(df))# 对整列进行设置, len(df)表示df的长度，即有多少行\n",
    "print (df)\n"
   ]
  },
  {
   "cell_type": "code",
   "execution_count": 19,
   "metadata": {},
   "outputs": [
    {
     "name": "stdout",
     "output_type": "stream",
     "text": [
      "                    A         B         C  D      E\n",
      "2013-01-01 -99.000000  3.000000       NaN  5    one\n",
      "2013-01-02   1.224306  0.169381 -1.328497  5    one\n",
      "2013-01-03  -1.660645 -1.561478 -0.500707  5    two\n",
      "2013-01-04   0.854287  0.182100 -1.702993  5  three\n",
      "2013-01-05   0.593328  1.422485 -0.030999  5   four\n",
      "2013-01-06   0.180539 -0.261216 -0.050609  5  three\n",
      "                   A         B         C  D      E\n",
      "2013-01-02  1.224306  0.169381 -1.328497  5    one\n",
      "2013-01-03 -1.660645 -1.561478 -0.500707  5    two\n",
      "2013-01-04  0.854287  0.182100 -1.702993  5  three\n",
      "2013-01-05  0.593328  1.422485 -0.030999  5   four\n",
      "2013-01-06  0.180539 -0.261216 -0.050609  5  three\n",
      "                A      B      C      D      E\n",
      "2013-01-02  False  False  False  False  False\n",
      "2013-01-03  False  False  False  False  False\n",
      "2013-01-04  False  False  False  False  False\n",
      "2013-01-05  False  False  False  False  False\n",
      "2013-01-06  False  False  False  False  False\n"
     ]
    },
    {
     "data": {
      "text/html": [
       "<div>\n",
       "<style scoped>\n",
       "    .dataframe tbody tr th:only-of-type {\n",
       "        vertical-align: middle;\n",
       "    }\n",
       "\n",
       "    .dataframe tbody tr th {\n",
       "        vertical-align: top;\n",
       "    }\n",
       "\n",
       "    .dataframe thead th {\n",
       "        text-align: right;\n",
       "    }\n",
       "</style>\n",
       "<table border=\"1\" class=\"dataframe\">\n",
       "  <thead>\n",
       "    <tr style=\"text-align: right;\">\n",
       "      <th></th>\n",
       "      <th>A</th>\n",
       "      <th>B</th>\n",
       "      <th>C</th>\n",
       "      <th>D</th>\n",
       "      <th>E</th>\n",
       "    </tr>\n",
       "  </thead>\n",
       "  <tbody>\n",
       "    <tr>\n",
       "      <th>2013-01-02</th>\n",
       "      <td>1.224306</td>\n",
       "      <td>0.169381</td>\n",
       "      <td>-1.328497</td>\n",
       "      <td>5</td>\n",
       "      <td>one</td>\n",
       "    </tr>\n",
       "    <tr>\n",
       "      <th>2013-01-03</th>\n",
       "      <td>-1.660645</td>\n",
       "      <td>-1.561478</td>\n",
       "      <td>-0.500707</td>\n",
       "      <td>5</td>\n",
       "      <td>two</td>\n",
       "    </tr>\n",
       "    <tr>\n",
       "      <th>2013-01-04</th>\n",
       "      <td>0.854287</td>\n",
       "      <td>0.182100</td>\n",
       "      <td>-1.702993</td>\n",
       "      <td>5</td>\n",
       "      <td>three</td>\n",
       "    </tr>\n",
       "    <tr>\n",
       "      <th>2013-01-05</th>\n",
       "      <td>0.593328</td>\n",
       "      <td>1.422485</td>\n",
       "      <td>-0.030999</td>\n",
       "      <td>5</td>\n",
       "      <td>four</td>\n",
       "    </tr>\n",
       "    <tr>\n",
       "      <th>2013-01-06</th>\n",
       "      <td>0.180539</td>\n",
       "      <td>-0.261216</td>\n",
       "      <td>-0.050609</td>\n",
       "      <td>5</td>\n",
       "      <td>three</td>\n",
       "    </tr>\n",
       "  </tbody>\n",
       "</table>\n",
       "</div>"
      ],
      "text/plain": [
       "                   A         B         C  D      E\n",
       "2013-01-02  1.224306  0.169381 -1.328497  5    one\n",
       "2013-01-03 -1.660645 -1.561478 -0.500707  5    two\n",
       "2013-01-04  0.854287  0.182100 -1.702993  5  three\n",
       "2013-01-05  0.593328  1.422485 -0.030999  5   four\n",
       "2013-01-06  0.180539 -0.261216 -0.050609  5  three"
      ]
     },
     "execution_count": 19,
     "metadata": {},
     "output_type": "execute_result"
    }
   ],
   "source": [
    "df.iat[0,2] = np.nan\n",
    "print (df)\n",
    "df = df.dropna(how='any') # 把包含缺失值的行删除，有一行数据被删掉\n",
    "print (df)\n",
    "\n",
    "print (pd.isnull(df))\n",
    "df.fillna(value=5) # 用5代替缺失值\n"
   ]
  },
  {
   "cell_type": "code",
   "execution_count": 20,
   "metadata": {},
   "outputs": [
    {
     "name": "stdout",
     "output_type": "stream",
     "text": [
      "                   A         B         C  D      E\n",
      "2013-01-02  1.224306  0.169381 -1.328497  5    one\n",
      "2013-01-03 -1.660645 -1.561478 -0.500707  5    two\n",
      "2013-01-04  0.854287  0.182100 -1.702993  5  three\n",
      "2013-01-05  0.593328  1.422485 -0.030999  5   four\n",
      "2013-01-06  0.180539 -0.261216 -0.050609  5  three\n",
      "A    0.238363\n",
      "B   -0.009746\n",
      "C   -0.722761\n",
      "D    5.000000\n",
      "dtype: float64\n"
     ]
    },
    {
     "name": "stderr",
     "output_type": "stream",
     "text": [
      "<ipython-input-20-8a30312f765d>:2: FutureWarning: Dropping of nuisance columns in DataFrame reductions (with 'numeric_only=None') is deprecated; in a future version this will raise TypeError.  Select only valid columns before calling the reduction.\n",
      "  print (df.mean())\n"
     ]
    }
   ],
   "source": [
    "print(df)\n",
    "print (df.mean())\n"
   ]
  },
  {
   "cell_type": "code",
   "execution_count": 21,
   "metadata": {},
   "outputs": [
    {
     "data": {
      "text/plain": [
       "A    2.884951\n",
       "B    2.983964\n",
       "C    1.671995\n",
       "D    0.000000\n",
       "dtype: float64"
      ]
     },
     "execution_count": 21,
     "metadata": {},
     "output_type": "execute_result"
    }
   ],
   "source": [
    "df = df[['A','B','C','D']]\n",
    "df.apply(lambda x: x.max() - x.min())"
   ]
  },
  {
   "cell_type": "code",
   "execution_count": 22,
   "metadata": {},
   "outputs": [
    {
     "name": "stdout",
     "output_type": "stream",
     "text": [
      "4    4\n",
      "2    2\n",
      "6    2\n",
      "0    1\n",
      "5    1\n",
      "dtype: int64\n"
     ]
    },
    {
     "data": {
      "image/png": "[encoded data removed]",
      "text/plain": [
       "<Figure size 432x288 with 1 Axes>"
      ]
     },
     "metadata": {
      "needs_background": "light"
     },
     "output_type": "display_data"
    }
   ],
   "source": [
    "s = pd.Series(np.random.randint(0, 7, size=10))# 生成10个随机数，值域为[0,7)\n",
    "print (s.value_counts())\n",
    "\n",
    "import matplotlib.pyplot as plt\n",
    "s.plot.hist( grid=True, rwidth=0.9,color='#607c8e')\n",
    "plt.xlabel('counts')\n",
    "plt.ylabel('value')\n",
    "plt.grid(axis='y',alpha=0.75)\n",
    "plt.show()"
   ]
  },
  {
   "cell_type": "code",
   "execution_count": 23,
   "metadata": {},
   "outputs": [
    {
     "name": "stdout",
     "output_type": "stream",
     "text": [
      "0       a\n",
      "1       b\n",
      "2       c\n",
      "3    aaba\n",
      "4    baca\n",
      "5     NaN\n",
      "6    caba\n",
      "7     dog\n",
      "8     cat\n",
      "dtype: object\n"
     ]
    }
   ],
   "source": [
    "s = pd.Series(['A', 'B', 'C', 'Aaba', 'Baca', np.nan, 'CABA', 'dog', 'cat'])\n",
    "s=s.str.lower()\n",
    "print (s)\n"
   ]
  },
  {
   "cell_type": "code",
   "execution_count": 24,
   "metadata": {},
   "outputs": [
    {
     "name": "stdout",
     "output_type": "stream",
     "text": [
      "          0         1         2         3\n",
      "0  0.972248  1.243516  0.293677 -1.542082\n",
      "1 -0.584461 -0.110593 -0.341699  0.027619\n",
      "2  1.116964  0.427137 -0.099681  0.811036\n",
      "3 -0.051678  0.144880  1.282465  2.425218\n",
      "4  0.668255 -0.187228 -0.270858 -0.668954\n",
      "5  0.004741  2.694899 -0.258076  0.217395\n",
      "6 -1.349032 -0.862472 -0.791706 -0.052611\n",
      "7  1.413558  0.424987 -1.641632 -0.068325\n",
      "8  1.446836 -0.442095 -1.363198  0.625488\n",
      "9  1.109121 -1.465348  0.588019  0.523982\n",
      "          0         1         2         3\n",
      "0  0.972248  1.243516  0.293677 -1.542082\n",
      "1 -0.584461 -0.110593 -0.341699  0.027619\n",
      "2  1.116964  0.427137 -0.099681  0.811036\n",
      "3 -0.051678  0.144880  1.282465  2.425218\n",
      "4  0.668255 -0.187228 -0.270858 -0.668954\n",
      "5  0.004741  2.694899 -0.258076  0.217395\n",
      "6 -1.349032 -0.862472 -0.791706 -0.052611\n",
      "7  1.413558  0.424987 -1.641632 -0.068325\n",
      "8  1.446836 -0.442095 -1.363198  0.625488\n",
      "9  1.109121 -1.465348  0.588019  0.523982\n"
     ]
    }
   ],
   "source": [
    "df = pd.DataFrame(np.random.randn(10, 4))\n",
    "print (df)\n",
    "pieces = [df[:3], df[3:7], df[7:]]\n",
    "print (pd.concat(pieces))\n"
   ]
  },
  {
   "cell_type": "code",
   "execution_count": 25,
   "metadata": {},
   "outputs": [
    {
     "name": "stdout",
     "output_type": "stream",
     "text": [
      "   key  lval\n",
      "0  foo     1\n",
      "1  bar     2\n",
      "   key  rval\n",
      "0  foo     4\n",
      "1  bar     5\n",
      "   key  lval  rval\n",
      "0  foo     1     4\n",
      "1  bar     2     5\n"
     ]
    }
   ],
   "source": [
    "left = pd.DataFrame({'key': ['foo', 'bar'], 'lval': [1, 2]})\n",
    "right = pd.DataFrame({'key': ['foo', 'bar'], 'rval': [4, 5]})\n",
    "print (left)\n",
    "print (right)\n",
    "print (pd.merge(left, right, on='key'))\n"
   ]
  },
  {
   "cell_type": "code",
   "execution_count": 26,
   "metadata": {},
   "outputs": [
    {
     "name": "stdout",
     "output_type": "stream",
     "text": [
      "          A         B         C         D\n",
      "0  0.557729 -0.826913  0.345289  0.374580\n",
      "1 -0.228647 -0.680059  0.148419 -0.852747\n",
      "2 -0.104082 -0.634761 -1.499582  0.425257\n",
      "3  0.871465 -0.645946  0.056055  1.051431\n",
      "4 -0.143394  1.908339 -0.070766 -0.706791\n",
      "5 -0.549284 -0.956439 -0.776776 -0.673842\n",
      "6  0.044567 -0.618589  0.352332 -0.562122\n",
      "7  0.373592 -1.199573  0.984857  0.646737\n",
      "A    0.871465\n",
      "B   -0.645946\n",
      "C    0.056055\n",
      "D    1.051431\n",
      "Name: 3, dtype: float64\n",
      "          A         B         C         D\n",
      "0  0.557729 -0.826913  0.345289  0.374580\n",
      "1 -0.228647 -0.680059  0.148419 -0.852747\n",
      "2 -0.104082 -0.634761 -1.499582  0.425257\n",
      "3  0.871465 -0.645946  0.056055  1.051431\n",
      "4 -0.143394  1.908339 -0.070766 -0.706791\n",
      "5 -0.549284 -0.956439 -0.776776 -0.673842\n",
      "6  0.044567 -0.618589  0.352332 -0.562122\n",
      "7  0.373592 -1.199573  0.984857  0.646737\n",
      "8  0.871465 -0.645946  0.056055  1.051431\n"
     ]
    },
    {
     "name": "stderr",
     "output_type": "stream",
     "text": [
      "<ipython-input-26-386a259d04e2>:6: FutureWarning: The frame.append method is deprecated and will be removed from pandas in a future version. Use pandas.concat instead.\n",
      "  df = df.append(s, ignore_index=True)\n"
     ]
    }
   ],
   "source": [
    "df = pd.DataFrame(np.random.randn(8, 4), columns=['A','B','C','D'])\n",
    "print (df)\n",
    "\n",
    "s = df.iloc[3]\n",
    "print (s)\n",
    "df = df.append(s, ignore_index=True)\n",
    "print (df)\n"
   ]
  },
  {
   "cell_type": "code",
   "execution_count": 27,
   "metadata": {},
   "outputs": [
    {
     "name": "stdout",
     "output_type": "stream",
     "text": [
      "          A         B         C         D\n",
      "0  1.153168  0.195346  0.711350 -1.565310\n",
      "1  0.524834 -0.389281 -2.267316  0.031637\n",
      "2 -0.296719 -0.222557 -0.490364  0.624312\n",
      "3  1.067398  0.600937  0.247716 -0.432917\n",
      "4 -0.379720 -1.057955  0.160881 -0.250773\n",
      "5 -0.860482  0.866591  0.355981  1.902500\n",
      "6  0.426793  0.740254  0.064102  2.270252\n",
      "7 -1.189319 -1.711792  2.350886 -0.145878\n",
      "          A         B         C         D    big  small\n",
      "0  1.153168  0.195346  0.711350 -1.565310   True  False\n",
      "1  0.524834 -0.389281 -2.267316  0.031637   True   True\n",
      "2 -0.296719 -0.222557 -0.490364  0.624312  False   True\n",
      "3  1.067398  0.600937  0.247716 -0.432917   True  False\n",
      "4 -0.379720 -1.057955  0.160881 -0.250773  False   True\n",
      "5 -0.860482  0.866591  0.355981  1.902500  False  False\n",
      "6  0.426793  0.740254  0.064102  2.270252   True  False\n",
      "7 -1.189319 -1.711792  2.350886 -0.145878  False   True\n",
      "          A         B         C         D    big\n",
      "0  1.153168  0.195346  0.711350 -1.565310   True\n",
      "1  0.524834 -0.389281 -2.267316  0.031637   True\n",
      "2 -0.296719 -0.222557 -0.490364  0.624312  False\n",
      "3  1.067398  0.600937  0.247716 -0.432917   True\n",
      "4 -0.379720 -1.057955  0.160881 -0.250773  False\n",
      "5 -0.860482  0.866591  0.355981  1.902500  False\n",
      "6  0.426793  0.740254  0.064102  2.270252   True\n",
      "7 -1.189319 -1.711792  2.350886 -0.145878  False\n"
     ]
    }
   ],
   "source": [
    "df = pd.DataFrame(np.random.randn(8, 4), columns=['A','B','C','D'])\n",
    "print (df)\n",
    " \n",
    "df['big'] = df.A>0 # 增加一列，这列的值根据A是否大于0来确定true或者false\n",
    "df['small'] = df.B<0# 增加一列，这列的值根据A是否<于0来确定true或者false\n",
    "print (df)\n",
    "\n",
    "del df['small']# 删除一列\n",
    "print (df)\n"
   ]
  },
  {
   "cell_type": "code",
   "execution_count": 28,
   "metadata": {},
   "outputs": [
    {
     "name": "stdout",
     "output_type": "stream",
     "text": [
      "     A      B         C         D\n",
      "0  foo    one -0.886667 -0.697401\n",
      "1  bar    one -0.955585  0.853989\n",
      "2  foo    two  1.333493  0.249349\n",
      "3  bar  three -0.214399 -1.559794\n",
      "4  foo    two  0.439552  0.737726\n",
      "5  bar    two  0.236952 -1.266885\n",
      "6  foo    one -1.641850  0.519281\n",
      "7  foo  three  2.239281  1.601194\n",
      "            C        D\n",
      "A                     \n",
      "bar -0.933032 -1.97269\n",
      "foo  1.483808  2.41015\n",
      "                  C         D\n",
      "A   B                        \n",
      "bar one   -0.955585  0.853989\n",
      "    three -0.214399 -1.559794\n",
      "    two    0.236952 -1.266885\n",
      "foo one   -2.528517 -0.178120\n",
      "    three  2.239281  1.601194\n",
      "    two    1.773044  0.987076\n"
     ]
    }
   ],
   "source": [
    "df = pd.DataFrame({'A' : ['foo', 'bar', 'foo', 'bar', 'foo', 'bar', 'foo', 'foo'],\n",
    "           'B' : ['one', 'one', 'two', 'three', 'two', 'two', 'one', 'three'],\n",
    "           'C' : np.random.randn(8),\n",
    "           'D' : np.random.randn(8)})\n",
    "print (df)\n",
    "\n",
    "print (df.groupby('A').sum())# 按照列A的值进行分组，计算其它数值字段的总和\n",
    "print (df.groupby(['A','B']).sum())# 按照列A、列B的值进行分组，计算其它数值字段的总和\n"
   ]
  },
  {
   "cell_type": "code",
   "execution_count": 29,
   "metadata": {},
   "outputs": [
    {
     "name": "stdout",
     "output_type": "stream",
     "text": [
      "        A  B    C         D         E\n",
      "0     one  A  foo -0.056809 -1.271702\n",
      "1     one  B  foo  1.332567  1.350449\n",
      "2     two  C  foo -0.681578  0.726672\n",
      "3   three  A  bar -1.495004  0.626411\n",
      "4     one  B  bar -2.097765  0.912190\n",
      "5     one  C  bar  0.235049  0.177922\n",
      "6     two  A  foo  0.757694 -1.317752\n",
      "7   three  B  foo -0.100072 -0.282517\n",
      "8     one  C  foo  0.210976  0.785884\n",
      "9     one  A  bar -1.397211  0.430028\n",
      "10    two  B  bar -1.150837 -0.108969\n",
      "11  three  C  bar -0.170275 -0.024737\n",
      "C             bar       foo\n",
      "A     B                    \n",
      "one   A -1.397211 -0.056809\n",
      "      B -2.097765  1.332567\n",
      "      C  0.235049  0.210976\n",
      "three A -1.495004       NaN\n",
      "      B       NaN -0.100072\n",
      "      C -0.170275       NaN\n",
      "two   A       NaN  0.757694\n",
      "      B -1.150837       NaN\n",
      "      C       NaN -0.681578\n"
     ]
    }
   ],
   "source": [
    "df = pd.DataFrame({'A' : ['one', 'one', 'two', 'three'] * 3,\n",
    "           'B' : ['A', 'B', 'C'] * 4,\n",
    "           'C' : ['foo', 'foo', 'foo', 'bar', 'bar', 'bar'] * 2,\n",
    "           'D' : np.random.randn(12),\n",
    "           'E' : np.random.randn(12)})\n",
    "print (df)\n",
    "print (pd.pivot_table(df, values='D', index=['A', 'B'], columns=['C']))\n"
   ]
  },
  {
   "cell_type": "code",
   "execution_count": 30,
   "metadata": {},
   "outputs": [
    {
     "name": "stdout",
     "output_type": "stream",
     "text": [
      "    Item   CType  USD   EU\n",
      "0  Item0    Gold    1  1.1\n",
      "1  Item0  Bronze    2  2.2\n",
      "2  Item0    Gold    3  3.3\n",
      "3  Item1  Silver    4  4.4\n",
      "CType  Bronze  Gold  Silver\n",
      "Item                       \n",
      "Item0     2.0   2.0     NaN\n",
      "Item1     NaN   NaN     4.0\n"
     ]
    }
   ],
   "source": [
    "from collections import OrderedDict\n",
    "from pandas import DataFrame\n",
    "import pandas as pd\n",
    "import numpy as np\n",
    "\n",
    "table = OrderedDict((\n",
    "  (\"Item\", ['Item0', 'Item0', 'Item0', 'Item1']),\n",
    "  ('CType',['Gold', 'Bronze', 'Gold', 'Silver']),\n",
    "  ('USD', [1, 2, 3, 4]),\n",
    "  ('EU',  [1.1, 2.2, 3.3, 4.4])\n",
    "))\n",
    "df = DataFrame(table)\n",
    "print (df)\n",
    "print (pd.pivot_table(df,index='Item', columns='CType', values='USD', aggfunc=np.mean))\n"
   ]
  },
  {
   "cell_type": "code",
   "execution_count": 31,
   "metadata": {},
   "outputs": [
    {
     "name": "stdout",
     "output_type": "stream",
     "text": [
      "                  c0      c1\n",
      "r0 r-00 c-00  (0, 0)     NaN\n",
      "        c-01  (0, 1)     NaN\n",
      "        c-10     NaN  (0, 2)\n",
      "   r-01 c-00  (1, 0)     NaN\n",
      "        c-01  (1, 1)     NaN\n",
      "        c-10     NaN  (1, 2)\n",
      "        c0                              c1        \n",
      "      c-00            c-01            c-10        \n",
      "      r-00    r-01    r-00    r-01    r-00    r-01\n",
      "r0  (0, 0)  (1, 0)  (0, 1)  (1, 1)  (0, 2)  (1, 2)\n"
     ]
    }
   ],
   "source": [
    "from collections import OrderedDict\n",
    "from pandas import DataFrame\n",
    "import pandas as pd\n",
    "import numpy as np\n",
    "\n",
    "# 行方向的多级索引(row multi index)\n",
    "row_idx_arr = list(zip(['r0', 'r0'], ['r-00', 'r-01'])) # r0有两个子节点r-00,r-01\n",
    "row_idx = pd.MultiIndex.from_tuples(row_idx_arr)\n",
    "\n",
    "# 列方向的多级索引(column multi index)\n",
    "col_idx_arr = list(zip(['c0', 'c0', 'c1'], ['c-00', 'c-01', 'c-10']))# c0有两个子节点，c1有一个子节点\n",
    "col_idx = pd.MultiIndex.from_tuples(col_idx_arr)\n",
    "\n",
    "# 创建DataFrame，2行3列\n",
    "d = DataFrame(np.arange(6).reshape(2,3), index=row_idx, columns=col_idx)\n",
    "d = d.applymap(lambda x: (x // 3, x % 3))\n",
    "\n",
    "s = d.stack()# Stack\n",
    "print (s)\n",
    "u = d.unstack()# Unstack\n",
    "print (u)\n"
   ]
  },
  {
   "cell_type": "code",
   "execution_count": 32,
   "metadata": {},
   "outputs": [
    {
     "name": "stdout",
     "output_type": "stream",
     "text": [
      "2012-01-01 00:00:00    195\n",
      "2012-01-01 00:00:01     76\n",
      "2012-01-01 00:00:02    249\n",
      "2012-01-01 00:00:03     32\n",
      "2012-01-01 00:00:04     45\n",
      "2012-01-01 00:00:05    495\n",
      "2012-01-01 00:00:06    107\n",
      "2012-01-01 00:00:07    478\n",
      "2012-01-01 00:00:08    345\n",
      "2012-01-01 00:00:09    230\n",
      "Freq: S, dtype: int32\n",
      "2012-01-01    2252\n",
      "Freq: 5T, dtype: int32\n"
     ]
    }
   ],
   "source": [
    "rng = pd.date_range('1/1/2012', periods=10, freq='S') # 频率为秒\n",
    "ts = pd.Series(np.random.randint(0, 500, len(rng)), index=rng)# 备注：生成10个[0,500)之间的整数\n",
    "print (ts)\n",
    "\n",
    "ts = ts.resample('5Min').sum()# 进行“每5分钟”的重新采样\n",
    "#ts = ts.resample('5min', how='sum')\n",
    "print (ts)\n"
   ]
  },
  {
   "cell_type": "code",
   "execution_count": 33,
   "metadata": {},
   "outputs": [
    {
     "name": "stdout",
     "output_type": "stream",
     "text": [
      "2012-03-06    0.888304\n",
      "2012-03-07   -0.071577\n",
      "2012-03-08   -1.069784\n",
      "2012-03-09    0.977425\n",
      "2012-03-10   -0.091796\n",
      "Freq: D, dtype: float64\n",
      "2012-03-06 00:00:00+00:00    0.888304\n",
      "2012-03-07 00:00:00+00:00   -0.071577\n",
      "2012-03-08 00:00:00+00:00   -1.069784\n",
      "2012-03-09 00:00:00+00:00    0.977425\n",
      "2012-03-10 00:00:00+00:00   -0.091796\n",
      "Freq: D, dtype: float64\n",
      "2012-03-05 19:00:00-05:00    0.888304\n",
      "2012-03-06 19:00:00-05:00   -0.071577\n",
      "2012-03-07 19:00:00-05:00   -1.069784\n",
      "2012-03-08 19:00:00-05:00    0.977425\n",
      "2012-03-09 19:00:00-05:00   -0.091796\n",
      "Freq: D, dtype: float64\n"
     ]
    }
   ],
   "source": [
    "# Time zone representation\n",
    "rng = pd.date_range('3/6/2012 00:00', periods=5, freq='D')# 频率为天\n",
    "ts = pd.Series(np.random.randn(len(rng)), index= rng)# 备注：生成5个小数\n",
    "print (ts)\n",
    "\n",
    "ts_utc = ts.tz_localize('UTC')\n",
    "print (ts_utc)\n",
    "\n",
    "ts_new = ts_utc.tz_convert('US/Eastern')\n",
    "print (ts_new)\n"
   ]
  },
  {
   "cell_type": "code",
   "execution_count": 34,
   "metadata": {},
   "outputs": [
    {
     "name": "stdout",
     "output_type": "stream",
     "text": [
      "2012-01-31    0.344232\n",
      "2012-02-29    1.139237\n",
      "2012-03-31    1.396053\n",
      "2012-04-30    0.815343\n",
      "2012-05-31   -1.224747\n",
      "Freq: M, dtype: float64\n",
      "2012-01    0.344232\n",
      "2012-02    1.139237\n",
      "2012-03    1.396053\n",
      "2012-04    0.815343\n",
      "2012-05   -1.224747\n",
      "Freq: M, dtype: float64\n",
      "2012-01-01    0.344232\n",
      "2012-02-01    1.139237\n",
      "2012-03-01    1.396053\n",
      "2012-04-01    0.815343\n",
      "2012-05-01   -1.224747\n",
      "Freq: MS, dtype: float64\n"
     ]
    }
   ],
   "source": [
    "# Converting between time span representations\n",
    "rng = pd.date_range('1/1/2012', periods=5, freq='M')# 频率为月\n",
    "ts = pd.Series(np.random.randn(len(rng)), index=rng) # 备注：生成5个小数\n",
    "print (ts)\n",
    "\n",
    "ps = ts.to_period()\n",
    "print (ps)\n",
    "\n",
    "ts = ps.to_timestamp()\n",
    "print (ts)\n"
   ]
  },
  {
   "cell_type": "code",
   "execution_count": 35,
   "metadata": {},
   "outputs": [
    {
     "name": "stdout",
     "output_type": "stream",
     "text": [
      "1990Q1   -0.352749\n",
      "1990Q2   -1.028577\n",
      "1990Q3   -2.011765\n",
      "1990Q4    0.168030\n",
      "1991Q1   -0.620695\n",
      "Freq: Q-NOV, dtype: float64\n",
      "1990-03-01 09:00   -0.352749\n",
      "1990-06-01 09:00   -1.028577\n",
      "1990-09-01 09:00   -2.011765\n",
      "1990-12-01 09:00    0.168030\n",
      "1991-03-01 09:00   -0.620695\n",
      "Freq: H, dtype: float64\n"
     ]
    }
   ],
   "source": [
    "prng = pd.period_range('1990Q1', '2000Q4', freq='Q-NOV') \n",
    "ts = pd.Series(np.random.randn(len(prng)), index=prng)\n",
    "print (ts.head())\n",
    "\n",
    "ts.index = (prng.asfreq('M', 'e') + 1).asfreq('H', 's') + 9 \n",
    "# 季度最末尾一个月第一天上午9点，M表示Month，e表示end，H表示Hour，s表示start\n",
    "print (ts.head() )\n",
    "\n"
   ]
  },
  {
   "cell_type": "code",
   "execution_count": 36,
   "metadata": {},
   "outputs": [
    {
     "data": {
      "image/png": "[encoded data removed]",
      "text/plain": [
       "<Figure size 432x288 with 1 Axes>"
      ]
     },
     "metadata": {
      "needs_background": "light"
     },
     "output_type": "display_data"
    },
    {
     "data": {
      "text/plain": [
       "<Figure size 432x288 with 0 Axes>"
      ]
     },
     "metadata": {},
     "output_type": "display_data"
    },
    {
     "data": {
      "image/png": "[encoded data removed]",
      "text/plain": [
       "<Figure size 432x288 with 1 Axes>"
      ]
     },
     "metadata": {
      "needs_background": "light"
     },
     "output_type": "display_data"
    }
   ],
   "source": [
    "# 可视化Series\n",
    "import matplotlib.pyplot as plt\n",
    "ts = pd.Series(np.random.randn(1000), index=pd.date_range('1/1/2000', periods=1000))\n",
    "plt.figure(); \n",
    "ts = ts.cumsum()# cumulative sum即累计值\n",
    "ts.plot()\n",
    "plt.legend(loc='best')\n",
    "plt.show()\n",
    "\n",
    "# 可视化DataFrame\n",
    "df = pd.DataFrame(np.random.randn(1000, 4), index=ts.index,columns=['A', 'B', 'C', 'D'])\n",
    "df = df.cumsum()# cumulative sum即累计值\n",
    "plt.figure(); \n",
    "df.plot(); \n",
    "plt.legend(loc='best')\n",
    "plt.show()\n"
   ]
  },
  {
   "cell_type": "code",
   "execution_count": 37,
   "metadata": {},
   "outputs": [
    {
     "name": "stdout",
     "output_type": "stream",
     "text": [
      "          A         B         C         D\n",
      "0  1.215331 -0.039742 -0.406951 -0.249253\n",
      "1 -0.555836 -1.694583 -0.631374  0.175708\n",
      "2 -0.408202 -0.332223  0.218334 -0.244536\n",
      "3 -0.330717 -0.363006 -0.791967  0.673385\n",
      "4  0.494498  1.686109  1.502884 -0.664442\n",
      "   Unnamed: 0         A         B         C         D\n",
      "0           0  1.215331 -0.039742 -0.406951 -0.249253\n",
      "1           1 -0.555836 -1.694583 -0.631374  0.175708\n",
      "2           2 -0.408202 -0.332223  0.218334 -0.244536\n",
      "3           3 -0.330717 -0.363006 -0.791967  0.673385\n",
      "4           4  0.494498  1.686109  1.502884 -0.664442\n"
     ]
    }
   ],
   "source": [
    "# 读写文件\n",
    "df = pd.DataFrame(np.random.randn(8, 4), columns=['A','B','C','D'])\n",
    "print (df.head())\n",
    "\n",
    "# Writing to & read from a csv file \n",
    "df.to_csv('foo.csv')\n",
    "df = pd.read_csv('foo.csv')\n",
    "print (df.head())\n",
    "\n"
   ]
  },
  {
   "cell_type": "code",
   "execution_count": 38,
   "metadata": {},
   "outputs": [
    {
     "name": "stdout",
     "output_type": "stream",
     "text": [
      "          A         B         C         D\n",
      "0  0.469904  0.693927  1.014028  0.489369\n",
      "1  0.713157 -1.655309 -0.235909  0.507750\n",
      "2 -0.551121  0.003345 -0.318819  0.766699\n",
      "3 -0.182335 -0.873543 -2.216644  0.733235\n",
      "4  0.239232  0.691675  0.117622  1.536448\n",
      "          A         B         C         D\n",
      "0  0.469904  0.693927  1.014028  0.489369\n",
      "1  0.713157 -1.655309 -0.235909  0.507750\n",
      "2 -0.551121  0.003345 -0.318819  0.766699\n",
      "3 -0.182335 -0.873543 -2.216644  0.733235\n",
      "4  0.239232  0.691675  0.117622  1.536448\n"
     ]
    }
   ],
   "source": [
    "# Writing to & read from a HDF5 Store\n",
    "\n",
    "df = pd.DataFrame(np.random.randn(8, 4), columns=['A','B','C','D'])\n",
    "print (df.head())\n",
    "\n",
    "df.to_hdf('foo.h5','df')\n",
    "df = pd.read_hdf('foo.h5','df')\n",
    "print (df.head())\n"
   ]
  },
  {
   "cell_type": "code",
   "execution_count": 39,
   "metadata": {},
   "outputs": [
    {
     "name": "stdout",
     "output_type": "stream",
     "text": [
      "          A         B         C         D\n",
      "0  0.151183 -1.699655 -0.170576 -1.006425\n",
      "1 -0.489532  1.797124  0.995266 -0.030416\n",
      "2  1.276567 -0.933584  0.028760  1.080130\n",
      "3  1.493795 -0.651786 -0.028248 -0.501874\n",
      "4 -0.394125  0.104359 -0.923120  0.242939\n",
      "   Unnamed: 0         A         B         C         D\n",
      "0           0  0.151183 -1.699655 -0.170576 -1.006425\n",
      "1           1 -0.489532  1.797124  0.995266 -0.030416\n",
      "2           2  1.276567 -0.933584  0.028760  1.080130\n",
      "3           3  1.493795 -0.651786 -0.028248 -0.501874\n",
      "4           4 -0.394125  0.104359 -0.923120  0.242939\n"
     ]
    }
   ],
   "source": [
    "\n",
    "# Writing to & read from an excel file\n",
    "df = pd.DataFrame(np.random.randn(8, 4), columns=['A','B','C','D'])\n",
    "print (df.head())\n",
    "\n",
    "df.to_excel('foo.xlsx', sheet_name='Sheet1')\n",
    "df = pd.read_excel('foo.xlsx', 'Sheet1', index_col=None, na_values=['NA'])\n",
    "print (df.head())\n"
   ]
  },
  {
   "cell_type": "code",
   "execution_count": null,
   "metadata": {
    "collapsed": true
   },
   "outputs": [],
   "source": []
  }
 ],
 "metadata": {
  "kernelspec": {
   "display_name": "Python 3",
   "language": "python",
   "name": "python3"
  },
  "language_info": {
   "codemirror_mode": {
    "name": "ipython",
    "version": 3
   },
   "file_extension": ".py",
   "mimetype": "text/x-python",
   "name": "python",
   "nbconvert_exporter": "python",
   "pygments_lexer": "ipython3",
   "version": "3.8.8"
  }
 },
 "nbformat": 4,
 "nbformat_minor": 2
}
