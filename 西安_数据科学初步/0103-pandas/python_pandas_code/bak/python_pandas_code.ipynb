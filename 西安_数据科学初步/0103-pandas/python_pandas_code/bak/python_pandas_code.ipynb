{
 "cells": [
  {
   "cell_type": "code",
   "execution_count": 45,
   "metadata": {
    "collapsed": true
   },
   "outputs": [],
   "source": [
    "#pandas library"
   ]
  },
  {
   "cell_type": "code",
   "execution_count": 46,
   "metadata": {},
   "outputs": [
    {
     "name": "stdout",
     "output_type": "stream",
     "text": [
      "0    1.0\n",
      "1    3.0\n",
      "2    5.0\n",
      "3    NaN\n",
      "4    6.0\n",
      "5    8.0\n",
      "dtype: float64\n"
     ]
    }
   ],
   "source": [
    "import pandas as pd\n",
    "import numpy as np\n",
    "import matplotlib.pyplot as plt\n",
    "\n",
    "s = pd.Series([1,3,5,np.nan,6,8])\n",
    "print (s)\n"
   ]
  },
  {
   "cell_type": "code",
   "execution_count": 47,
   "metadata": {},
   "outputs": [
    {
     "name": "stdout",
     "output_type": "stream",
     "text": [
      "a    4\n",
      "b    7\n",
      "c   -5\n",
      "d    3\n",
      "dtype: int64\n"
     ]
    }
   ],
   "source": [
    "import pandas as pd\n",
    "import numpy as np\n",
    "\n",
    "series1 = pd.Series([4,7,-5,3], index=['a','b','c','d'])\n",
    "print (series1)\n"
   ]
  },
  {
   "cell_type": "code",
   "execution_count": 48,
   "metadata": {},
   "outputs": [
    {
     "name": "stdout",
     "output_type": "stream",
     "text": [
      "Ohio      35000\n",
      "Oregon    16000\n",
      "Texas     71000\n",
      "Utah       5000\n",
      "dtype: int64\n"
     ]
    }
   ],
   "source": [
    "sdata = {'Ohio': 35000, 'Texas': 71000, 'Oregon': 16000, 'Utah': 5000}\n",
    "series1 = pd. Series(sdata)\n",
    "print (series1)\n"
   ]
  },
  {
   "cell_type": "code",
   "execution_count": 49,
   "metadata": {},
   "outputs": [
    {
     "name": "stdout",
     "output_type": "stream",
     "text": [
      "Ohio      False\n",
      "Oregon    False\n",
      "Texas     False\n",
      "Utah      False\n",
      "dtype: bool\n",
      "Ohio      True\n",
      "Oregon    True\n",
      "Texas     True\n",
      "Utah      True\n",
      "dtype: bool\n"
     ]
    }
   ],
   "source": [
    "print(pd.isnull(series1))\n",
    "print(pd.notnull(series1))\n"
   ]
  },
  {
   "cell_type": "code",
   "execution_count": 50,
   "metadata": {},
   "outputs": [
    {
     "name": "stdout",
     "output_type": "stream",
     "text": [
      "                   A         B         C         D\n",
      "2013-01-01 -0.689321 -1.955689 -0.496218  0.255459\n",
      "2013-01-02 -0.220680  0.741853  0.544636  0.158271\n",
      "2013-01-03  0.163314 -0.625713 -0.821284 -0.164798\n",
      "2013-01-04 -0.783416  1.029557  0.983494 -0.751628\n",
      "2013-01-05  1.343719  0.066538  1.181028  0.142621\n",
      "2013-01-06 -0.792796 -0.230501 -0.324202  1.334238\n",
      "                   A         B         C         D      E\n",
      "2013-01-01 -0.689321 -1.955689 -0.496218  0.255459    one\n",
      "2013-01-02 -0.220680  0.741853  0.544636  0.158271    one\n",
      "2013-01-03  0.163314 -0.625713 -0.821284 -0.164798    two\n",
      "2013-01-04 -0.783416  1.029557  0.983494 -0.751628  three\n",
      "2013-01-05  1.343719  0.066538  1.181028  0.142621   four\n",
      "2013-01-06 -0.792796 -0.230501 -0.324202  1.334238  three\n"
     ]
    }
   ],
   "source": [
    "import pandas as pd\n",
    "import numpy as np\n",
    "import matplotlib.pyplot as plt\n",
    "\n",
    "dates = pd.date_range('20130101', periods=6)\n",
    "df = pd.DataFrame(np.random.randn(6,4), index=dates, columns=['A', 'B', 'C', 'D'])\n",
    "print (df)\n",
    "\n",
    "df['E']=[ 'one', 'one', 'two', 'three', 'four', 'three'] # 增加一列，列名为E\n",
    "print (df)\n"
   ]
  },
  {
   "cell_type": "code",
   "execution_count": 51,
   "metadata": {},
   "outputs": [
    {
     "name": "stdout",
     "output_type": "stream",
     "text": [
      "     A          B    C  D      E    F\n",
      "0  1.0 2013-01-02  1.0  3   test  foo\n",
      "1  1.0 2013-01-02  1.0  3  train  foo\n",
      "2  1.0 2013-01-02  1.0  3   test  foo\n",
      "3  1.0 2013-01-02  1.0  3  train  foo\n"
     ]
    }
   ],
   "source": [
    "df2 = pd.DataFrame({ 'A' : 1., \n",
    "    'B' : pd.Timestamp('20130102'),\n",
    "    'C' : pd.Series(1,index=range(4),dtype='float32'),\n",
    "    'D' : np.array([3] * 4,dtype='int32'),\n",
    "    'E' : pd.Categorical([\"test\",\"train\",\"test\",\"train\"]),\n",
    "    'F' : 'foo' })\n",
    "print (df2)\n"
   ]
  },
  {
   "cell_type": "code",
   "execution_count": 52,
   "metadata": {},
   "outputs": [
    {
     "name": "stdout",
     "output_type": "stream",
     "text": [
      "                   A         B         C         D      E\n",
      "2013-01-01 -0.689321 -1.955689 -0.496218  0.255459    one\n",
      "2013-01-02 -0.220680  0.741853  0.544636  0.158271    one\n",
      "2013-01-03  0.163314 -0.625713 -0.821284 -0.164798    two\n",
      "2013-01-04 -0.783416  1.029557  0.983494 -0.751628  three\n",
      "2013-01-05  1.343719  0.066538  1.181028  0.142621   four\n",
      "                   A         B         C         D      E\n",
      "2013-01-02 -0.220680  0.741853  0.544636  0.158271    one\n",
      "2013-01-03  0.163314 -0.625713 -0.821284 -0.164798    two\n",
      "2013-01-04 -0.783416  1.029557  0.983494 -0.751628  three\n",
      "2013-01-05  1.343719  0.066538  1.181028  0.142621   four\n",
      "2013-01-06 -0.792796 -0.230501 -0.324202  1.334238  three\n",
      "DatetimeIndex(['2013-01-01', '2013-01-02', '2013-01-03', '2013-01-04',\n",
      "               '2013-01-05', '2013-01-06'],\n",
      "              dtype='datetime64[ns]', freq='D')\n",
      "Index(['A', 'B', 'C', 'D', 'E'], dtype='object')\n",
      "A    float64\n",
      "B    float64\n",
      "C    float64\n",
      "D    float64\n",
      "E     object\n",
      "dtype: object\n",
      "[[-0.6893208785018677 -1.9556892466170894 -0.496217683780751\n",
      "  0.25545946888126414 'one']\n",
      " [-0.2206803868575551 0.7418529898078327 0.5446356469278407\n",
      "  0.15827061747237028 'one']\n",
      " [0.1633136517616068 -0.6257128409777298 -0.8212838014453814\n",
      "  -0.16479849423670087 'two']\n",
      " [-0.7834160271382288 1.0295566172695905 0.983493645744714\n",
      "  -0.7516279522877884 'three']\n",
      " [1.3437190575776798 0.06653787105981895 1.181027581037659\n",
      "  0.14262079711503572 'four']\n",
      " [-0.7927959389629762 -0.23050091078010074 -0.3242015728900885\n",
      "  1.3342378937007842 'three']]\n"
     ]
    }
   ],
   "source": [
    "print (df.head())# 前5行\n",
    "print (df.tail())# 后5行\n",
    "df.describe()# 描述信息\n",
    "\n",
    "print (df.index)# 行标签\n",
    "print (df.columns)# 列标签\n",
    "print (df.dtypes)# 各列的数据类型\n",
    "print (df.values)# DataFrame的值\n"
   ]
  },
  {
   "cell_type": "code",
   "execution_count": 53,
   "metadata": {},
   "outputs": [
    {
     "name": "stdout",
     "output_type": "stream",
     "text": [
      "  2013-01-01 2013-01-02 2013-01-03 2013-01-04 2013-01-05 2013-01-06\n",
      "A  -0.689321   -0.22068   0.163314  -0.783416    1.34372  -0.792796\n",
      "B   -1.95569   0.741853  -0.625713    1.02956  0.0665379  -0.230501\n",
      "C  -0.496218   0.544636  -0.821284   0.983494    1.18103  -0.324202\n",
      "D   0.255459   0.158271  -0.164798  -0.751628   0.142621    1.33424\n",
      "E        one        one        two      three       four      three\n"
     ]
    }
   ],
   "source": [
    "print (df.T)"
   ]
  },
  {
   "cell_type": "code",
   "execution_count": 54,
   "metadata": {},
   "outputs": [
    {
     "name": "stdout",
     "output_type": "stream",
     "text": [
      "                E         D         C         B         A\n",
      "2013-01-01    one  0.255459 -0.496218 -1.955689 -0.689321\n",
      "2013-01-02    one  0.158271  0.544636  0.741853 -0.220680\n",
      "2013-01-03    two -0.164798 -0.821284 -0.625713  0.163314\n",
      "2013-01-04  three -0.751628  0.983494  1.029557 -0.783416\n",
      "2013-01-05   four  0.142621  1.181028  0.066538  1.343719\n",
      "2013-01-06  three  1.334238 -0.324202 -0.230501 -0.792796\n"
     ]
    }
   ],
   "source": [
    "df = df.sort_index(axis=1, ascending=False) #沿着列方向对col name进行降序排序\n",
    "print (df)\n",
    "\n"
   ]
  },
  {
   "cell_type": "code",
   "execution_count": 55,
   "metadata": {},
   "outputs": [
    {
     "name": "stdout",
     "output_type": "stream",
     "text": [
      "                E         D         C         B         A\n",
      "2013-01-01    one  0.255459 -0.496218 -1.955689 -0.689321\n",
      "2013-01-03    two -0.164798 -0.821284 -0.625713  0.163314\n",
      "2013-01-06  three  1.334238 -0.324202 -0.230501 -0.792796\n",
      "2013-01-05   four  0.142621  1.181028  0.066538  1.343719\n",
      "2013-01-02    one  0.158271  0.544636  0.741853 -0.220680\n",
      "2013-01-04  three -0.751628  0.983494  1.029557 -0.783416\n"
     ]
    }
   ],
   "source": [
    "df = df.sort_values(by='B')\n",
    "print (df)\n"
   ]
  },
  {
   "cell_type": "code",
   "execution_count": 56,
   "metadata": {},
   "outputs": [
    {
     "name": "stdout",
     "output_type": "stream",
     "text": [
      "2013-01-01   -0.689321\n",
      "2013-01-03    0.163314\n",
      "2013-01-06   -0.792796\n",
      "2013-01-05    1.343719\n",
      "2013-01-02   -0.220680\n",
      "2013-01-04   -0.783416\n",
      "Name: A, dtype: float64\n"
     ]
    }
   ],
   "source": [
    " print (df['A'])"
   ]
  },
  {
   "cell_type": "code",
   "execution_count": 57,
   "metadata": {},
   "outputs": [
    {
     "name": "stdout",
     "output_type": "stream",
     "text": [
      "                E         D         C         B         A\n",
      "2013-01-01    one  0.255459 -0.496218 -1.955689 -0.689321\n",
      "2013-01-03    two -0.164798 -0.821284 -0.625713  0.163314\n",
      "2013-01-06  three  1.334238 -0.324202 -0.230501 -0.792796\n",
      "                E         D         C         B         A\n",
      "2013-01-03    two -0.164798 -0.821284 -0.625713  0.163314\n",
      "2013-01-02    one  0.158271  0.544636  0.741853 -0.220680\n",
      "2013-01-04  three -0.751628  0.983494  1.029557 -0.783416\n"
     ]
    }
   ],
   "source": [
    "print (df[0:3])\n",
    "print (df['20130102':'20130104'])\n",
    "\n"
   ]
  },
  {
   "cell_type": "code",
   "execution_count": 58,
   "metadata": {},
   "outputs": [
    {
     "name": "stdout",
     "output_type": "stream",
     "text": [
      "                   A         B\n",
      "2013-01-03  0.163314 -0.625713\n",
      "2013-01-02 -0.220680  0.741853\n",
      "2013-01-04 -0.783416  1.029557\n",
      "               E         D\n",
      "2013-01-05  four  0.142621\n",
      "2013-01-02   one  0.158271\n",
      "                E         C\n",
      "2013-01-03    two -0.821284\n",
      "2013-01-06  three -0.324202\n",
      "2013-01-02    one  0.544636\n",
      "                E         D         C         B         A\n",
      "2013-01-03    two -0.164798 -0.821284 -0.625713  0.163314\n",
      "2013-01-06  three  1.334238 -0.324202 -0.230501 -0.792796\n",
      "                   D         C\n",
      "2013-01-01  0.255459 -0.496218\n",
      "2013-01-03 -0.164798 -0.821284\n",
      "2013-01-06  1.334238 -0.324202\n",
      "2013-01-05  0.142621  1.181028\n",
      "2013-01-02  0.158271  0.544636\n",
      "2013-01-04 -0.751628  0.983494\n",
      "-0.16479849423670087\n",
      "-0.16479849423670087\n"
     ]
    }
   ],
   "source": [
    "print (df.loc['20130102':'20130104',['A','B']] )#行标签范围('20130102', '20130103', '20130104')和列标签列表('A', 'B')\n",
    "print (df.iloc[3:5,0:2] )# row=3,4,col=0,1\n",
    "print (df.iloc[[1,2,4],[0,2]] )# row=1,2,4,col=0,2\n",
    "\n",
    "print (df.iloc[1:3, :] )  # row=1,2, col=all\n",
    "print (df.iloc[:, 1:3] )  # row=all, col=1,2\n",
    "\n",
    "print (df.iloc[1,1] ) # 提取一个单元(cell)的值\n",
    "print (df.iat[1,1])  # 提取一个单元(cell)的值\n"
   ]
  },
  {
   "cell_type": "code",
   "execution_count": 59,
   "metadata": {},
   "outputs": [
    {
     "name": "stdout",
     "output_type": "stream",
     "text": [
      "               E         D         C         B         A\n",
      "2013-01-03   two -0.164798 -0.821284 -0.625713  0.163314\n",
      "2013-01-05  four  0.142621  1.181028  0.066538  1.343719\n",
      "     A          B    C  D      E    F\n",
      "1  1.0 2013-01-02  1.0  3  train  foo\n",
      "3  1.0 2013-01-02  1.0  3  train  foo\n"
     ]
    }
   ],
   "source": [
    "print (df[df.A > 0])\n",
    "print (df2[df2['E'].isin(['train'])])\n"
   ]
  },
  {
   "cell_type": "code",
   "execution_count": 60,
   "metadata": {},
   "outputs": [
    {
     "name": "stdout",
     "output_type": "stream",
     "text": [
      "                E         D         C         B          A\n",
      "2013-01-01    one  0.255459 -0.496218 -1.955689 -99.000000\n",
      "2013-01-03    two -0.164798 -0.821284 -0.625713   0.163314\n",
      "2013-01-06  three  1.334238 -0.324202 -0.230501  -0.792796\n",
      "2013-01-05   four  0.142621  1.181028  0.066538   1.343719\n",
      "2013-01-02    one  0.158271  0.544636  0.741853  -0.220680\n",
      "                E         D         C         B          A\n",
      "2013-01-01    one  3.000000 -0.496218 -1.955689 -99.000000\n",
      "2013-01-03    two -0.164798 -0.821284 -0.625713   0.163314\n",
      "2013-01-06  three  1.334238 -0.324202 -0.230501  -0.792796\n",
      "2013-01-05   four  0.142621  1.181028  0.066538   1.343719\n",
      "2013-01-02    one  0.158271  0.544636  0.741853  -0.220680\n",
      "                E  D         C         B          A\n",
      "2013-01-01    one  5 -0.496218 -1.955689 -99.000000\n",
      "2013-01-03    two  5 -0.821284 -0.625713   0.163314\n",
      "2013-01-06  three  5 -0.324202 -0.230501  -0.792796\n",
      "2013-01-05   four  5  1.181028  0.066538   1.343719\n",
      "2013-01-02    one  5  0.544636  0.741853  -0.220680\n",
      "2013-01-04  three  5  0.983494  1.029557  -0.783416\n"
     ]
    }
   ],
   "source": [
    "df.at[dates[0],'A'] = -99 # 通过行标签和列标签，设定单元格的值，注意dates[0]为'20130101'\n",
    "print (df.head())\n",
    "\n",
    "df.iat[0,1] = 3# 通过行下标和列下标，设定单元格的值\n",
    "print (df.head())\n",
    "\n",
    "df.loc[:,'D'] = np.array([5] * len(df))# 对整列进行设置, len(df)表示df的长度，即有多少行\n",
    "print (df)\n"
   ]
  },
  {
   "cell_type": "code",
   "execution_count": 61,
   "metadata": {},
   "outputs": [
    {
     "name": "stdout",
     "output_type": "stream",
     "text": [
      "                E  D         C         B         A\n",
      "2013-01-03    two  5 -0.821284 -0.625713  0.163314\n",
      "2013-01-06  three  5 -0.324202 -0.230501 -0.792796\n",
      "2013-01-05   four  5  1.181028  0.066538  1.343719\n",
      "2013-01-02    one  5  0.544636  0.741853 -0.220680\n",
      "2013-01-04  three  5  0.983494  1.029557 -0.783416\n",
      "                E      D      C      B      A\n",
      "2013-01-03  False  False  False  False  False\n",
      "2013-01-06  False  False  False  False  False\n",
      "2013-01-05  False  False  False  False  False\n",
      "2013-01-02  False  False  False  False  False\n",
      "2013-01-04  False  False  False  False  False\n"
     ]
    },
    {
     "data": {
      "text/html": [
       "<div>\n",
       "<style scoped>\n",
       "    .dataframe tbody tr th:only-of-type {\n",
       "        vertical-align: middle;\n",
       "    }\n",
       "\n",
       "    .dataframe tbody tr th {\n",
       "        vertical-align: top;\n",
       "    }\n",
       "\n",
       "    .dataframe thead th {\n",
       "        text-align: right;\n",
       "    }\n",
       "</style>\n",
       "<table border=\"1\" class=\"dataframe\">\n",
       "  <thead>\n",
       "    <tr style=\"text-align: right;\">\n",
       "      <th></th>\n",
       "      <th>E</th>\n",
       "      <th>D</th>\n",
       "      <th>C</th>\n",
       "      <th>B</th>\n",
       "      <th>A</th>\n",
       "    </tr>\n",
       "  </thead>\n",
       "  <tbody>\n",
       "    <tr>\n",
       "      <th>2013-01-03</th>\n",
       "      <td>two</td>\n",
       "      <td>5</td>\n",
       "      <td>-0.821284</td>\n",
       "      <td>-0.625713</td>\n",
       "      <td>0.163314</td>\n",
       "    </tr>\n",
       "    <tr>\n",
       "      <th>2013-01-06</th>\n",
       "      <td>three</td>\n",
       "      <td>5</td>\n",
       "      <td>-0.324202</td>\n",
       "      <td>-0.230501</td>\n",
       "      <td>-0.792796</td>\n",
       "    </tr>\n",
       "    <tr>\n",
       "      <th>2013-01-05</th>\n",
       "      <td>four</td>\n",
       "      <td>5</td>\n",
       "      <td>1.181028</td>\n",
       "      <td>0.066538</td>\n",
       "      <td>1.343719</td>\n",
       "    </tr>\n",
       "    <tr>\n",
       "      <th>2013-01-02</th>\n",
       "      <td>one</td>\n",
       "      <td>5</td>\n",
       "      <td>0.544636</td>\n",
       "      <td>0.741853</td>\n",
       "      <td>-0.220680</td>\n",
       "    </tr>\n",
       "    <tr>\n",
       "      <th>2013-01-04</th>\n",
       "      <td>three</td>\n",
       "      <td>5</td>\n",
       "      <td>0.983494</td>\n",
       "      <td>1.029557</td>\n",
       "      <td>-0.783416</td>\n",
       "    </tr>\n",
       "  </tbody>\n",
       "</table>\n",
       "</div>"
      ],
      "text/plain": [
       "                E  D         C         B         A\n",
       "2013-01-03    two  5 -0.821284 -0.625713  0.163314\n",
       "2013-01-06  three  5 -0.324202 -0.230501 -0.792796\n",
       "2013-01-05   four  5  1.181028  0.066538  1.343719\n",
       "2013-01-02    one  5  0.544636  0.741853 -0.220680\n",
       "2013-01-04  three  5  0.983494  1.029557 -0.783416"
      ]
     },
     "execution_count": 61,
     "metadata": {},
     "output_type": "execute_result"
    }
   ],
   "source": [
    "df.iat[0,2] = np.nan\n",
    "df = df.dropna(how='any') # 把包含缺失值的行删除，有一行数据被删掉\n",
    "print (df)\n",
    "\n",
    "print (pd.isnull(df))\n",
    "df.fillna(value=5) # 用5代替缺失值\n"
   ]
  },
  {
   "cell_type": "code",
   "execution_count": 62,
   "metadata": {},
   "outputs": [
    {
     "name": "stdout",
     "output_type": "stream",
     "text": [
      "D    5.000000\n",
      "C    0.312734\n",
      "B    0.196347\n",
      "A   -0.057972\n",
      "dtype: float64\n"
     ]
    }
   ],
   "source": [
    "print (df.mean())\n"
   ]
  },
  {
   "cell_type": "code",
   "execution_count": 63,
   "metadata": {},
   "outputs": [
    {
     "data": {
      "text/plain": [
       "A    2.136515\n",
       "B    1.655269\n",
       "C    2.002311\n",
       "D    0.000000\n",
       "dtype: float64"
      ]
     },
     "execution_count": 63,
     "metadata": {},
     "output_type": "execute_result"
    }
   ],
   "source": [
    "df = df[['A','B','C','D']]\n",
    "df.apply(lambda x: x.max() - x.min())"
   ]
  },
  {
   "cell_type": "code",
   "execution_count": 64,
   "metadata": {},
   "outputs": [
    {
     "name": "stdout",
     "output_type": "stream",
     "text": [
      "0    3\n",
      "6    2\n",
      "4    2\n",
      "3    2\n",
      "1    1\n",
      "dtype: int64\n"
     ]
    }
   ],
   "source": [
    "s = pd.Series(np.random.randint(0, 7, size=10))# 生成10个随机数，值域为[0,7)\n",
    "print (s.value_counts())\n"
   ]
  },
  {
   "cell_type": "code",
   "execution_count": 65,
   "metadata": {},
   "outputs": [
    {
     "name": "stdout",
     "output_type": "stream",
     "text": [
      "0       a\n",
      "1       b\n",
      "2       c\n",
      "3    aaba\n",
      "4    baca\n",
      "5     NaN\n",
      "6    caba\n",
      "7     dog\n",
      "8     cat\n",
      "dtype: object\n"
     ]
    }
   ],
   "source": [
    "s = pd.Series(['A', 'B', 'C', 'Aaba', 'Baca', np.nan, 'CABA', 'dog', 'cat'])\n",
    "s=s.str.lower()\n",
    "print (s)\n"
   ]
  },
  {
   "cell_type": "code",
   "execution_count": 66,
   "metadata": {},
   "outputs": [
    {
     "name": "stdout",
     "output_type": "stream",
     "text": [
      "          0         1         2         3\n",
      "0 -0.219331  1.268757 -0.770299  0.805302\n",
      "1 -0.983981  0.162115 -1.134874  0.452563\n",
      "2  1.690448  0.753826 -0.012544 -0.618782\n",
      "3  0.531542 -0.899600 -0.171124 -0.919630\n",
      "4  0.218202  0.217181  0.985696  0.701052\n",
      "5 -0.706222  0.832360  1.216471 -0.377633\n",
      "6 -1.263574  1.630132 -0.671780  1.165472\n",
      "7  0.411194 -0.538103  0.208982 -1.742445\n",
      "8  0.963092  1.122621 -0.521760 -0.931335\n",
      "9  0.240355 -0.537029  0.270457 -2.520021\n",
      "          0         1         2         3\n",
      "0 -0.219331  1.268757 -0.770299  0.805302\n",
      "1 -0.983981  0.162115 -1.134874  0.452563\n",
      "2  1.690448  0.753826 -0.012544 -0.618782\n",
      "3  0.531542 -0.899600 -0.171124 -0.919630\n",
      "4  0.218202  0.217181  0.985696  0.701052\n",
      "5 -0.706222  0.832360  1.216471 -0.377633\n",
      "6 -1.263574  1.630132 -0.671780  1.165472\n",
      "7  0.411194 -0.538103  0.208982 -1.742445\n",
      "8  0.963092  1.122621 -0.521760 -0.931335\n",
      "9  0.240355 -0.537029  0.270457 -2.520021\n"
     ]
    }
   ],
   "source": [
    "df = pd.DataFrame(np.random.randn(10, 4))\n",
    "print (df)\n",
    "pieces = [df[:3], df[3:7], df[7:]]\n",
    "print (pd.concat(pieces))\n"
   ]
  },
  {
   "cell_type": "code",
   "execution_count": 67,
   "metadata": {},
   "outputs": [
    {
     "name": "stdout",
     "output_type": "stream",
     "text": [
      "   key  lval\n",
      "0  foo     1\n",
      "1  bar     2\n",
      "   key  rval\n",
      "0  foo     4\n",
      "1  bar     5\n",
      "   key  lval  rval\n",
      "0  foo     1     4\n",
      "1  bar     2     5\n"
     ]
    }
   ],
   "source": [
    "left = pd.DataFrame({'key': ['foo', 'bar'], 'lval': [1, 2]})\n",
    "right = pd.DataFrame({'key': ['foo', 'bar'], 'rval': [4, 5]})\n",
    "print (left)\n",
    "print (right)\n",
    "print (pd.merge(left, right, on='key'))\n"
   ]
  },
  {
   "cell_type": "code",
   "execution_count": 68,
   "metadata": {},
   "outputs": [
    {
     "name": "stdout",
     "output_type": "stream",
     "text": [
      "          A         B         C         D\n",
      "0 -0.864102 -0.069976  0.556139  0.154255\n",
      "1  0.717689  0.830080 -0.206644 -0.766087\n",
      "2 -0.807306 -0.381880 -1.649709 -2.255316\n",
      "3  0.734841  2.191958 -1.208800 -1.227528\n",
      "4  1.987509 -2.764672 -0.042972 -0.357646\n",
      "5  0.989640  2.401271  2.295319 -0.650440\n",
      "6 -0.676229 -0.440926 -0.135917  1.107184\n",
      "7 -0.712874 -1.157228 -0.281927  0.434852\n",
      "A    0.734841\n",
      "B    2.191958\n",
      "C   -1.208800\n",
      "D   -1.227528\n",
      "Name: 3, dtype: float64\n",
      "          A         B         C         D\n",
      "0 -0.864102 -0.069976  0.556139  0.154255\n",
      "1  0.717689  0.830080 -0.206644 -0.766087\n",
      "2 -0.807306 -0.381880 -1.649709 -2.255316\n",
      "3  0.734841  2.191958 -1.208800 -1.227528\n",
      "4  1.987509 -2.764672 -0.042972 -0.357646\n",
      "5  0.989640  2.401271  2.295319 -0.650440\n",
      "6 -0.676229 -0.440926 -0.135917  1.107184\n",
      "7 -0.712874 -1.157228 -0.281927  0.434852\n",
      "8  0.734841  2.191958 -1.208800 -1.227528\n"
     ]
    }
   ],
   "source": [
    "df = pd.DataFrame(np.random.randn(8, 4), columns=['A','B','C','D'])\n",
    "print (df)\n",
    "\n",
    "s = df.iloc[3]\n",
    "print (s)\n",
    "df = df.append(s, ignore_index=True)\n",
    "print (df)\n"
   ]
  },
  {
   "cell_type": "code",
   "execution_count": 69,
   "metadata": {},
   "outputs": [
    {
     "name": "stdout",
     "output_type": "stream",
     "text": [
      "          A         B         C         D\n",
      "0  0.529268  1.425041  0.636315  0.488492\n",
      "1  0.463792 -0.064008  0.087284  1.567768\n",
      "2 -0.641237 -0.696540  1.665154  0.016992\n",
      "3 -2.334844  0.060485 -0.374146 -0.356636\n",
      "4 -0.151987 -2.379432  0.290031  0.898819\n",
      "5 -0.145245  2.536839  0.045859  0.299974\n",
      "6  0.661561 -0.098612 -1.599792 -0.342264\n",
      "7 -0.080333 -1.289580  0.572766 -0.748462\n",
      "          A         B         C         D    big  small\n",
      "0  0.529268  1.425041  0.636315  0.488492   True  False\n",
      "1  0.463792 -0.064008  0.087284  1.567768   True   True\n",
      "2 -0.641237 -0.696540  1.665154  0.016992  False   True\n",
      "3 -2.334844  0.060485 -0.374146 -0.356636  False  False\n",
      "4 -0.151987 -2.379432  0.290031  0.898819  False   True\n",
      "5 -0.145245  2.536839  0.045859  0.299974  False  False\n",
      "6  0.661561 -0.098612 -1.599792 -0.342264   True   True\n",
      "7 -0.080333 -1.289580  0.572766 -0.748462  False   True\n",
      "          A         B         C         D    big\n",
      "0  0.529268  1.425041  0.636315  0.488492   True\n",
      "1  0.463792 -0.064008  0.087284  1.567768   True\n",
      "2 -0.641237 -0.696540  1.665154  0.016992  False\n",
      "3 -2.334844  0.060485 -0.374146 -0.356636  False\n",
      "4 -0.151987 -2.379432  0.290031  0.898819  False\n",
      "5 -0.145245  2.536839  0.045859  0.299974  False\n",
      "6  0.661561 -0.098612 -1.599792 -0.342264   True\n",
      "7 -0.080333 -1.289580  0.572766 -0.748462  False\n"
     ]
    }
   ],
   "source": [
    "df = pd.DataFrame(np.random.randn(8, 4), columns=['A','B','C','D'])\n",
    "print (df)\n",
    " \n",
    "df['big'] = df.A>0 # 增加一列，这列的值根据A是否大于0来确定true或者false\n",
    "df['small'] = df.B<0# 增加一列，这列的值根据A是否<于0来确定true或者false\n",
    "print (df)\n",
    "\n",
    "del df['small']# 删除一列\n",
    "print (df)\n"
   ]
  },
  {
   "cell_type": "code",
   "execution_count": 70,
   "metadata": {},
   "outputs": [
    {
     "name": "stdout",
     "output_type": "stream",
     "text": [
      "     A      B         C         D\n",
      "0  foo    one -1.409438 -0.496946\n",
      "1  bar    one -1.876537 -1.721722\n",
      "2  foo    two -0.741787 -2.408900\n",
      "3  bar  three  0.217913 -1.220854\n",
      "4  foo    two  1.000505  0.066291\n",
      "5  bar    two -1.720493 -1.128134\n",
      "6  foo    one  0.742642 -0.074895\n",
      "7  foo  three  0.118368  1.067137\n",
      "            C         D\n",
      "A                      \n",
      "bar -3.379118 -4.070711\n",
      "foo -0.289711 -1.847312\n",
      "                  C         D\n",
      "A   B                        \n",
      "bar one   -1.876537 -1.721722\n",
      "    three  0.217913 -1.220854\n",
      "    two   -1.720493 -1.128134\n",
      "foo one   -0.666796 -0.571840\n",
      "    three  0.118368  1.067137\n",
      "    two    0.258717 -2.342609\n"
     ]
    }
   ],
   "source": [
    "df = pd.DataFrame({'A' : ['foo', 'bar', 'foo', 'bar', 'foo', 'bar', 'foo', 'foo'],\n",
    "           'B' : ['one', 'one', 'two', 'three', 'two', 'two', 'one', 'three'],\n",
    "           'C' : np.random.randn(8),\n",
    "           'D' : np.random.randn(8)})\n",
    "print (df)\n",
    "\n",
    "print (df.groupby('A').sum())# 按照列A的值进行分组，计算其它数值字段的总和\n",
    "print (df.groupby(['A','B']).sum())# 按照列A、列B的值进行分组，计算其它数值字段的总和\n"
   ]
  },
  {
   "cell_type": "code",
   "execution_count": 71,
   "metadata": {},
   "outputs": [
    {
     "name": "stdout",
     "output_type": "stream",
     "text": [
      "        A  B    C         D         E\n",
      "0     one  A  foo -1.648496  0.236729\n",
      "1     one  B  foo  0.609146 -0.959207\n",
      "2     two  C  foo -0.485401  0.336123\n",
      "3   three  A  bar -0.200217 -0.720203\n",
      "4     one  B  bar  0.163199  1.238410\n",
      "5     one  C  bar  0.973229 -0.448738\n",
      "6     two  A  foo  0.312177 -1.714096\n",
      "7   three  B  foo  1.904902 -1.012248\n",
      "8     one  C  foo -1.302096  0.752646\n",
      "9     one  A  bar  0.306266  0.450340\n",
      "10    two  B  bar  0.042185 -1.537103\n",
      "11  three  C  bar  1.050657 -1.372426\n",
      "C             bar       foo\n",
      "A     B                    \n",
      "one   A  0.306266 -1.648496\n",
      "      B  0.163199  0.609146\n",
      "      C  0.973229 -1.302096\n",
      "three A -0.200217       NaN\n",
      "      B       NaN  1.904902\n",
      "      C  1.050657       NaN\n",
      "two   A       NaN  0.312177\n",
      "      B  0.042185       NaN\n",
      "      C       NaN -0.485401\n"
     ]
    }
   ],
   "source": [
    "df = pd.DataFrame({'A' : ['one', 'one', 'two', 'three'] * 3,\n",
    "           'B' : ['A', 'B', 'C'] * 4,\n",
    "           'C' : ['foo', 'foo', 'foo', 'bar', 'bar', 'bar'] * 2,\n",
    "           'D' : np.random.randn(12),\n",
    "           'E' : np.random.randn(12)})\n",
    "print (df)\n",
    "print (pd.pivot_table(df, values='D', index=['A', 'B'], columns=['C']))\n"
   ]
  },
  {
   "cell_type": "code",
   "execution_count": 72,
   "metadata": {},
   "outputs": [
    {
     "name": "stdout",
     "output_type": "stream",
     "text": [
      "    Item   CType  USD   EU\n",
      "0  Item0    Gold    1  1.1\n",
      "1  Item0  Bronze    2  2.2\n",
      "2  Item0    Gold    3  3.3\n",
      "3  Item1  Silver    4  4.4\n",
      "CType  Bronze  Gold  Silver\n",
      "Item                       \n",
      "Item0     2.0   2.0     NaN\n",
      "Item1     NaN   NaN     4.0\n"
     ]
    }
   ],
   "source": [
    "from collections import OrderedDict\n",
    "from pandas import DataFrame\n",
    "import pandas as pd\n",
    "import numpy as np\n",
    "\n",
    "table = OrderedDict((\n",
    "  (\"Item\", ['Item0', 'Item0', 'Item0', 'Item1']),\n",
    "  ('CType',['Gold', 'Bronze', 'Gold', 'Silver']),\n",
    "  ('USD', [1, 2, 3, 4]),\n",
    "  ('EU',  [1.1, 2.2, 3.3, 4.4])\n",
    "))\n",
    "df = DataFrame(table)\n",
    "print (df)\n",
    "print (pd.pivot_table(df,index='Item', columns='CType', values='USD', aggfunc=np.mean))\n"
   ]
  },
  {
   "cell_type": "code",
   "execution_count": 73,
   "metadata": {},
   "outputs": [
    {
     "name": "stdout",
     "output_type": "stream",
     "text": [
      "                  c0      c1\n",
      "r0 r-00 c-00  (0, 0)     NaN\n",
      "        c-01  (0, 1)     NaN\n",
      "        c-10     NaN  (0, 2)\n",
      "   r-01 c-00  (1, 0)     NaN\n",
      "        c-01  (1, 1)     NaN\n",
      "        c-10     NaN  (1, 2)\n",
      "        c0                              c1        \n",
      "      c-00            c-01            c-10        \n",
      "      r-00    r-01    r-00    r-01    r-00    r-01\n",
      "r0  (0, 0)  (1, 0)  (0, 1)  (1, 1)  (0, 2)  (1, 2)\n"
     ]
    }
   ],
   "source": [
    "from collections import OrderedDict\n",
    "from pandas import DataFrame\n",
    "import pandas as pd\n",
    "import numpy as np\n",
    "\n",
    "# 行方向的多级索引(row multi index)\n",
    "row_idx_arr = list(zip(['r0', 'r0'], ['r-00', 'r-01'])) # r0有两个子节点r-00,r-01\n",
    "row_idx = pd.MultiIndex.from_tuples(row_idx_arr)\n",
    "\n",
    "# 列方向的多级索引(column multi index)\n",
    "col_idx_arr = list(zip(['c0', 'c0', 'c1'], ['c-00', 'c-01', 'c-10']))# c0有两个子节点，c1有一个子节点\n",
    "col_idx = pd.MultiIndex.from_tuples(col_idx_arr)\n",
    "\n",
    "# 创建DataFrame，2行3列\n",
    "d = DataFrame(np.arange(6).reshape(2,3), index=row_idx, columns=col_idx)\n",
    "d = d.applymap(lambda x: (x // 3, x % 3))\n",
    "\n",
    "s = d.stack()# Stack\n",
    "print (s)\n",
    "u = d.unstack()# Unstack\n",
    "print (u)\n"
   ]
  },
  {
   "cell_type": "code",
   "execution_count": 74,
   "metadata": {},
   "outputs": [
    {
     "name": "stdout",
     "output_type": "stream",
     "text": [
      "2012-01-01 00:00:00    450\n",
      "2012-01-01 00:00:01     51\n",
      "2012-01-01 00:00:02    447\n",
      "2012-01-01 00:00:03     65\n",
      "2012-01-01 00:00:04    491\n",
      "2012-01-01 00:00:05    175\n",
      "2012-01-01 00:00:06    264\n",
      "2012-01-01 00:00:07    156\n",
      "2012-01-01 00:00:08    401\n",
      "2012-01-01 00:00:09    350\n",
      "Freq: S, dtype: int32\n",
      "2012-01-01    2850\n",
      "Freq: 5T, dtype: int32\n"
     ]
    }
   ],
   "source": [
    "rng = pd.date_range('1/1/2012', periods=10, freq='S') # 频率为秒\n",
    "ts = pd.Series(np.random.randint(0, 500, len(rng)), index=rng)# 备注：生成10个[0,500)之间的整数\n",
    "print (ts)\n",
    "\n",
    "ts = ts.resample('5Min').sum()# 进行“每5分钟”的重新采样\n",
    "#ts = ts.resample('5min', how='sum')\n",
    "print (ts)\n"
   ]
  },
  {
   "cell_type": "code",
   "execution_count": 75,
   "metadata": {},
   "outputs": [
    {
     "name": "stdout",
     "output_type": "stream",
     "text": [
      "2012-03-06    0.374714\n",
      "2012-03-07    0.576021\n",
      "2012-03-08   -0.562063\n",
      "2012-03-09    0.389653\n",
      "2012-03-10    1.188266\n",
      "Freq: D, dtype: float64\n",
      "2012-03-06 00:00:00+00:00    0.374714\n",
      "2012-03-07 00:00:00+00:00    0.576021\n",
      "2012-03-08 00:00:00+00:00   -0.562063\n",
      "2012-03-09 00:00:00+00:00    0.389653\n",
      "2012-03-10 00:00:00+00:00    1.188266\n",
      "Freq: D, dtype: float64\n",
      "2012-03-05 19:00:00-05:00    0.374714\n",
      "2012-03-06 19:00:00-05:00    0.576021\n",
      "2012-03-07 19:00:00-05:00   -0.562063\n",
      "2012-03-08 19:00:00-05:00    0.389653\n",
      "2012-03-09 19:00:00-05:00    1.188266\n",
      "Freq: D, dtype: float64\n"
     ]
    }
   ],
   "source": [
    "# Time zone representation\n",
    "rng = pd.date_range('3/6/2012 00:00', periods=5, freq='D')# 频率为天\n",
    "ts = pd.Series(np.random.randn(len(rng)), index= rng)# 备注：生成5个小数\n",
    "print (ts)\n",
    "\n",
    "ts_utc = ts.tz_localize('UTC')\n",
    "print (ts_utc)\n",
    "\n",
    "ts_new = ts_utc.tz_convert('US/Eastern')\n",
    "print (ts_new)\n"
   ]
  },
  {
   "cell_type": "code",
   "execution_count": 76,
   "metadata": {},
   "outputs": [
    {
     "name": "stdout",
     "output_type": "stream",
     "text": [
      "2012-01-31   -0.767575\n",
      "2012-02-29   -0.944945\n",
      "2012-03-31    0.875722\n",
      "2012-04-30    1.138846\n",
      "2012-05-31    0.330833\n",
      "Freq: M, dtype: float64\n",
      "2012-01   -0.767575\n",
      "2012-02   -0.944945\n",
      "2012-03    0.875722\n",
      "2012-04    1.138846\n",
      "2012-05    0.330833\n",
      "Freq: M, dtype: float64\n",
      "2012-01-01   -0.767575\n",
      "2012-02-01   -0.944945\n",
      "2012-03-01    0.875722\n",
      "2012-04-01    1.138846\n",
      "2012-05-01    0.330833\n",
      "Freq: MS, dtype: float64\n"
     ]
    }
   ],
   "source": [
    "# Converting between time span representations\n",
    "rng = pd.date_range('1/1/2012', periods=5, freq='M')# 频率为月\n",
    "ts = pd.Series(np.random.randn(len(rng)), index=rng) # 备注：生成5个小数\n",
    "print (ts)\n",
    "\n",
    "ps = ts.to_period()\n",
    "print (ps)\n",
    "\n",
    "ts = ps.to_timestamp()\n",
    "print (ts)\n"
   ]
  },
  {
   "cell_type": "code",
   "execution_count": 77,
   "metadata": {},
   "outputs": [
    {
     "name": "stdout",
     "output_type": "stream",
     "text": [
      "1990Q1    1.540238\n",
      "1990Q2   -0.565823\n",
      "1990Q3    0.763735\n",
      "1990Q4   -0.699966\n",
      "1991Q1   -3.068395\n",
      "Freq: Q-NOV, dtype: float64\n",
      "1990-03-01 09:00    1.540238\n",
      "1990-06-01 09:00   -0.565823\n",
      "1990-09-01 09:00    0.763735\n",
      "1990-12-01 09:00   -0.699966\n",
      "1991-03-01 09:00   -3.068395\n",
      "Freq: H, dtype: float64\n"
     ]
    }
   ],
   "source": [
    "prng = pd.period_range('1990Q1', '2000Q4', freq='Q-NOV') \n",
    "ts = pd.Series(np.random.randn(len(prng)), index=prng)\n",
    "print (ts.head())\n",
    "\n",
    "ts.index = (prng.asfreq('M', 'e') + 1).asfreq('H', 's') + 9 \n",
    "# 季度最末尾一个月第一天上午9点，M表示Month，e表示end，H表示Hour，s表示start\n",
    "print (ts.head() )\n",
    "\n"
   ]
  },
  {
   "cell_type": "code",
   "execution_count": 78,
   "metadata": {},
   "outputs": [
    {
     "data": {
      "image/png": "[encoded data removed]",
      "text/plain": [
       "<Figure size 432x288 with 1 Axes>"
      ]
     },
     "metadata": {},
     "output_type": "display_data"
    },
    {
     "data": {
      "text/plain": [
       "<Figure size 432x288 with 0 Axes>"
      ]
     },
     "metadata": {},
     "output_type": "display_data"
    },
    {
     "data": {
      "image/png": "[encoded data removed]",
      "text/plain": [
       "<Figure size 432x288 with 1 Axes>"
      ]
     },
     "metadata": {},
     "output_type": "display_data"
    }
   ],
   "source": [
    "# 可视化Series\n",
    "import matplotlib.pyplot as plt\n",
    "ts = pd.Series(np.random.randn(1000), index=pd.date_range('1/1/2000', periods=1000))\n",
    "plt.figure(); \n",
    "ts = ts.cumsum()# cumulative sum即累计值\n",
    "ts.plot()\n",
    "plt.legend(loc='best')\n",
    "plt.show()\n",
    "\n",
    "# 可视化DataFrame\n",
    "df = pd.DataFrame(np.random.randn(1000, 4), index=ts.index,columns=['A', 'B', 'C', 'D'])\n",
    "df = df.cumsum()# cumulative sum即累计值\n",
    "plt.figure(); \n",
    "df.plot(); \n",
    "plt.legend(loc='best')\n",
    "plt.show()\n"
   ]
  },
  {
   "cell_type": "code",
   "execution_count": 79,
   "metadata": {},
   "outputs": [
    {
     "name": "stdout",
     "output_type": "stream",
     "text": [
      "          A         B         C         D\n",
      "0  0.380575 -1.320633 -0.226471  0.669137\n",
      "1 -0.009235 -0.259236 -0.879966  0.286109\n",
      "2  0.131772 -0.669222  0.909403 -1.323208\n",
      "3  0.729585  0.653057  0.130834 -1.850276\n",
      "4  1.777139 -0.091013  1.687914 -1.023087\n",
      "   Unnamed: 0         A         B         C         D\n",
      "0           0  0.380575 -1.320633 -0.226471  0.669137\n",
      "1           1 -0.009235 -0.259236 -0.879966  0.286109\n",
      "2           2  0.131772 -0.669222  0.909403 -1.323208\n",
      "3           3  0.729585  0.653057  0.130834 -1.850276\n",
      "4           4  1.777139 -0.091013  1.687914 -1.023087\n"
     ]
    }
   ],
   "source": [
    "# 读写文件\n",
    "df = pd.DataFrame(np.random.randn(8, 4), columns=['A','B','C','D'])\n",
    "print (df.head())\n",
    "\n",
    "# Writing to & read from a csv file \n",
    "df.to_csv('foo.csv')\n",
    "df = pd.read_csv('foo.csv')\n",
    "print (df.head())\n",
    "\n"
   ]
  },
  {
   "cell_type": "code",
   "execution_count": 80,
   "metadata": {},
   "outputs": [
    {
     "data": {
      "text/plain": [
       "\"\\ndf = pd.DataFrame(np.random.randn(8, 4), columns=['A','B','C','D'])\\nprint (df.head())\\n\\ndf.to_hdf('foo.h5','df')\\ndf = pd.read_hdf('foo.h5','df')\\nprint (df.head())\\n\\n\""
      ]
     },
     "execution_count": 80,
     "metadata": {},
     "output_type": "execute_result"
    }
   ],
   "source": [
    "# Writing to & read from a HDF5 Store\n",
    "# need pandas version 3.4.2\n",
    "'''\n",
    "df = pd.DataFrame(np.random.randn(8, 4), columns=['A','B','C','D'])\n",
    "print (df.head())\n",
    "\n",
    "df.to_hdf('foo.h5','df')\n",
    "df = pd.read_hdf('foo.h5','df')\n",
    "print (df.head())\n",
    "\n",
    "'''\n"
   ]
  },
  {
   "cell_type": "code",
   "execution_count": 81,
   "metadata": {},
   "outputs": [
    {
     "name": "stdout",
     "output_type": "stream",
     "text": [
      "          A         B         C         D\n",
      "0 -0.869026 -1.253311  0.417989 -0.394760\n",
      "1  1.387651  1.884390  0.307489  1.503999\n",
      "2 -0.728166 -0.486927 -0.441348  0.091817\n",
      "3  1.021452 -0.824855 -0.503679 -0.266899\n",
      "4 -1.134485  0.537233  1.162036  1.514668\n",
      "   Unnamed: 0         A         B         C         D\n",
      "0           0 -0.869026 -1.253311  0.417989 -0.394760\n",
      "1           1  1.387651  1.884390  0.307489  1.503999\n",
      "2           2 -0.728166 -0.486927 -0.441348  0.091817\n",
      "3           3  1.021452 -0.824855 -0.503679 -0.266899\n",
      "4           4 -1.134485  0.537233  1.162036  1.514668\n"
     ]
    },
    {
     "name": "stderr",
     "output_type": "stream",
     "text": [
      "C:\\Anaconda2\\envs\\Python35\\lib\\site-packages\\pandas\\compat\\_optional.py:106: UserWarning: Pandas requires version '0.9.8' or newer of 'xlsxwriter' (version '0.9.6' currently installed).\n",
      "  warnings.warn(msg, UserWarning)\n"
     ]
    }
   ],
   "source": [
    "\n",
    "# Writing to & read from an excel file\n",
    "df = pd.DataFrame(np.random.randn(8, 4), columns=['A','B','C','D'])\n",
    "print (df.head())\n",
    "\n",
    "df.to_excel('foo.xlsx', sheet_name='Sheet1')\n",
    "df = pd.read_excel('foo.xlsx', 'Sheet1', index_col=None, na_values=['NA'])\n",
    "print (df.head())\n"
   ]
  },
  {
   "cell_type": "code",
   "execution_count": null,
   "metadata": {
    "collapsed": true
   },
   "outputs": [],
   "source": []
  }
 ],
 "metadata": {
  "kernelspec": {
   "display_name": "Python 3",
   "language": "python",
   "name": "python3"
  },
  "language_info": {
   "codemirror_mode": {
    "name": "ipython",
    "version": 3
   },
   "file_extension": ".py",
   "mimetype": "text/x-python",
   "name": "python",
   "nbconvert_exporter": "python",
   "pygments_lexer": "ipython3",
   "version": "3.5.3"
  }
 },
 "nbformat": 4,
 "nbformat_minor": 2
}
