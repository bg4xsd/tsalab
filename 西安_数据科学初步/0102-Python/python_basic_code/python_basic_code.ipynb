{
 "cells": [
  {
   "cell_type": "code",
   "execution_count": 1,
   "metadata": {},
   "outputs": [
    {
     "name": "stdout",
     "output_type": "stream",
     "text": [
      "33\n"
     ]
    }
   ],
   "source": [
    "a=33\n",
    "print(a)\n"
   ]
  },
  {
   "cell_type": "code",
   "execution_count": 2,
   "metadata": {},
   "outputs": [
    {
     "name": "stdout",
     "output_type": "stream",
     "text": [
      "35 76.7 I am a boy\n"
     ]
    }
   ],
   "source": [
    "a=35\n",
    "b=76.7\n",
    "c=\"I am a boy\"\n",
    "print(a,b,c)"
   ]
  },
  {
   "cell_type": "code",
   "execution_count": 3,
   "metadata": {},
   "outputs": [
    {
     "name": "stdout",
     "output_type": "stream",
     "text": [
      "mark\n"
     ]
    }
   ],
   "source": [
    "#this is a comment\n",
    "name = \"mark\" #this is another comment\n",
    "print(name)"
   ]
  },
  {
   "cell_type": "code",
   "execution_count": 4,
   "metadata": {},
   "outputs": [
    {
     "name": "stdout",
     "output_type": "stream",
     "text": [
      "True\n"
     ]
    },
    {
     "data": {
      "text/plain": [
       "bool"
      ]
     },
     "execution_count": 4,
     "metadata": {},
     "output_type": "execute_result"
    }
   ],
   "source": [
    "b1 = 3>2\n",
    "print(b1)\n",
    "type(b1)  # 输出b1的数据类型，也就是bool\n"
   ]
  },
  {
   "cell_type": "code",
   "execution_count": 5,
   "metadata": {},
   "outputs": [
    {
     "data": {
      "text/plain": [
       "int"
      ]
     },
     "execution_count": 5,
     "metadata": {},
     "output_type": "execute_result"
    }
   ],
   "source": [
    "a=100\n",
    "b=-100\n",
    "c=0xff\n",
    "type(c)  # 输出c的数据类型，也就是int\n"
   ]
  },
  {
   "cell_type": "code",
   "execution_count": 6,
   "metadata": {},
   "outputs": [
    {
     "data": {
      "text/plain": [
       "float"
      ]
     },
     "execution_count": 6,
     "metadata": {},
     "output_type": "execute_result"
    }
   ],
   "source": [
    "f1=3.23\n",
    "f2=1.2e-5\n",
    "type(f1)  # 输出f1的数据类型，也就是float\n",
    "\n"
   ]
  },
  {
   "cell_type": "code",
   "execution_count": 7,
   "metadata": {},
   "outputs": [
    {
     "data": {
      "text/plain": [
       "complex"
      ]
     },
     "execution_count": 7,
     "metadata": {},
     "output_type": "execute_result"
    }
   ],
   "source": [
    "c1=3+2.7j\n",
    "c2=-5-9.3j\n",
    "type(c1)  # 输出c1的数据类型，也就是complex\n"
   ]
  },
  {
   "cell_type": "code",
   "execution_count": 8,
   "metadata": {},
   "outputs": [
    {
     "name": "stdout",
     "output_type": "stream",
     "text": [
      "spanning\n",
      "multiple\n",
      "lines\n",
      "Hello World!\n",
      "H\n",
      "llo\n",
      "llo World!\n",
      "Hello World!Hello World!\n",
      "Hello World!TEST\n"
     ]
    }
   ],
   "source": [
    "s1='small string'\n",
    "s2=\"a much larger sting\"\n",
    "s3=\"\"\"spanning\n",
    "multiple\n",
    "lines\"\"\"\n",
    "print(s3)\n",
    "type(s1)  # 输出s1的数据类型，也就是str\n",
    "\n",
    "str = 'Hello World!'\n",
    "print (str)      # 打印整个字符串\n",
    "print (str[0] )    # 打印0号下标字符\n",
    "print (str[2:5] )   # 打印2、3、4号下标字符\n",
    "print (str[2:] )    # 打印2号下标字符，以及后续字符\n",
    "print (str * 2)    # 打印字符串两遍\n",
    "print (str + \"TEST\") # 把str和\"TEST\"连接起来，然后打印\n"
   ]
  },
  {
   "cell_type": "code",
   "execution_count": 9,
   "metadata": {},
   "outputs": [
    {
     "name": "stdout",
     "output_type": "stream",
     "text": [
      "['abcd', 786, 2.23, 'john', 70.2]\n",
      "abcd\n",
      "[786, 2.23]\n",
      "[2.23, 'john', 70.2]\n",
      "70.2\n",
      "['abcd', 786, 2.23, 'john']\n",
      "[123, 'john', 123, 'john']\n",
      "['abcd', 786, 2.23, 'john', 70.2, 123, 'john']\n"
     ]
    }
   ],
   "source": [
    "list_normal = [ 'abcd', 786 , 2.23, 'john', 70.2 ]\n",
    "tinylist = [123, 'john']\n",
    "\n",
    "print (list_normal)     # 打印list_normal的所有元素\n",
    "print (list_normal [0] )    # 打印list_normal的0号下标元素\n",
    "print (list_normal [1:3] )   # 打印下标为1、2的元素\n",
    "print (list_normal [2:] )    # 打印下标>=2的元素\n",
    "print (list_normal [-1] )   # 打印倒数第一个元素\n",
    "print (list_normal [:-1] )   # 从下标为0的元素开始打印，打印到倒数第2个元素\n",
    "\n",
    "print (tinylist * 2)  # 打印tinylist两遍\n",
    "print (list_normal + tinylist) # 连接list_normal和tinylist，然后打印\n"
   ]
  },
  {
   "cell_type": "code",
   "execution_count": 10,
   "metadata": {},
   "outputs": [
    {
     "name": "stdout",
     "output_type": "stream",
     "text": [
      "['abcd', 786, 2.23, 'john', 70.2, 'more']\n",
      "['abcd', 785, 786, 2.23, 'john', 70.2, 'more']\n",
      "['abcd', 785, 786, 2.23, 'john', 70.2]\n",
      "['abcd', 785, 2.23, 'john', 70.2]\n"
     ]
    }
   ],
   "source": [
    "list_normal = [ 'abcd', 786 , 2.23, 'john', 70.2 ]\n",
    "list_normal.append('more')\n",
    "print(list_normal)\n",
    "list_normal.insert(1,785)\n",
    "print(list_normal)\n",
    "\n",
    "list_normal.pop()\n",
    "print(list_normal)\n",
    "list_normal.pop(2)\n",
    "print(list_normal)\n"
   ]
  },
  {
   "cell_type": "code",
   "execution_count": 11,
   "metadata": {},
   "outputs": [
    {
     "name": "stdout",
     "output_type": "stream",
     "text": [
      "['I', ' ', 'a', 'm', ' ', 'a', ' ', 'b', 'o', 'y']\n",
      "['y', 'o', 'b', ' ', 'a', ' ', 'm', 'a', ' ', 'I']\n"
     ]
    }
   ],
   "source": [
    "#转换字符串为列表\n",
    "s = 'I am a boy'       # 生成字符串\n",
    "w = list(s)          # 转为字符的列表\n",
    "print(w)            # 显示['I', ' ', 'a', 'm', ' ', 'a', ' ', 'b', 'o', 'y']\n",
    "w.reverse()\n",
    "print(w)            # 显示['y', 'o', 'b', ' ', 'a', ' ', 'm', 'a', ' ', 'I']\n"
   ]
  },
  {
   "cell_type": "code",
   "execution_count": 12,
   "metadata": {},
   "outputs": [
    {
     "name": "stdout",
     "output_type": "stream",
     "text": [
      "['you', 'are', 'a', 'girl']\n",
      "you|are|a|girl\n"
     ]
    }
   ],
   "source": [
    "s = 'you are a girl'\n",
    "w = s.split()            # 基于空白符(空格, 新行)切分\n",
    "print(w)               # 显示['you', 'are', 'a', 'girl']\n",
    "\n",
    "print('|'.join(w) )           # 对其他串用'|'来join，显示you|are|a|girl"
   ]
  },
  {
   "cell_type": "code",
   "execution_count": 13,
   "metadata": {},
   "outputs": [
    {
     "name": "stdout",
     "output_type": "stream",
     "text": [
      "[[3, 4, 5, 6, 7], [13, 14, 15, 16, 17], [23, 24, 25, 26, 27]]\n",
      "[[3, 13, 23], [4, 14, 24], [5, 15, 25], [6, 16, 26], [7, 17, 27]]\n",
      "    0   1   2   3   4\n",
      "0   3   4   5   6   7\n",
      "1  13  14  15  16  17\n",
      "2  23  24  25  26  27\n"
     ]
    }
   ],
   "source": [
    "a = [ [3,4,5,6,7], [13,14,15,16,17], [23,24,25,26,27]]# 3行5列的矩阵\n",
    "b = []\n",
    "i = 0 \n",
    "for new_row in range(len(a[0])):\n",
    "    b.append([])\n",
    "    for new_col in range(len(a)):\n",
    "        b[new_row].append( a[new_col][new_row])\n",
    "\n",
    "print (a)\n",
    "print (b)\n",
    "# 这段代码执行的结果是\n",
    "#[[3, 4, 5, 6, 7], [13, 14, 15, 16, 17], [23, 24, 25, 26, 27]] # a是一个3行5列的矩阵\n",
    "#[[3, 13, 23], [4, 14, 24], [5, 15, 25], [6, 16, 26], [7, 17, 27]] # b是一个5行3列的矩阵\n",
    "\n",
    "import pandas as pd\n",
    "df = pd.DataFrame(b)\n",
    "print (df.transpose())\n"
   ]
  },
  {
   "cell_type": "code",
   "execution_count": 14,
   "metadata": {},
   "outputs": [
    {
     "name": "stdout",
     "output_type": "stream",
     "text": [
      "('abcd', 786, 2.23, 'john', 70.2)\n",
      "abcd\n",
      "(786, 2.23)\n",
      "(2.23, 'john', 70.2)\n",
      "70.2\n",
      "('abcd', 786, 2.23, 'john')\n",
      "(123, 'john', 123, 'john')\n",
      "('abcd', 786, 2.23, 'john', 70.2, 123, 'john')\n",
      "john\n",
      "20\n",
      "88\n"
     ]
    }
   ],
   "source": [
    "tuple_normal = ( 'abcd', 786 , 2.23, 'john', 70.2 )\n",
    "tinytuple = (123, 'john')\n",
    "\n",
    "print (tuple_normal)      # 打印tuple_normal的所有元素\n",
    "print (tuple_normal [0] )    # 打印tuple_normal的0号下标元素\n",
    "print (tuple_normal [1:3] )    # 打印tuple_normal的下标为1、2的元素\n",
    "print (tuple_normal [2:] )    # 打印下标>=2的元素\n",
    "print (tuple_normal [-1] )    # 打印倒数第一个元素\n",
    "print (tuple_normal [:-1] )  # 从下标为0的元素开始打印，打印到倒数第2个元素\n",
    "\n",
    "print (tinytuple * 2)  # 打印tinytuple两遍\n",
    "print (tuple_normal + tinytuple) # 连接tuple_normal和tinytuple ，然后打印\n",
    "\n",
    "stu1=('john', 20, 'male', 95.5, 90.5,88)\n",
    "print(stu1[0]) # 打印stu1的0号下标元素\n",
    "print(stu1[1]) # 打印stu1的1号下标元素\n",
    "print(stu1[-1]) # 打印倒数第一个元素\n"
   ]
  },
  {
   "cell_type": "code",
   "execution_count": 15,
   "metadata": {},
   "outputs": [
    {
     "name": "stdout",
     "output_type": "stream",
     "text": [
      "1\n",
      "two\n",
      "two\n",
      "True\n",
      "{'name': 'john', 'code': 6734, 'dept': 'sales', 'one': 1, 2: 'two'}\n",
      "dict_keys(['name', 'code', 'dept', 'one', 2])\n",
      "dict_values(['john', 6734, 'sales', 1, 'two'])\n"
     ]
    }
   ],
   "source": [
    "tinydict = {'name': 'john', 'code':6734, 'dept': 'sales', 'one': 1, 2: 'two'}\n",
    "print (tinydict ['one'] )    # 打印key 'one'对应的value\n",
    "print (tinydict [2] )     # 打印key 2对应的value\n",
    "print (tinydict.get(2) )    # 打印key 2对应的value\n",
    "print ('code' in tinydict)     # 判断key是否在字典中\n",
    "\n",
    "print (tinydict)      # 打印整个字典\n",
    "print (tinydict.keys())   # 打印所有的key\n",
    "print (tinydict.values())   # 打印所有的value\n"
   ]
  },
  {
   "cell_type": "code",
   "execution_count": 16,
   "metadata": {},
   "outputs": [
    {
     "name": "stdout",
     "output_type": "stream",
     "text": [
      "{2, 3}\n",
      "{1, 2, 3, 4}\n",
      "{2}\n",
      "{1, 2, 3, 4, 5}\n",
      "True\n",
      "frozenset({True, 'string', 4.0})\n"
     ]
    }
   ],
   "source": [
    "s1 = set([1, 2, 3])\n",
    "s2 = set([2, 3, 4])\n",
    "print (s1 & s2)  # 交集\n",
    "print (s1 | s2)   # 并集\n",
    "s1.add(5)\n",
    "s2.remove(3)\n",
    "print (s1 & s2)\n",
    "print (s1 | s2)\n",
    "\n",
    "print (1 in s1)    # 判断元素是否在集合中\n",
    "\n",
    "fs1 = frozenset([4.0, 'string', True])\n",
    "print(fs1)\n"
   ]
  },
  {
   "cell_type": "code",
   "execution_count": 17,
   "metadata": {},
   "outputs": [
    {
     "name": "stdout",
     "output_type": "stream",
     "text": [
      "4\n",
      "3\n"
     ]
    }
   ],
   "source": [
    "# 顺序结构\n",
    "a=3\n",
    "b=4\n",
    "\n",
    "t=a\n",
    "a=b\n",
    "b=t\n",
    "print(a)\n",
    "print(b)\n"
   ]
  },
  {
   "cell_type": "code",
   "execution_count": 18,
   "metadata": {},
   "outputs": [
    {
     "name": "stdout",
     "output_type": "stream",
     "text": [
      "2\n",
      "3\n"
     ]
    }
   ],
   "source": [
    "# 分支结构\n",
    "a=3\n",
    "b=2\n",
    "if a>b:\n",
    "    t=a\n",
    "    a=b\n",
    "    b=t# 这三个语句属于一个语句块，注意语句块的缩进\n",
    "print(a)\n",
    "print(b)\n"
   ]
  },
  {
   "cell_type": "code",
   "execution_count": 19,
   "metadata": {},
   "outputs": [
    {
     "name": "stdout",
     "output_type": "stream",
     "text": [
      "a greater than b\n"
     ]
    }
   ],
   "source": [
    "a=3\n",
    "b=2\n",
    "if a>b:\n",
    "    print('a greater than b')\n",
    "else:\n",
    "    print('a less than or equal to b')\n"
   ]
  },
  {
   "cell_type": "code",
   "execution_count": 20,
   "metadata": {},
   "outputs": [
    {
     "name": "stdout",
     "output_type": "stream",
     "text": [
      "C\n"
     ]
    }
   ],
   "source": [
    "score=75\n",
    "grade='A'\n",
    "if (score<60):\n",
    "    grade='E'\n",
    "elif (score<70):\n",
    "    grade='D'\n",
    "elif (score<80):\n",
    "    grade='C'\n",
    "elif (score<90):\n",
    "    grade='B'\n",
    "else:\n",
    "    grade='A'\n",
    "print(grade)\n"
   ]
  },
  {
   "cell_type": "code",
   "execution_count": 21,
   "metadata": {},
   "outputs": [
    {
     "name": "stdout",
     "output_type": "stream",
     "text": [
      "15\n"
     ]
    }
   ],
   "source": [
    "# 循环结构\n",
    "i=1\n",
    "sum=0\n",
    "while( i<=5):\n",
    "    sum = sum +i\n",
    "    i = i +1\n",
    "print(sum)\n"
   ]
  },
  {
   "cell_type": "code",
   "execution_count": 22,
   "metadata": {},
   "outputs": [
    {
     "name": "stdout",
     "output_type": "stream",
     "text": [
      "Current fruit : banana\n",
      "Current fruit : apple\n",
      "Current fruit : mango\n",
      "Good bye!\n"
     ]
    }
   ],
   "source": [
    "fruits = ['banana', 'apple', 'mango']\n",
    "for index in range(len(fruits)):# len(fruits)为3，range(…)为[0,1,2]\n",
    "    print ('Current fruit :', fruits[index])\n",
    "\n",
    "print (\"Good bye!\")\n"
   ]
  },
  {
   "cell_type": "code",
   "execution_count": 23,
   "metadata": {},
   "outputs": [
    {
     "name": "stdout",
     "output_type": "stream",
     "text": [
      "john:81\n",
      "lily:82\n",
      "mary:83\n",
      "June:84\n",
      "April:85\n",
      "mark:86\n"
     ]
    }
   ],
   "source": [
    "list_score = [81,83,82,86,84,85]\n",
    "list_name = ['john', 'mary', 'lily', 'mark', 'June', 'April']\n",
    "count = len(list_score)\n",
    "for j in range(0, count-1):\n",
    "    for i in range(0, count -1 - j):\n",
    "        if list_score [i] > list_score [i+1]:\n",
    "            list_score [i], list_score [i+1] = list_score [i+1], list_score [i]\n",
    "            list_name [i], list_name [i+1] = list_name [i+1], list_name [i]\n",
    "# 采用冒泡排序，请参考\"谭浩强《C程序设计》第四版\"p148\n",
    "for i in range(0, count):\n",
    "    print (\"%s:%d\"%(list_name[i],list_score[i]))\n"
   ]
  },
  {
   "cell_type": "code",
   "execution_count": 24,
   "metadata": {},
   "outputs": [
    {
     "name": "stdout",
     "output_type": "stream",
     "text": [
      "found:5\n"
     ]
    }
   ],
   "source": [
    "a = [1,2,3,4,5,6,7,8]\n",
    "target = 6\n",
    "found_index = -1\n",
    "\n",
    "low = 0\n",
    "high = len(a) - 1\n",
    "\n",
    "while low <= high:\n",
    "    mid = (low + high) // 2\n",
    "    midVal = a[mid]\n",
    " \n",
    "    if midVal < target:\n",
    "        low = mid + 1\n",
    "    elif midVal > target:\n",
    "        high = mid - 1\n",
    "    else:\n",
    "        found_index = mid\n",
    "        break\n",
    "  \n",
    "if(found_index==-1):\n",
    "    print('not found')\n",
    "else:\n",
    "    print ('%s:%d'%('found', found_index))"
   ]
  },
  {
   "cell_type": "code",
   "execution_count": 25,
   "metadata": {},
   "outputs": [
    {
     "name": "stdout",
     "output_type": "stream",
     "text": [
      "found:5\n",
      "not found\n"
     ]
    }
   ],
   "source": [
    "def bin_search(a, target):\n",
    "    low = 0\n",
    "    high = len(a) - 1\n",
    "\n",
    "    while low <= high:\n",
    "        mid = (low + high) // 2\n",
    "        midVal = a[mid]\n",
    " \n",
    "        if midVal < target:\n",
    "            low = mid + 1\n",
    "        elif midVal > target:\n",
    "            high = mid - 1\n",
    "        else:\n",
    "            return mid\n",
    "    return -1\n",
    "\n",
    "a = [1,2,3,4,5,6,7,8]\n",
    "target = 6\n",
    "found_index = -1\n",
    "found_index = bin_search(a,target)\n",
    "if(found_index==-1):\n",
    "    print('not found')\n",
    "else:\n",
    "    print ('%s:%d'%('found', found_index))\n",
    "\n",
    "a = [3,5,7,11,13,17,23,29]\n",
    "target = 2\n",
    "found_index = -1\n",
    "found_index = bin_search(a,target)\n",
    "if(found_index==-1):\n",
    "    print('not found')\n",
    "else:\n",
    "    print ('%s:%d'%('found', found_index))\n"
   ]
  },
  {
   "cell_type": "code",
   "execution_count": 26,
   "metadata": {},
   "outputs": [
    {
     "name": "stdout",
     "output_type": "stream",
     "text": [
      "120\n"
     ]
    }
   ],
   "source": [
    "def fractal(n):\n",
    "    if n==1 or n==0:\n",
    "        return 1\n",
    "    return n*fractal(n-1)\n",
    "\n",
    "print (fractal(5))"
   ]
  },
  {
   "cell_type": "code",
   "execution_count": 27,
   "metadata": {},
   "outputs": [
    {
     "name": "stdout",
     "output_type": "stream",
     "text": [
      "请输入汉诺塔的层数:3\n",
      "1 : x --> z\n",
      "2 : x --> y\n",
      "1 : z --> y\n",
      "3 : x --> z\n",
      "1 : y --> x\n",
      "2 : y --> z\n",
      "1 : x --> z\n"
     ]
    }
   ],
   "source": [
    "#coding=utf-8\n",
    "def hanoi(n, x, y, z):\n",
    "    if n==1:\n",
    "        print(n, ':', x,'-->',z)\n",
    "    else:\n",
    "        hanoi(n-1, x, z, y)  # 将前n-1个盘子从x移动到y上(利用z)\n",
    "        print(n, ':', x,'-->',z)  # 将最底下的最大的一个盘子从x移动到z上\n",
    "        hanoi(n-1, y, x, z)  # 将y上的n-1个盘子移动到z上(利用x)\n",
    "n=int(input('请输入汉诺塔的层数:'))\n",
    "hanoi(n, 'x', 'y', 'z')\n"
   ]
  },
  {
   "cell_type": "code",
   "execution_count": 28,
   "metadata": {},
   "outputs": [
    {
     "name": "stdout",
     "output_type": "stream",
     "text": [
      "3 4.5 young man\n",
      "3,4.500000,young man\n",
      "\n"
     ]
    }
   ],
   "source": [
    "a =3\n",
    "b=4.5\n",
    "c='young man'\n",
    "print(a, b, c) # 顺序输出a,b,c的内容\n",
    "print ('%d,%f,%s\\n'%(a,b,c))# 按照格式串'%d,%f,%s\\n'输出a,b,c的值\n",
    "# %d表示输出整数，%f表示输出小数, %s表示输出字符串，\\n表示换行\n"
   ]
  },
  {
   "cell_type": "code",
   "execution_count": 29,
   "metadata": {},
   "outputs": [
    {
     "name": "stdout",
     "output_type": "stream",
     "text": [
      "name: John , sex: Male , age:  33 , salary:  9800.0\n",
      "name: Mary , sex: Female , age:  35 , salary:  9500.0\n",
      "Employee\n"
     ]
    }
   ],
   "source": [
    "class Employee(object):\n",
    "    def __init__(self, _name):\n",
    "        self.name = _name\n",
    "\n",
    "    def setName(self, _name):\n",
    "        self.name = _name\n",
    "    def setSex(self, _sex):\n",
    "        self.sex = _sex\n",
    "    def setAge(self, _age):\n",
    "        self.age = _age\n",
    "    def setSalary(self, _salary):\n",
    "        self.salary = _salary\n",
    "    def show(self):\n",
    "        print ('name:', self.name, ', sex:', self.sex, ', age: ',self.age, ', salary: ',self.salary)\n",
    "\n",
    "emp1 = Employee('John')# 构造一个对象(Employee类的实例)\n",
    "emp1.setName('John')\n",
    "emp1.setSex('Male')\n",
    "emp1.setAge(33)\n",
    "emp1.setSalary(9800.00)\n",
    "emp1.show()\n",
    "\n",
    "emp2 = Employee('Mary')# 构造一个对象(Employee类的实例)\n",
    "emp2.setName('Mary')\n",
    "emp2.setSex('Female')\n",
    "emp2.setAge(35)\n",
    "emp2.setSalary(9500.00)\n",
    "emp2.show()\n",
    "print (Employee.__name__) # 显示类名\n"
   ]
  },
  {
   "cell_type": "code",
   "execution_count": 30,
   "metadata": {},
   "outputs": [
    {
     "name": "stdout",
     "output_type": "stream",
     "text": [
      "name: tom , sex: Male , age:  31 , salary:  10100.0\n"
     ]
    }
   ],
   "source": [
    "class Manager(Employee): #define child class\n",
    "    def setSubsidy(self, _subsidy):\n",
    "        self.subsidy = _subsidy \n",
    "\n",
    "mgr1 = Manager('tom')\n",
    "mgr1.setName('tom')\n",
    "mgr1.setSex('Male')\n",
    "mgr1.setAge(31)\n",
    "mgr1.setSalary(10100.00)\n",
    "mgr1.setSubsidy(1000.00)\n",
    "mgr1.show()\n",
    "\n"
   ]
  },
  {
   "cell_type": "code",
   "execution_count": 31,
   "metadata": {},
   "outputs": [
    {
     "name": "stdout",
     "output_type": "stream",
     "text": [
      "name: tom , sex: Male , age:  31 , salary:  10100.0 , subsidy:  1000.0\n"
     ]
    }
   ],
   "source": [
    "class Manager(Employee): # define child class\n",
    "    def setSubsidy(self, _subsidy):\n",
    "        self.subsidy = _subsidy \n",
    "    def show(self):\n",
    "        print ('name:', self.name, ', sex:', self.sex, ', age: ',self.age, ', salary: ',self.salary, ', subsidy: ',self. subsidy)\n",
    "\n",
    "mgr1 = Manager('tom')\n",
    "mgr1.setName('tom')\n",
    "mgr1.setSex('Male')\n",
    "mgr1.setAge(31)\n",
    "mgr1.setSalary(10100.00)\n",
    "mgr1.setSubsidy(1000.00)\n",
    "mgr1.show()\n"
   ]
  },
  {
   "cell_type": "code",
   "execution_count": 32,
   "metadata": {},
   "outputs": [
    {
     "name": "stdout",
     "output_type": "stream",
     "text": [
      "divide by zero error captures! \n"
     ]
    }
   ],
   "source": [
    "try:\n",
    "    a = 10\n",
    "    b = 0\n",
    "    print (a / b)\n",
    "except ZeroDivisionError:\n",
    "    print ('divide by zero error captures! ' )\n",
    "\n"
   ]
  },
  {
   "cell_type": "code",
   "execution_count": 33,
   "metadata": {},
   "outputs": [
    {
     "name": "stdout",
     "output_type": "stream",
     "text": [
      "('h', 'o', 's', 't', ' ', 'n', 'o', 't', ' ', 'f', 'o', 'u', 'n', 'd')\n"
     ]
    }
   ],
   "source": [
    "class Networkerror ( RuntimeError):\n",
    "    def __init__(self, _args):\n",
    "        self.args = _args\n",
    "\n",
    "try:\n",
    "    host_not_found = True\n",
    "    if (host_not_found):\n",
    "        raise Networkerror(\"host not found\")\n",
    "        # 如果没有异常，继续执行后续代码……\n",
    "except Networkerror as e:\n",
    "    print (e.args)\n"
   ]
  },
  {
   "cell_type": "code",
   "execution_count": 34,
   "metadata": {},
   "outputs": [
    {
     "name": "stdout",
     "output_type": "stream",
     "text": [
      "800-555-1212\n",
      "phone number is error!\n"
     ]
    }
   ],
   "source": [
    "import re\n",
    "   \n",
    "# 正则表达式匹配电话号码\n",
    "pattern_phone=re.compile('^(\\d{3})-(\\d{3})-(\\d{4})$')\n",
    "\n",
    "phone='800-555-1212'\n",
    "phonematch=pattern_phone.match(phone)\n",
    "if phonematch:\n",
    "    print (phonematch.group())\n",
    "else:\n",
    "    print (\"phone number is error!\")\n",
    "\n",
    "phone='800-555-1212-1234'\n",
    "phonematch=pattern_phone.match(phone)\n",
    "if phonematch:\n",
    "    print (phonematch.group())\n",
    "else:\n",
    "    print (\"phone number is error!\")\n"
   ]
  },
  {
   "cell_type": "code",
   "execution_count": 35,
   "metadata": {},
   "outputs": [],
   "source": [
    "# the end"
   ]
  },
  {
   "cell_type": "code",
   "execution_count": null,
   "metadata": {},
   "outputs": [],
   "source": []
  }
 ],
 "metadata": {
  "kernelspec": {
   "display_name": "Python 3",
   "language": "python",
   "name": "python3"
  },
  "language_info": {
   "codemirror_mode": {
    "name": "ipython",
    "version": 3
   },
   "file_extension": ".py",
   "mimetype": "text/x-python",
   "name": "python",
   "nbconvert_exporter": "python",
   "pygments_lexer": "ipython3",
   "version": "3.8.8"
  }
 },
 "nbformat": 4,
 "nbformat_minor": 2
}
