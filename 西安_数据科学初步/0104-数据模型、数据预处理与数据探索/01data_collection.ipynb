{
 "cells": [
  {
   "cell_type": "code",
   "execution_count": 1,
   "id": "fe8385ac",
   "metadata": {},
   "outputs": [],
   "source": [
    "#read csv"
   ]
  },
  {
   "cell_type": "code",
   "execution_count": 2,
   "id": "40acee9f",
   "metadata": {},
   "outputs": [
    {
     "data": {
      "text/html": [
       "<div>\n",
       "<style scoped>\n",
       "    .dataframe tbody tr th:only-of-type {\n",
       "        vertical-align: middle;\n",
       "    }\n",
       "\n",
       "    .dataframe tbody tr th {\n",
       "        vertical-align: top;\n",
       "    }\n",
       "\n",
       "    .dataframe thead th {\n",
       "        text-align: right;\n",
       "    }\n",
       "</style>\n",
       "<table border=\"1\" class=\"dataframe\">\n",
       "  <thead>\n",
       "    <tr style=\"text-align: right;\">\n",
       "      <th></th>\n",
       "      <th>EMPID</th>\n",
       "      <th>FirstName</th>\n",
       "      <th>LastName</th>\n",
       "      <th>Salary</th>\n",
       "    </tr>\n",
       "  </thead>\n",
       "  <tbody>\n",
       "    <tr>\n",
       "      <th>0</th>\n",
       "      <td>1001</td>\n",
       "      <td>Amal</td>\n",
       "      <td>Jose</td>\n",
       "      <td>100000</td>\n",
       "    </tr>\n",
       "    <tr>\n",
       "      <th>1</th>\n",
       "      <td>1002</td>\n",
       "      <td>Edward</td>\n",
       "      <td>Joe</td>\n",
       "      <td>100001</td>\n",
       "    </tr>\n",
       "    <tr>\n",
       "      <th>2</th>\n",
       "      <td>1003</td>\n",
       "      <td>Sabitha</td>\n",
       "      <td>Sunny</td>\n",
       "      <td>210000</td>\n",
       "    </tr>\n",
       "    <tr>\n",
       "      <th>3</th>\n",
       "      <td>1004</td>\n",
       "      <td>John</td>\n",
       "      <td>P</td>\n",
       "      <td>50000</td>\n",
       "    </tr>\n",
       "    <tr>\n",
       "      <th>4</th>\n",
       "      <td>1005</td>\n",
       "      <td>Mohammad</td>\n",
       "      <td>S</td>\n",
       "      <td>75000</td>\n",
       "    </tr>\n",
       "  </tbody>\n",
       "</table>\n",
       "</div>"
      ],
      "text/plain": [
       "   EMPID FirstName LastName  Salary\n",
       "0   1001      Amal     Jose  100000\n",
       "1   1002    Edward      Joe  100001\n",
       "2   1003   Sabitha    Sunny  210000\n",
       "3   1004      John        P   50000\n",
       "4   1005  Mohammad        S   75000"
      ]
     },
     "execution_count": 2,
     "metadata": {},
     "output_type": "execute_result"
    }
   ],
   "source": [
    "import pandas as pd\n",
    "\n",
    "df = pd.read_csv(\"./employee.csv\", delimiter=',')\n",
    "df.head()"
   ]
  },
  {
   "cell_type": "code",
   "execution_count": 3,
   "id": "8cf0e0e0",
   "metadata": {},
   "outputs": [],
   "source": [
    "df.to_json(\"./employee.json\", orient = \"records\", date_format = \"epoch\", double_precision = 10, force_ascii = True, date_unit = \"ms\", default_handler = None)"
   ]
  },
  {
   "cell_type": "code",
   "execution_count": 4,
   "id": "37a4caf6",
   "metadata": {},
   "outputs": [],
   "source": [
    "# read json"
   ]
  },
  {
   "cell_type": "code",
   "execution_count": 5,
   "id": "2d29ec8b",
   "metadata": {},
   "outputs": [
    {
     "data": {
      "text/html": [
       "<div>\n",
       "<style scoped>\n",
       "    .dataframe tbody tr th:only-of-type {\n",
       "        vertical-align: middle;\n",
       "    }\n",
       "\n",
       "    .dataframe tbody tr th {\n",
       "        vertical-align: top;\n",
       "    }\n",
       "\n",
       "    .dataframe thead th {\n",
       "        text-align: right;\n",
       "    }\n",
       "</style>\n",
       "<table border=\"1\" class=\"dataframe\">\n",
       "  <thead>\n",
       "    <tr style=\"text-align: right;\">\n",
       "      <th></th>\n",
       "      <th>EMPID</th>\n",
       "      <th>FirstName</th>\n",
       "      <th>LastName</th>\n",
       "      <th>Salary</th>\n",
       "    </tr>\n",
       "  </thead>\n",
       "  <tbody>\n",
       "    <tr>\n",
       "      <th>0</th>\n",
       "      <td>1001</td>\n",
       "      <td>Amal</td>\n",
       "      <td>Jose</td>\n",
       "      <td>100000</td>\n",
       "    </tr>\n",
       "    <tr>\n",
       "      <th>1</th>\n",
       "      <td>1002</td>\n",
       "      <td>Edward</td>\n",
       "      <td>Joe</td>\n",
       "      <td>100001</td>\n",
       "    </tr>\n",
       "    <tr>\n",
       "      <th>2</th>\n",
       "      <td>1003</td>\n",
       "      <td>Sabitha</td>\n",
       "      <td>Sunny</td>\n",
       "      <td>210000</td>\n",
       "    </tr>\n",
       "    <tr>\n",
       "      <th>3</th>\n",
       "      <td>1004</td>\n",
       "      <td>John</td>\n",
       "      <td>P</td>\n",
       "      <td>50000</td>\n",
       "    </tr>\n",
       "    <tr>\n",
       "      <th>4</th>\n",
       "      <td>1005</td>\n",
       "      <td>Mohammad</td>\n",
       "      <td>S</td>\n",
       "      <td>75000</td>\n",
       "    </tr>\n",
       "  </tbody>\n",
       "</table>\n",
       "</div>"
      ],
      "text/plain": [
       "   EMPID FirstName LastName  Salary\n",
       "0   1001      Amal     Jose  100000\n",
       "1   1002    Edward      Joe  100001\n",
       "2   1003   Sabitha    Sunny  210000\n",
       "3   1004      John        P   50000\n",
       "4   1005  Mohammad        S   75000"
      ]
     },
     "execution_count": 5,
     "metadata": {},
     "output_type": "execute_result"
    }
   ],
   "source": [
    "df2 = pd.read_json(\"./employee.json\")\n",
    "df2.head()"
   ]
  },
  {
   "cell_type": "code",
   "execution_count": 6,
   "id": "0e774994",
   "metadata": {},
   "outputs": [],
   "source": [
    "# read web"
   ]
  },
  {
   "cell_type": "code",
   "execution_count": 7,
   "id": "01da9d08",
   "metadata": {},
   "outputs": [
    {
     "name": "stdout",
     "output_type": "stream",
     "text": [
      "<!DOCTYPE html>\r\n",
      "<!--STATUS OK--><html> <head><meta http-equiv=content-type content=text/html;charset=utf-8><meta http-equiv=X-UA-Compatible content=IE=Edge><meta content=always name=referrer><link rel=stylesheet type=text/css href=https://ss1.bdstatic.com/5eN1bjq8AAUYm2zgoY3K/r/www/cache/bdorz/baidu.min.css><title>百度一下，你就知道</title></head> <body link=#0000cc> <div id=wrapper> <div id=head> <div class=head_wrapper> <div class=s_form> <div class=s_form_wrapper> <div id=lg> <img hidefocus=true src=//www.baidu.com/img/bd_logo1.png width=270 height=129> </div> <form id=form name=f action=//www.baidu.com/s class=fm> <input type=hidden name=bdorz_come value=1> <input type=hidden name=ie value=utf-8> <input type=hidden name=f value=8> <input type=hidden name=rsv_bp value=1> <input type=hidden name=rsv_idx value=1> <input type=hidden name=tn value=baidu><span class=\"bg s_ipt_wr\"><input id=kw name=wd class=s_ipt value maxlength=255 autocomplete=off autofocus=autofocus></span><span class=\"bg s_btn_wr\"><input type=submit id=su value=百度一下 class=\"bg s_btn\" autofocus></span> </form> </div> </div> <div id=u1> <a href=http://news.baidu.com name=tj_trnews class=mnav>新闻</a> <a href=https://www.hao123.com name=tj_trhao123 class=mnav>hao123</a> <a href=http://map.baidu.com name=tj_trmap class=mnav>地图</a> <a href=http://v.baidu.com name=tj_trvideo class=mnav>视频</a> <a href=http://tieba.baidu.com name=tj_trtieba class=mnav>贴吧</a> <noscript> <a href=http://www.baidu.com/bdorz/login.gif?login&amp;tpl=mn&amp;u=http%3A%2F%2Fwww.baidu.com%2f%3fbdorz_come%3d1 name=tj_login class=lb>登录</a> </noscript> <script>document.write('<a href=\"http://www.baidu.com/bdorz/login.gif?login&tpl=mn&u='+ encodeURIComponent(window.location.href+ (window.location.search === \"\" ? \"?\" : \"&\")+ \"bdorz_come=1\")+ '\" name=\"tj_login\" class=\"lb\">登录</a>');\r\n",
      "                </script> <a href=//www.baidu.com/more/ name=tj_briicon class=bri style=\"display: block;\">更多产品</a> </div> </div> </div> <div id=ftCon> <div id=ftConw> <p id=lh> <a href=http://home.baidu.com>关于百度</a> <a href=http://ir.baidu.com>About Baidu</a> </p> <p id=cp>&copy;2017&nbsp;Baidu&nbsp;<a href=http://www.baidu.com/duty/>使用百度前必读</a>&nbsp; <a href=http://jianyi.baidu.com/ class=cp-feedback>意见反馈</a>&nbsp;京ICP证030173号&nbsp; <img src=//www.baidu.com/img/gs.gif> </p> </div> </div> </div> </body> </html>\r\n",
      "\n"
     ]
    }
   ],
   "source": [
    "import requests\n",
    " \n",
    "r = requests.get('https://www.baidu.com')\n",
    "r.encoding=requests.utils.get_encodings_from_content(r.text)\n",
    "# 注意get_encodings_from_content的参数是字符串，所以要用r.text而不是r.content\n",
    "print(r.text)"
   ]
  },
  {
   "cell_type": "code",
   "execution_count": 8,
   "id": "e0a6becd",
   "metadata": {},
   "outputs": [
    {
     "name": "stdout",
     "output_type": "stream",
     "text": [
      "<!DOCTYPE html>\n",
      "<html lang=\"zh-CN\" dir=\"ltr\">\n",
      "  <head>\n",
      "    <title>北京谱仪精确测量中子电磁结构 揭开光子-核子相互作用之谜_腾讯新闻</title>\n",
      "    <meta name=\"keywords\" content=\"北京谱仪精确测量中子电磁结构 揭开光子-核子相互作用之谜,中科院高能所,光子,质子,中子,北京谱仪\">\n",
      "    <meta name=\"description\" content=\"《自然・物理》以封面文章形式发表成果论文。　中科院高能所 供图中新网北京11月11日电 (记者 孙自法)记者11日从中国科学院高能物理研究所(中科院高能所)获悉，北京谱仪III(BESIII)作为北……\">\n",
      "    <meta name=\"apub:time\" content=\"11/11/2021, 8:51:42 PM\">\n",
      "    <meta name=\"apub:from\" content=\"default\">\n",
      "    <meta http-equiv=\"X-UA-Compatible\" content=\"IE=Edge\" />\n",
      "<link rel=\"stylesheet\" href=\"//mat1.gtimg.com/qqcdn/qqindex2021/qqdc/css/index.css\" />\n",
      "<!--[if lte IE 8]><meta http-equiv=\"refresh\" content=\"0; url=/upgrade.htm\"><![endif]-->\n",
      "<!-- <meta name=\"sogou_site_verification\" content=\"SYWy6ahy7s\"/> -->\n",
      "<meta name=\"baidu-site-verification\" content=\"jJeIJ5X7pP\" />\n",
      "<link rel=\"shortcut icon\" href=\"//mat1.gtimg.com/www/icon/favicon2.ico\" />\n",
      "<link rel=\"stylesheet\" href=\"//vm.gtimg.cn/tencentvideo/txp/style/txp_desktop.css\" />\n",
      "<script src=\"//js.aq.qq.com/js/aq_common.js\"></script>\n",
      "<script>\n",
      "    // ��ゆ��濡���������ㄦ��搴�灞�涓����杞芥��JS��昏�� 2020/1/19 -1\n",
      "    if(location.href.indexOf('rain') === -1){\n",
      "        (function(){\n",
      "            var bp = document.createElement('script');\n",
      "            var curProtocol = window.location.protocol.split(':')[0];\n",
      "            if (curProtocol === 'https') {\n",
      "                bp.src = 'https://zz.bdstatic.com/linksubmit/push.js';        \n",
      "            }\n",
      "            else {\n",
      "                bp.src = 'http://push.zhanzhang.baidu.com/push.js';\n",
      "            }\n",
      "            var s = document.getElementsByTagName(\"script\")[0];\n",
      "            s.parentNode.insertBefore(bp, s);\n",
      "        })();\n",
      "    }\n",
      "</script>\n",
      "<script src=\"//mat1.gtimg.com/pingjs/ext2020/configF2017/5df6e3b3.js\" charset=\"utf-8\"></script>\n",
      "<script src=\"//mat1.gtimg.com/pingjs/ext2020/configF2017/5a978a31.js\" charset=\"utf-8\"></script>\n",
      "<script>window.conf_dcom = apub_5a978a31 </script>\n",
      "    <script>window.DATA = {\n",
      "\t\t\"article_id\": \"20211111A0AQ77\",\n",
      "\t\t\"article_type\": \"0\",\n",
      "\t\t\"title\": \"北京谱仪精确测量中子电磁结构 揭开光子-核子相互作用之谜\",\n",
      "\t\t\"abstract\": null,\n",
      "\t\t\"catalog1\": \"science\",\n",
      "\t\t\"catalog2\": \"science_wuzhikexue\",\n",
      "\t\t\"media\": \"中国新闻网\",\n",
      "\t\t\"media_id\": \"1124\",\n",
      "\t\t\"pubtime\": \"2021-11-11 19:13:32\",\n",
      "\t\t\"comment_id\": \"7522684610\",\n",
      "\t\t\"tags\": \"中科院高能所,光子,质子,中子,北京谱仪\",\n",
      "\t\t\"political\": 0,\n",
      "\t\t\"artTemplate\": null,\n",
      "\t\t\"FztCompetition\": null,\n",
      "\t\t\"FCompetitionName\": null,\n",
      "\t\t\"is_deleted\": 0,\n",
      "\t\t\"cms_id\": \"20211111A0AQ7700\",\n",
      "\t\t\"videoArr\": []\n",
      "}\n",
      "      \n",
      "    </script>\n",
      "  </head>\n",
      "  <body>\n",
      "    <div id=\"TopNav\"></div>\n",
      "    <div id=\"topAd\"></div>\n",
      "    <div class=\"qq_conent clearfix\">\n",
      "      <div class=\"LEFT\">\n",
      "        <h1>北京谱仪精确测量中子电磁结构 揭开光子-核子相互作用之谜</h1>\n",
      "        <div class=\"content clearfix\">\n",
      "          <div class=\"LeftTool\" id=\"LeftTool\"></div>\n",
      "          <!--内容-->\n",
      "          <div class=\"content-article\">\n",
      "            <!--导语-->\n",
      "            <p class=\"one-p\"><img class=\"content-picture\" src=\"//inews.gtimg.com/newsapp_bt/0/14167142397/1000\">\n",
      "            </p>\n",
      "            <p class=\"one-p\">《自然・物理》以封面文章形式发表成果论文。　中科院高能所 供图</p>\n",
      "            <p class=\"one-p\">中新网北京11月11日电 (记者 孙自法)记者11日从中国科学院高能物理研究所(中科院高能所)获悉，北京谱仪III(BESIII)作为北京正负电子对撞机核心科研装置之一，其国际合作组最近已实现对中子电磁结构精确测量，从而揭开困扰学界20多年的光子-核子相互作用之谜。</p>\n",
      "            <p class=\"one-p\">北京谱仪III国际合作组最新完成的对中子的类时电磁形状因子进行精确测量，实验结果不仅解决了长期存在的光子-核子耦合反常的问题，还观测到中子电磁形状因子随质心能量变化的周期性振荡结构。这项重要物理实验结果论文，近日以封面文章形式在国际学术期刊《自然・物理》发表。</p>\n",
      "            <p class=\"one-p\">据中科院高能所实验物理中心介绍，中子和质子统称为核子，它们是构成可见物质世界的主要成分。迄今为止核子的内部结构仍有许多未解之谜，长达20余年的光子-核子相互作用之谜即是其中之一。1998年意大利芬尼斯(FENICE)实验首次测量了中子的类时电磁形状因子，其结果表明光子-中子相互作用强于光子-质子相互作用，与夸克模型预期不符。</p>\n",
      "            <p class=\"one-p\"><img class=\"content-picture\" src=\"//inews.gtimg.com/newsapp_bt/0/14167142399/1000\">\n",
      "            </p>\n",
      "            <p class=\"one-p\">正负电子对湮灭到中子-反中子对的产生截面与质子-反质子对的产生截面的比值。　中科院高能所 供图</p>\n",
      "            <p class=\"one-p\">解决光子-核子相互作用之谜需精确测量核子的电磁形状因子，它是物理学家用来描述核子内部结构，特别是电密度或磁密度分布的一类基础观测量。然而，相关实验测量一直比较匮乏，原因在于电中性的中子在探测器中难以探测。</p>\n",
      "            <p class=\"one-p\">针对这一难题，北京谱仪III国际合作组通过创新的能量扫描方法，在能量区间(质心能量2.0-3.08GeV，即20亿-30.8亿电子伏特)研究了正负电子对湮灭到中子-反中子对过程。实验团队综合运用中子、反中子在不同子探测器中的信息来有效提高信噪比，还利用100亿J/ψ粒子数据对中子、反中子在探测器中的探测效率、触发效率做精确校准，从而获得中子电磁形状因子迄今最精确的测量结果，与FENICE实验结果相比，平均测量精度提高约30倍。结合北京谱仪III国际合作组之前获得的质子研究结果，最新得到光子-质子(中子)相互作用截面之比，结果清楚表明光子与质子耦合更强。</p>\n",
      "            <p class=\"one-p\">中科院高能所透露，北京谱仪III国际合作组这次实验还观测到中子电磁形状因子分布中的一个周期性振荡结构，该振荡分析受另一项基于美国斯坦福巴巴(BaBar)实验结果的研究所启发，其不同之处在于，质子的电磁形状因子围绕修改的偶极分布振荡，而中子的则围绕偶极分布振荡。如果假设振荡频率相同，振荡相位接近正交。</p>\n",
      "            <p class=\"one-p\"><img class=\"content-picture\" src=\"//inews.gtimg.com/newsapp_bt/0/14167142400/1000\">\n",
      "            </p>\n",
      "            <p class=\"one-p\">电磁形状因子扣除电偶分布后的拟合图，显示随质心能量变化的振荡结构。　中科院高能所 供图</p>\n",
      "            <p class=\"one-p\">北京谱仪III国际合作组实验团队表示，该振荡结构揭示了核子内部存在未理解的动力学机制，可能的解释包括末态散射效应以及与共振态的干涉等，这是理解核子电磁形状因子的新里程碑。</p>\n",
      "            <p class=\"one-p\">另据了解，1个月前，国际学术期刊《物理评论快报》发表北京谱仪III实验精确测量Ds^+介子的衰变常数的成果，这是目前世界上单次测量该衰变常数最精确的结果，对于标准模型的轻子普适性假设检验具有重要科学意义。(完)</p>\n",
      "            <div id=\"Status\"></div>\n",
      "          </div>\n",
      "        </div>\n",
      "        <div id=\"Comment\"></div>\n",
      "        <div id=\"Recomend\"></div>\n",
      "      </div>\n",
      "      <div class=\"RIGHT\" id=\"RIGHT\"></div>\n",
      "    </div>\n",
      "    <div id=\"bottomAd\"></div>\n",
      "    <div class=\"qq_footer\" id=\"Foot\"></div>\n",
      "    <div id=\"GoTop\"></div>\n",
      "    <script src=\"//mat1.gtimg.com/libs/jquery/1.12.0/jquery.min.js\"></script>\n",
      "<script type=\"text/javascript\" src=\"//h5.ssp.qq.com/static/web/websites/pcnewsplugin/sspad_20211229.js\" charset=\"utf-8\"></script>\n",
      "<script src=\"//mat1.gtimg.com/pingjs/ext2020/dc2017/publicjs/m/ping.js\" charset=\"gbk\"></script>\n",
      "<script src=\"//mat1.gtimg.com/pingjs/ext2020/2018/js/check-https-content.js\"></script>\n",
      "<script>\n",
      "if(typeof(pgvMain) == 'function'){pgvMain();}\n",
      "</script>\n",
      "<script type=\"text/javascript\" src=\"//imgcache.qq.com/qzone/biz/comm/js/qbs.js\"></script>\n",
      "<script type=\"text/javascript\">\n",
      "var TIME_BEFORE_LOAD_CRYSTAL = (new Date).getTime();\n",
      "</script>\n",
      "<script src=\"//ra.gtimg.com/web/crystal/v4.7Beta05Build050/crystal-min.js\" id=\"l_qq_com\" arguments=\"{'extension_js_src':'//ra.gtimg.com/web/crystal/v4.7Beta05Build050/crystal_ext-min.js', 'jsProfileOpen':'false', 'mo_page_ratio':'0.01', 'mo_ping_ratio':'0.01', 'mo_ping_script':'//ra.gtimg.com/sc/mo_ping-min.js'}\"></script>\n",
      "<script type=\"text/javascript\">\n",
      "if(typeof crystal === 'undefined' && Math.random() <= 1) {\n",
      "  (function() {\n",
      "    var TIME_AFTER_LOAD_CRYSTAL = (new Date).getTime();\n",
      "    var img = new Image(1,1);\n",
      "    img.src = \"//dp3.qq.com/qqcom/?adb=1&dm=new&err=1002&blockjs=\"+(TIME_AFTER_LOAD_CRYSTAL-TIME_BEFORE_LOAD_CRYSTAL);\n",
      "  })();\n",
      "}\n",
      "</script>\n",
      "<style>.absolute{position:absolute;}</style>\n",
      "<!--[if !IE]>|xGv00|bfa6be71716f6329ed6738978b6c1e2d<![endif]-->\n",
      "\n",
      "<script>\n",
      "var _mtac = {};\n",
      "(function() {\n",
      "    var mta = document.createElement(\"script\");\n",
      "    mta.src = \"//pingjs.qq.com/h5/stats.js?v2.0.2\";\n",
      "    mta.setAttribute(\"name\", \"MTAH5\");\n",
      "    mta.setAttribute(\"sid\", \"500651042\");\n",
      "    var s = document.getElementsByTagName(\"script\")[0];\n",
      "    s.parentNode.insertBefore(mta, s);\n",
      "})();\n",
      "</script>\n",
      "<script src=\"//mat1.gtimg.com/qqcdn/qqindex2021/dist/qqcom/beacon.min.js\" charset=\"utf-8\"></script>\n",
      "<script src=\"//mat1.gtimg.com/qqcdn/qqindex2021/qqdc/js/index.js\"></script>\n",
      "<script defer async type=\"text/javascript\" src=\"https://mat1.gtimg.com/qqcdn/qqindex2021/libs/barrier/aria.js?appid=9327b8b06379d9d1728bbfbe2025ef9c\" charset=\"utf-8\"></script>\n",
      "<script type=\"text/javascript\" charset=\"utf-8\">\n",
      "$(\".nav-list\").append('<a href=\"javascript:void(0)\" onclick=\"aria.start()\" style=\"float: left;padding: 14px 0 16px;height: 30px;line-height: 30px;font-size: 14px;color: #333;\" class=\"\">\\u65e0\\u969c\\u788d\\u6d4f\\u89c8</a>');\n",
      "</script>\n",
      "  </body>\n",
      "</html>\n"
     ]
    }
   ],
   "source": [
    "import requests\n",
    "\n",
    "url = \"https://new.qq.com/omn/20211111/20211111A0AQ7700.html\"\n",
    "r = requests.get(url)\n",
    "r.encoding='gb2312' # 根据网页编码设置\n",
    "\n",
    "print(r.text)\n",
    "mytext = r.text"
   ]
  },
  {
   "cell_type": "code",
   "execution_count": 9,
   "id": "20001071",
   "metadata": {},
   "outputs": [
    {
     "name": "stdout",
     "output_type": "stream",
     "text": [
      "\n",
      "            <!--导语-->\n",
      "            <p class=\"one-p\"><img class=\"content-picture\" src=\"//inews.gtimg.com/newsapp_bt/0/14167142397/1000\">\n",
      "            </p>\n",
      "            <p class=\"one-p\">《自然・物理》以封面文章形式发表成果论文。　中科院高能所 供图</p>\n",
      "            <p class=\"one-p\">中新网北京11月11日电 (记者 孙自法)记者11日从中国科学院高能物理研究所(中科院高能所)获悉，北京谱仪III(BESIII)作为北京正负电子对撞机核心科研装置之一，其国际合作组最近已实现对中子电磁结构精确测量，从而揭开困扰学界20多年的光子-核子相互作用之谜。</p>\n",
      "            <p class=\"one-p\">北京谱仪III国际合作组最新完成的对中子的类时电磁形状因子进行精确测量，实验结果不仅解决了长期存在的光子-核子耦合反常的问题，还观测到中子电磁形状因子随质心能量变化的周期性振荡结构。这项重要物理实验结果论文，近日以封面文章形式在国际学术期刊《自然・物理》发表。</p>\n",
      "            <p class=\"one-p\">据中科院高能所实验物理中心介绍，中子和质子统称为核子，它们是构成可见物质世界的主要成分。迄今为止核子的内部结构仍有许多未解之谜，长达20余年的光子-核子相互作用之谜即是其中之一。1998年意大利芬尼斯(FENICE)实验首次测量了中子的类时电磁形状因子，其结果表明光子-中子相互作用强于光子-质子相互作用，与夸克模型预期不符。</p>\n",
      "            <p class=\"one-p\"><img class=\"content-picture\" src=\"//inews.gtimg.com/newsapp_bt/0/14167142399/1000\">\n",
      "            </p>\n",
      "            <p class=\"one-p\">正负电子对湮灭到中子-反中子对的产生截面与质子-反质子对的产生截面的比值。　中科院高能所 供图</p>\n",
      "            <p class=\"one-p\">解决光子-核子相互作用之谜需精确测量核子的电磁形状因子，它是物理学家用来描述核子内部结构，特别是电密度或磁密度分布的一类基础观测量。然而，相关实验测量一直比较匮乏，原因在于电中性的中子在探测器中难以探测。</p>\n",
      "            <p class=\"one-p\">针对这一难题，北京谱仪III国际合作组通过创新的能量扫描方法，在能量区间(质心能量2.0-3.08GeV，即20亿-30.8亿电子伏特)研究了正负电子对湮灭到中子-反中子对过程。实验团队综合运用中子、反中子在不同子探测器中的信息来有效提高信噪比，还利用100亿J/ψ粒子数据对中子、反中子在探测器中的探测效率、触发效率做精确校准，从而获得中子电磁形状因子迄今最精确的测量结果，与FENICE实验结果相比，平均测量精度提高约30倍。结合北京谱仪III国际合作组之前获得的质子研究结果，最新得到光子-质子(中子)相互作用截面之比，结果清楚表明光子与质子耦合更强。</p>\n",
      "            <p class=\"one-p\">中科院高能所透露，北京谱仪III国际合作组这次实验还观测到中子电磁形状因子分布中的一个周期性振荡结构，该振荡分析受另一项基于美国斯坦福巴巴(BaBar)实验结果的研究所启发，其不同之处在于，质子的电磁形状因子围绕修改的偶极分布振荡，而中子的则围绕偶极分布振荡。如果假设振荡频率相同，振荡相位接近正交。</p>\n",
      "            <p class=\"one-p\"><img class=\"content-picture\" src=\"//inews.gtimg.com/newsapp_bt/0/14167142400/1000\">\n",
      "            </p>\n",
      "            <p class=\"one-p\">电磁形状因子扣除电偶分布后的拟合图，显示随质心能量变化的振荡结构。　中科院高能所 供图</p>\n",
      "            <p class=\"one-p\">北京谱仪III国际合作组实验团队表示，该振荡结构揭示了核子内部存在未理解的动力学机制，可能的解释包括末态散射效应以及与共振态的干涉等，这是理解核子电磁形状因子的新里程碑。</p>\n",
      "            <p class=\"one-p\">另据了解，1个月前，国际学术期刊《物理评论快报》发表北京谱仪III实验精确测量Ds^+介子的衰变常数的成果，这是目前世界上单次测量该衰变常数最精确的结果，对于标准模型的轻子普适性假设检验具有重要科学意义。(完)</p>\n",
      "            \n"
     ]
    }
   ],
   "source": [
    "temp = mytext.split(\"<div class=\\\"content-article\\\">\")[1]\n",
    "temp = temp.split(\"<div id=\\\"Status\\\"></div>\")[0]\n",
    "print(temp)\n"
   ]
  },
  {
   "cell_type": "code",
   "execution_count": 10,
   "id": "bc1bc82b",
   "metadata": {},
   "outputs": [
    {
     "name": "stdout",
     "output_type": "stream",
     "text": [
      "\n",
      "            <!--导语-->\n",
      "            <img class=\"content-picture\" src=\"//inews.gtimg.com/newsapp_bt/0/14167142397/1000\">\n",
      "            </p>\n",
      "            《自然・物理》以封面文章形式发表成果论文。　中科院高能所 供图</p>\n",
      "            中新网北京11月11日电 (记者 孙自法)记者11日从中国科学院高能物理研究所(中科院高能所)获悉，北京谱仪III(BESIII)作为北京正负电子对撞机核心科研装置之一，其国际合作组最近已实现对中子电磁结构精确测量，从而揭开困扰学界20多年的光子-核子相互作用之谜。</p>\n",
      "            北京谱仪III国际合作组最新完成的对中子的类时电磁形状因子进行精确测量，实验结果不仅解决了长期存在的光子-核子耦合反常的问题，还观测到中子电磁形状因子随质心能量变化的周期性振荡结构。这项重要物理实验结果论文，近日以封面文章形式在国际学术期刊《自然・物理》发表。</p>\n",
      "            据中科院高能所实验物理中心介绍，中子和质子统称为核子，它们是构成可见物质世界的主要成分。迄今为止核子的内部结构仍有许多未解之谜，长达20余年的光子-核子相互作用之谜即是其中之一。1998年意大利芬尼斯(FENICE)实验首次测量了中子的类时电磁形状因子，其结果表明光子-中子相互作用强于光子-质子相互作用，与夸克模型预期不符。</p>\n",
      "            <img class=\"content-picture\" src=\"//inews.gtimg.com/newsapp_bt/0/14167142399/1000\">\n",
      "            </p>\n",
      "            正负电子对湮灭到中子-反中子对的产生截面与质子-反质子对的产生截面的比值。　中科院高能所 供图</p>\n",
      "            解决光子-核子相互作用之谜需精确测量核子的电磁形状因子，它是物理学家用来描述核子内部结构，特别是电密度或磁密度分布的一类基础观测量。然而，相关实验测量一直比较匮乏，原因在于电中性的中子在探测器中难以探测。</p>\n",
      "            针对这一难题，北京谱仪III国际合作组通过创新的能量扫描方法，在能量区间(质心能量2.0-3.08GeV，即20亿-30.8亿电子伏特)研究了正负电子对湮灭到中子-反中子对过程。实验团队综合运用中子、反中子在不同子探测器中的信息来有效提高信噪比，还利用100亿J/ψ粒子数据对中子、反中子在探测器中的探测效率、触发效率做精确校准，从而获得中子电磁形状因子迄今最精确的测量结果，与FENICE实验结果相比，平均测量精度提高约30倍。结合北京谱仪III国际合作组之前获得的质子研究结果，最新得到光子-质子(中子)相互作用截面之比，结果清楚表明光子与质子耦合更强。</p>\n",
      "            中科院高能所透露，北京谱仪III国际合作组这次实验还观测到中子电磁形状因子分布中的一个周期性振荡结构，该振荡分析受另一项基于美国斯坦福巴巴(BaBar)实验结果的研究所启发，其不同之处在于，质子的电磁形状因子围绕修改的偶极分布振荡，而中子的则围绕偶极分布振荡。如果假设振荡频率相同，振荡相位接近正交。</p>\n",
      "            <img class=\"content-picture\" src=\"//inews.gtimg.com/newsapp_bt/0/14167142400/1000\">\n",
      "            </p>\n",
      "            电磁形状因子扣除电偶分布后的拟合图，显示随质心能量变化的振荡结构。　中科院高能所 供图</p>\n",
      "            北京谱仪III国际合作组实验团队表示，该振荡结构揭示了核子内部存在未理解的动力学机制，可能的解释包括末态散射效应以及与共振态的干涉等，这是理解核子电磁形状因子的新里程碑。</p>\n",
      "            另据了解，1个月前，国际学术期刊《物理评论快报》发表北京谱仪III实验精确测量Ds^+介子的衰变常数的成果，这是目前世界上单次测量该衰变常数最精确的结果，对于标准模型的轻子普适性假设检验具有重要科学意义。(完)</p>\n",
      "            \n"
     ]
    }
   ],
   "source": [
    "temp = temp.replace(\"<p class=\\\"one-p\\\">\", \"\")\n",
    "print(temp)"
   ]
  },
  {
   "cell_type": "code",
   "execution_count": 11,
   "id": "f8baa645",
   "metadata": {},
   "outputs": [
    {
     "name": "stdout",
     "output_type": "stream",
     "text": [
      "\n",
      "            <!--导语-->\n",
      "            <img class=\"content-picture\" src=\"//inews.gtimg.com/newsapp_bt/0/14167142397/1000\">\n",
      "            \n",
      "            《自然・物理》以封面文章形式发表成果论文。　中科院高能所 供图\n",
      "            中新网北京11月11日电 (记者 孙自法)记者11日从中国科学院高能物理研究所(中科院高能所)获悉，北京谱仪III(BESIII)作为北京正负电子对撞机核心科研装置之一，其国际合作组最近已实现对中子电磁结构精确测量，从而揭开困扰学界20多年的光子-核子相互作用之谜。\n",
      "            北京谱仪III国际合作组最新完成的对中子的类时电磁形状因子进行精确测量，实验结果不仅解决了长期存在的光子-核子耦合反常的问题，还观测到中子电磁形状因子随质心能量变化的周期性振荡结构。这项重要物理实验结果论文，近日以封面文章形式在国际学术期刊《自然・物理》发表。\n",
      "            据中科院高能所实验物理中心介绍，中子和质子统称为核子，它们是构成可见物质世界的主要成分。迄今为止核子的内部结构仍有许多未解之谜，长达20余年的光子-核子相互作用之谜即是其中之一。1998年意大利芬尼斯(FENICE)实验首次测量了中子的类时电磁形状因子，其结果表明光子-中子相互作用强于光子-质子相互作用，与夸克模型预期不符。\n",
      "            <img class=\"content-picture\" src=\"//inews.gtimg.com/newsapp_bt/0/14167142399/1000\">\n",
      "            \n",
      "            正负电子对湮灭到中子-反中子对的产生截面与质子-反质子对的产生截面的比值。　中科院高能所 供图\n",
      "            解决光子-核子相互作用之谜需精确测量核子的电磁形状因子，它是物理学家用来描述核子内部结构，特别是电密度或磁密度分布的一类基础观测量。然而，相关实验测量一直比较匮乏，原因在于电中性的中子在探测器中难以探测。\n",
      "            针对这一难题，北京谱仪III国际合作组通过创新的能量扫描方法，在能量区间(质心能量2.0-3.08GeV，即20亿-30.8亿电子伏特)研究了正负电子对湮灭到中子-反中子对过程。实验团队综合运用中子、反中子在不同子探测器中的信息来有效提高信噪比，还利用100亿J/ψ粒子数据对中子、反中子在探测器中的探测效率、触发效率做精确校准，从而获得中子电磁形状因子迄今最精确的测量结果，与FENICE实验结果相比，平均测量精度提高约30倍。结合北京谱仪III国际合作组之前获得的质子研究结果，最新得到光子-质子(中子)相互作用截面之比，结果清楚表明光子与质子耦合更强。\n",
      "            中科院高能所透露，北京谱仪III国际合作组这次实验还观测到中子电磁形状因子分布中的一个周期性振荡结构，该振荡分析受另一项基于美国斯坦福巴巴(BaBar)实验结果的研究所启发，其不同之处在于，质子的电磁形状因子围绕修改的偶极分布振荡，而中子的则围绕偶极分布振荡。如果假设振荡频率相同，振荡相位接近正交。\n",
      "            <img class=\"content-picture\" src=\"//inews.gtimg.com/newsapp_bt/0/14167142400/1000\">\n",
      "            \n",
      "            电磁形状因子扣除电偶分布后的拟合图，显示随质心能量变化的振荡结构。　中科院高能所 供图\n",
      "            北京谱仪III国际合作组实验团队表示，该振荡结构揭示了核子内部存在未理解的动力学机制，可能的解释包括末态散射效应以及与共振态的干涉等，这是理解核子电磁形状因子的新里程碑。\n",
      "            另据了解，1个月前，国际学术期刊《物理评论快报》发表北京谱仪III实验精确测量Ds^+介子的衰变常数的成果，这是目前世界上单次测量该衰变常数最精确的结果，对于标准模型的轻子普适性假设检验具有重要科学意义。(完)\n",
      "            \n"
     ]
    }
   ],
   "source": [
    "temp = temp.replace(\"</p>\", \"\")\n",
    "print(temp)"
   ]
  },
  {
   "cell_type": "code",
   "execution_count": 12,
   "id": "95fd7ccf",
   "metadata": {},
   "outputs": [
    {
     "name": "stdout",
     "output_type": "stream",
     "text": [
      "\n",
      "            <!--导语-->\n",
      "            \n",
      "            \n",
      "            《自然・物理》以封面文章形式发表成果论文。　中科院高能所 供图\n",
      "            中新网北京11月11日电 (记者 孙自法)记者11日从中国科学院高能物理研究所(中科院高能所)获悉，北京谱仪III(BESIII)作为北京正负电子对撞机核心科研装置之一，其国际合作组最近已实现对中子电磁结构精确测量，从而揭开困扰学界20多年的光子-核子相互作用之谜。\n",
      "            北京谱仪III国际合作组最新完成的对中子的类时电磁形状因子进行精确测量，实验结果不仅解决了长期存在的光子-核子耦合反常的问题，还观测到中子电磁形状因子随质心能量变化的周期性振荡结构。这项重要物理实验结果论文，近日以封面文章形式在国际学术期刊《自然・物理》发表。\n",
      "            据中科院高能所实验物理中心介绍，中子和质子统称为核子，它们是构成可见物质世界的主要成分。迄今为止核子的内部结构仍有许多未解之谜，长达20余年的光子-核子相互作用之谜即是其中之一。1998年意大利芬尼斯(FENICE)实验首次测量了中子的类时电磁形状因子，其结果表明光子-中子相互作用强于光子-质子相互作用，与夸克模型预期不符。\n",
      "            \n",
      "            \n",
      "            正负电子对湮灭到中子-反中子对的产生截面与质子-反质子对的产生截面的比值。　中科院高能所 供图\n",
      "            解决光子-核子相互作用之谜需精确测量核子的电磁形状因子，它是物理学家用来描述核子内部结构，特别是电密度或磁密度分布的一类基础观测量。然而，相关实验测量一直比较匮乏，原因在于电中性的中子在探测器中难以探测。\n",
      "            针对这一难题，北京谱仪III国际合作组通过创新的能量扫描方法，在能量区间(质心能量2.0-3.08GeV，即20亿-30.8亿电子伏特)研究了正负电子对湮灭到中子-反中子对过程。实验团队综合运用中子、反中子在不同子探测器中的信息来有效提高信噪比，还利用100亿J/ψ粒子数据对中子、反中子在探测器中的探测效率、触发效率做精确校准，从而获得中子电磁形状因子迄今最精确的测量结果，与FENICE实验结果相比，平均测量精度提高约30倍。结合北京谱仪III国际合作组之前获得的质子研究结果，最新得到光子-质子(中子)相互作用截面之比，结果清楚表明光子与质子耦合更强。\n",
      "            中科院高能所透露，北京谱仪III国际合作组这次实验还观测到中子电磁形状因子分布中的一个周期性振荡结构，该振荡分析受另一项基于美国斯坦福巴巴(BaBar)实验结果的研究所启发，其不同之处在于，质子的电磁形状因子围绕修改的偶极分布振荡，而中子的则围绕偶极分布振荡。如果假设振荡频率相同，振荡相位接近正交。\n",
      "            \n",
      "            \n",
      "            电磁形状因子扣除电偶分布后的拟合图，显示随质心能量变化的振荡结构。　中科院高能所 供图\n",
      "            北京谱仪III国际合作组实验团队表示，该振荡结构揭示了核子内部存在未理解的动力学机制，可能的解释包括末态散射效应以及与共振态的干涉等，这是理解核子电磁形状因子的新里程碑。\n",
      "            另据了解，1个月前，国际学术期刊《物理评论快报》发表北京谱仪III实验精确测量Ds^+介子的衰变常数的成果，这是目前世界上单次测量该衰变常数最精确的结果，对于标准模型的轻子普适性假设检验具有重要科学意义。(完)\n",
      "            \n"
     ]
    }
   ],
   "source": [
    "import re\n",
    "s = temp\n",
    "replaced = re.sub('<img .*>', '', s)\n",
    "print (replaced )"
   ]
  },
  {
   "cell_type": "code",
   "execution_count": 13,
   "id": "4685f070",
   "metadata": {},
   "outputs": [],
   "source": [
    "#导入相关的包\n",
    "import jieba\n",
    "import pandas as pd\n",
    "import matplotlib.pyplot as plt\n",
    "from wordcloud import WordCloud\n",
    "\n",
    "#这里将常用的标点符号弄出来，以便以词语去除相关异常符号\n",
    "from string import punctuation\n",
    "add_punc='，。、【 】 “”：；（）《》‘’{}？！⑦()、%^>℃：.”“^-——=&#@￥'\n",
    "add_punc=add_punc+punctuation\n"
   ]
  },
  {
   "cell_type": "code",
   "execution_count": 14,
   "id": "2dde5855",
   "metadata": {},
   "outputs": [
    {
     "name": "stderr",
     "output_type": "stream",
     "text": [
      "Building prefix dict from the default dictionary ...\n",
      "Loading model from cache C:\\Users\\ADMINI~1\\AppData\\Local\\Temp\\jieba.cache\n",
      "Loading model cost 1.387 seconds.\n",
      "Prefix dict has been built successfully.\n"
     ]
    }
   ],
   "source": [
    "j=[]\n",
    "if True:\n",
    "    words = jieba.cut(replaced,cut_all=True)#replaced为干净文本\n",
    "    for s in words:\n",
    "        #这里去除在符号集合中的元素\n",
    "        if s.strip() in add_punc:\n",
    "            pass\n",
    "        else:\n",
    "            j.append(s.strip())"
   ]
  },
  {
   "cell_type": "code",
   "execution_count": 15,
   "id": "f1fdd96e",
   "metadata": {},
   "outputs": [
    {
     "data": {
      "image/png": "[encoded data removed]",
      "text/plain": [
       "<Figure size 432x288 with 1 Axes>"
      ]
     },
     "metadata": {
      "needs_background": "light"
     },
     "output_type": "display_data"
    }
   ],
   "source": [
    "#制作云图\n",
    "#这个是创建一个云图，更改字体颜色等，大小等\n",
    "wc = WordCloud(\n",
    "    font_path='simhei.ttf',     #字体路劲\n",
    "    background_color='white',   #背景颜色\n",
    "    width=1000,\n",
    "    height=600,\n",
    "    max_font_size=300,            #字体大小\n",
    "    min_font_size=10,\n",
    "    max_words=100,\n",
    "    collocations=False,\n",
    "    font_step=1\n",
    ")\n",
    "#这里云图 传入数据必须是带有空格的才能识别\n",
    "s=wc.generate(' '.join(j))\n",
    "#必须有这个才会显示图\n",
    "plt.imshow(s)\n",
    "#去除横纵坐标轴\n",
    "plt.axis('off')\n",
    "plt.show()"
   ]
  },
  {
   "cell_type": "code",
   "execution_count": 16,
   "id": "97d05c54",
   "metadata": {},
   "outputs": [],
   "source": [
    "# test regex replace"
   ]
  },
  {
   "cell_type": "code",
   "execution_count": 17,
   "id": "bb8cfe18",
   "metadata": {},
   "outputs": [
    {
     "name": "stdout",
     "output_type": "stream",
     "text": [
      "test content\n"
     ]
    }
   ],
   "source": [
    "import re\n",
    "\n",
    "data = '<div class=\"content-article\">test content</div>'\n",
    "match = re.search(r'<div class=\\\"content-article\\\">(.*)<\\/div>', data)\n",
    "if match:\n",
    "    print (match.group(1))"
   ]
  },
  {
   "cell_type": "code",
   "execution_count": 18,
   "id": "3c4b4a7e",
   "metadata": {},
   "outputs": [],
   "source": [
    "# read database"
   ]
  },
  {
   "cell_type": "code",
   "execution_count": 19,
   "id": "3a4d367f",
   "metadata": {},
   "outputs": [
    {
     "name": "stdout",
     "output_type": "stream",
     "text": [
      "id=1,name=徐君\n",
      "id=2,name=陈跃国\n",
      "id=3,name=覃雄派\n"
     ]
    }
   ],
   "source": [
    "import pymysql\n",
    "\n",
    "# Open database connection\n",
    "con = pymysql.connect(host='localhost',\n",
    "                             user='root',\n",
    "                             password='rootroot',\n",
    "                             database='test1',\n",
    "                             cursorclass=pymysql.cursors.DictCursor)\n",
    "\n",
    "# prepare a cursor object using cursor() method\n",
    "cursor = con.cursor()\n",
    "sql = \"select * from namelist\"\n",
    "# Execute the SQL command\n",
    "cursor.execute(sql)\n",
    "\n",
    "# Fetch all the rows in a list of lists.\n",
    "results = cursor.fetchall()\n",
    "for row in results:\n",
    "    id = row['id']\n",
    "    name = row['name']\n",
    "    # Now print fetched result\n",
    "    print (\"id=%s,name=%s\" %  (id, name))\n",
    "\n",
    "# disconnect from server\n",
    "con.close()"
   ]
  },
  {
   "cell_type": "code",
   "execution_count": null,
   "id": "542bf4f7",
   "metadata": {},
   "outputs": [],
   "source": []
  }
 ],
 "metadata": {
  "kernelspec": {
   "display_name": "Python 3",
   "language": "python",
   "name": "python3"
  },
  "language_info": {
   "codemirror_mode": {
    "name": "ipython",
    "version": 3
   },
   "file_extension": ".py",
   "mimetype": "text/x-python",
   "name": "python",
   "nbconvert_exporter": "python",
   "pygments_lexer": "ipython3",
   "version": "3.8.8"
  }
 },
 "nbformat": 4,
 "nbformat_minor": 5
}
